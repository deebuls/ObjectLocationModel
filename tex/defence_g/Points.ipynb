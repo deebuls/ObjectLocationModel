{
 "cells": [
  {
   "cell_type": "markdown",
   "metadata": {
    "collapsed": true,
    "nbpresent": {
     "id": "a60fe32e-4477-4084-bb8c-4ec0044d30dd"
    }
   },
   "source": [
    "# Problem Statement\n",
    "\n",
    "\" Finding Spatio-Temporal pattern in Robot Memory \"\n",
    "\n"
   ]
  },
  {
   "cell_type": "markdown",
   "metadata": {
    "collapsed": true
   },
   "source": [
    "# Robot Memory ? \n",
    "\n",
    "# Spatio-temporal pattern ?\n",
    "\n",
    "\n",
    "* Domestic robots convert data to information for interacting with the environment. These information is used instantly and discarded.\n",
    "* These information if collected can be used to extract latent patterns in them.\n",
    "* Such a memory in a robot can be termed as ** robot memory **\n",
    "\n",
    "* We are interested in the finding pattern in the data."
   ]
  },
  {
   "cell_type": "markdown",
   "metadata": {},
   "source": [
    "# Rule based Machine Learning\n",
    "\n",
    "<iframe src=\"https://player.vimeo.com/video/9450954\" width=\"640\" height=\"360\" frameborder=\"0\" webkitallowfullscreen mozallowfullscreen allowfullscreen></iframe>\n",
    "<p><a href=\"https://vimeo.com/9450954\">Roboswarm: Global Knowledge base</a> from <a href=\"https://vimeo.com/user2952867\">Roboswarm</a> on <a href=\"https://vimeo.com\">Vimeo</a>.</p>"
   ]
  },
  {
   "cell_type": "code",
   "execution_count": null,
   "metadata": {
    "collapsed": true
   },
   "outputs": [],
   "source": []
  }
 ],
 "metadata": {
  "anaconda-cloud": {},
  "kernelspec": {
   "display_name": "Python [conda root]",
   "language": "python",
   "name": "conda-root-py"
  },
  "language_info": {
   "codemirror_mode": {
    "name": "ipython",
    "version": 3
   },
   "file_extension": ".py",
   "mimetype": "text/x-python",
   "name": "python",
   "nbconvert_exporter": "python",
   "pygments_lexer": "ipython3",
   "version": "3.4.5"
  },
  "nbpresent": {
   "slides": {
    "f90aa7fd-6c44-4a89-ab8a-49bdf71fe239": {
     "id": "f90aa7fd-6c44-4a89-ab8a-49bdf71fe239",
     "prev": null,
     "regions": {
      "bab61ae7-8cd2-4fb1-a193-a336b362d992": {
       "attrs": {
        "height": 0.2,
        "width": 0.4,
        "x": 0.1,
        "y": 0.7
       },
       "id": "bab61ae7-8cd2-4fb1-a193-a336b362d992"
      },
      "d7ac8280-f90c-4ae1-bb9f-4b3835d53f0f": {
       "attrs": {
        "height": 0.6,
        "width": 0.8,
        "x": 0.1,
        "y": 0.1
       },
       "content": {
        "cell": "a60fe32e-4477-4084-bb8c-4ec0044d30dd",
        "part": "source"
       },
       "id": "d7ac8280-f90c-4ae1-bb9f-4b3835d53f0f"
      },
      "dba8fd57-e5a5-4784-a091-6854b7f2b2f8": {
       "attrs": {
        "height": 0.2,
        "width": 0.4,
        "x": 0.5,
        "y": 0.7
       },
       "id": "dba8fd57-e5a5-4784-a091-6854b7f2b2f8"
      }
     }
    }
   },
   "themes": {}
  }
 },
 "nbformat": 4,
 "nbformat_minor": 1
}
