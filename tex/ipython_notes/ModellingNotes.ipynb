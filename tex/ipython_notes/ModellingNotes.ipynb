{
 "cells": [
  {
   "cell_type": "markdown",
   "metadata": {},
   "source": [
    "# Model Explanation\n",
    "\n",
    "Probabilistic models are used to learn the latent information in the observed data. Different models are used to explain the latent variables in the dataset. What are the latent variables and how are they represented in the models. Lets take a simple example of a coin toss. The observations in this example is the toss output as head or tails. The observation has dichotomial values either True or False. For such observations we use the Bernoulli distribution to describe the stocastic variable in the model. The Bernouli distribution can be expressed with a single variable p, which is the probability of getting HEAD. Since it is probability it will take value between 0 and 1. The probability variable p of the Bernoulli distribution is the latent variable in the model. Thus in this example based on the observations (i.e. HEAD / TAIL ) obtained from different trials , is modelled as a bernoulli distribution and used to learn the latent variable p.\n",
    "\n",
    "Thus probabilistic model based learning we need to first create a structure of the model which are combinations of  distributions. The distributions are decided based on the observations. Based on the distributions in the model the appropriate latent variables are determined. Now the model is made to observe the data and latent variables are inferred from them. The Inferred variables are then used to predict future values of the model.\n",
    "\n",
    "Different models with increasing comlpexity are developed for the object location modelling task. The following section describes each of the models along with the modelling process.\n",
    "\n",
    "## Object Location Model\n",
    "\n",
    "In our thesis we are trying to predict the current and future location of an object in a specific home environment using previous observed locations of the object by an autonomous mobile robot.\n",
    "Why we need to predict ?(# TODO)\n",
    "Object location are challenging to predict because of the **uncertainties**  involved in their location. More than the uncertainties in a domestic environment humans manipulate these obejct and change their location without informing the robot.(TODO : Challenges in object location prediction expand this!! )  The hypothesis is that the object location have a pattern and these pattern is influenced by time. We base our hypothesis that objects in environments move because of the influence of humans. We know that humans have a temporal pattern involved in their daily life. This temporal patterns influence the object locations.\n",
    "We wo\n",
    "\n",
    "### Dirichlet-Categorical model\n",
    "\n",
    "The observations made by the robot is a triplet as  (object_name, location, time). The location are semantic names of different locations in the domestic environment. \n",
    "\n",
    "![](./images/dirichlet_categorical_simple.png)\n",
    "\n",
    "### Hierarchical Dirichlet-Categorical model\n",
    "\n",
    "![](./images/dirichlet_categorical_hierarchical.png)\n",
    "\n",
    "\n",
    "### Beta-Bernoulli model\n",
    "![](./images/beta_bernoulli.png)\n",
    "\n",
    "### Hierarchical Beta-Bernoulli model\n",
    "\n"
   ]
  },
  {
   "cell_type": "code",
   "execution_count": null,
   "metadata": {
    "collapsed": true
   },
   "outputs": [],
   "source": []
  }
 ],
 "metadata": {
  "kernelspec": {
   "display_name": "Python 3",
   "language": "python",
   "name": "python3"
  },
  "language_info": {
   "codemirror_mode": {
    "name": "ipython",
    "version": 3
   },
   "file_extension": ".py",
   "mimetype": "text/x-python",
   "name": "python",
   "nbconvert_exporter": "python",
   "pygments_lexer": "ipython3",
   "version": "3.5.2"
  }
 },
 "nbformat": 4,
 "nbformat_minor": 0
}
