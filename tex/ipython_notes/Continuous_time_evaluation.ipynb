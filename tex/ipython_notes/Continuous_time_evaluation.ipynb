{
 "cells": [
  {
   "cell_type": "markdown",
   "metadata": {},
   "source": [
    "# Modelling with continuous time"
   ]
  },
  {
   "cell_type": "markdown",
   "metadata": {},
   "source": [
    "Even though the aim of the thesis was to advance the state of the art in prediction of the object location, we also worked on the three parts prediction-inference-decision regarding the object location.\n",
    "\n",
    "~~These approaches propose to do this by learning the\n",
    "“structure of routine” in human mobility (Eagle and Pentland, 2009) to make predictions\n",
    "about future individual mobility. The implicit assumption behind these approaches is\n",
    "that future location behaviour follows the pattern set by historical behaviour.~~\n",
    "\n",
    "~~While this assumption is, more often than not, accurate, it is arguable whether it describes\n",
    "the full range of human mobility patterns. Intuitively, it is expected that individuals\n",
    "transition through phases of relatively high predictability (e.g., during a working day\n",
    "at the office)or while attending regular football practice on a Saturday afternoon), to\n",
    "sudden spikes in unpredictability (e.g., travelling to another city on a weekend break, or\n",
    "while on sick leave). Consequently, there are contexts in which historical patterns have\n",
    "more to say about future mobility than others. The work described in this chapter is\n",
    "concerned with analysing and predicting departures from routine using such contexts.~~\n",
    "\n",
    "Environment models serve as important resources for an autonomous robot by providing it\n",
    "with the necessary task-relevant information about its habitat. Robots can make use of environment models such that they perform their tasks more reliably, flexibly, and efficiently. For\n",
    "example, a robot assistant that knows where cups are located, does not have to search for them.\n",
    "Similarly, a robot can only clean up a part of the world if it understands what are the objects\n",
    "that can be picked up but also the location where they normally belong. In general, robots\n",
    "must know information about the functions of objects such as the handles of doors, in order to\n",
    "manipulate them competently. To function efficiently, it is imperative that these environment\n",
    "models are acquired autonomously and therefore support the deployment of mobile robots in\n",
    "new environments, without requiring too many software updates or manual user input, because\n",
    "they are able to adapt themselves to the changes in the environment."
   ]
  },
  {
   "cell_type": "code",
   "execution_count": null,
   "metadata": {
    "collapsed": true
   },
   "outputs": [],
   "source": []
  }
 ],
 "metadata": {
  "kernelspec": {
   "display_name": "Python 3",
   "language": "python",
   "name": "python3"
  },
  "language_info": {
   "codemirror_mode": {
    "name": "ipython",
    "version": 3
   },
   "file_extension": ".py",
   "mimetype": "text/x-python",
   "name": "python",
   "nbconvert_exporter": "python",
   "pygments_lexer": "ipython3",
   "version": "3.5.2"
  }
 },
 "nbformat": 4,
 "nbformat_minor": 0
}
