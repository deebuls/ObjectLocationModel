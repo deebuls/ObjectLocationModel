{
 "cells": [
  {
   "cell_type": "code",
   "execution_count": 1,
   "metadata": {
    "collapsed": true
   },
   "outputs": [],
   "source": [
    "import numpy as np\n",
    "import pandas as pd\n",
    "import seaborn as sns\n",
    "import matplotlib.pyplot as plt\n",
    "from collections import Counter"
   ]
  },
  {
   "cell_type": "markdown",
   "metadata": {},
   "source": [
    "# Loading Dataset\n",
    "\n",
    "Dataset provided is in the format (minute,location) . Each line represents location of person every minute.\n",
    "\n",
    "The data is split day wise and then hour wise respectively.\n"
   ]
  },
  {
   "cell_type": "code",
   "execution_count": 2,
   "metadata": {
    "collapsed": false
   },
   "outputs": [
    {
     "name": "stdout",
     "output_type": "stream",
     "text": [
      "(24, 112)\n"
     ]
    }
   ],
   "source": [
    "dataset = pd.read_csv('./locations.min' , names=['location', 'time'])\n",
    "dataset['time'] = dataset.index\n",
    "dataset['time'] = pd.to_timedelta(dataset['time'], unit='m')\n",
    "    \n",
    "split_dataset = pd.DataFrame()\n",
    "\n",
    "hour_dataset = pd.DataFrame()\n",
    "\n",
    "for count, x in enumerate(range(0,161281,1440)):\n",
    "    if x == 0:\n",
    "        pass\n",
    "    else:\n",
    "        split_dataset['day'+str(count)] = dataset[x-1440:x]['location'].as_matrix()\n",
    "        hour_list = []\n",
    "        for hr_count, hour in enumerate(range(0, 1441, 60)):\n",
    "            if hour == 0:\n",
    "                pass\n",
    "            else:\n",
    "                L = split_dataset['day'+str(count)][hour-60:hour].as_matrix()\n",
    "                #Finding the maximum occurance each hour\n",
    "                hour_list.append(Counter(L).most_common(1)[0][0])\n",
    "        \n",
    "        hour_dataset[count] = hour_list\n",
    "print(hour_dataset.shape)\n"
   ]
  },
  {
   "cell_type": "code",
   "execution_count": null,
   "metadata": {
    "collapsed": false
   },
   "outputs": [],
   "source": []
  },
  {
   "cell_type": "code",
   "execution_count": 3,
   "metadata": {
    "collapsed": false
   },
   "outputs": [
    {
     "data": {
      "text/plain": [
       "(50, 24)"
      ]
     },
     "execution_count": 3,
     "metadata": {},
     "output_type": "execute_result"
    }
   ],
   "source": [
    "training_days_dataset = hour_dataset.loc[:,:50].as_matrix()\n",
    "training_days_dataset = training_days_dataset.T\n",
    "training_days_dataset.shape"
   ]
  },
  {
   "cell_type": "code",
   "execution_count": 4,
   "metadata": {
    "collapsed": false
   },
   "outputs": [],
   "source": [
    "# Constants for learning\n",
    "\n",
    "n_timeIntervals = 24\n",
    "n_trials = 50        # Each trial is single day readings. we will use 50 days readings for learning\n",
    "n_locations = 10 "
   ]
  },
  {
   "cell_type": "code",
   "execution_count": 5,
   "metadata": {
    "collapsed": false
   },
   "outputs": [
    {
     "data": {
      "text/plain": [
       "(50, 24)"
      ]
     },
     "execution_count": 5,
     "metadata": {},
     "output_type": "execute_result"
    }
   ],
   "source": [
    "from bayespy import nodes\n",
    "import numpy as np\n",
    "\n",
    "p_theta = nodes.Dirichlet(np.ones(n_locations),\n",
    "                          plates=(n_timeIntervals,),\n",
    "                          name='p_theta')\n",
    "\n",
    "location_model = nodes.Categorical(p_theta,\n",
    "                        plates=(n_trials,n_timeIntervals),\n",
    "                        name='location_model')\n",
    "location_model.plates"
   ]
  },
  {
   "cell_type": "code",
   "execution_count": 6,
   "metadata": {
    "collapsed": true
   },
   "outputs": [],
   "source": [
    "location_model.observe(training_days_dataset)"
   ]
  },
  {
   "cell_type": "markdown",
   "metadata": {},
   "source": [
    "# Inference"
   ]
  },
  {
   "cell_type": "code",
   "execution_count": 7,
   "metadata": {
    "collapsed": false
   },
   "outputs": [],
   "source": [
    "from bayespy.inference import VB\n",
    "Q = VB(location_model, p_theta)"
   ]
  },
  {
   "cell_type": "code",
   "execution_count": 8,
   "metadata": {
    "collapsed": false
   },
   "outputs": [
    {
     "name": "stdout",
     "output_type": "stream",
     "text": [
      "Iteration 1: loglike=-1.411918e+03 (0.000 seconds)\n",
      "Iteration 2: loglike=-1.411918e+03 (0.010 seconds)\n",
      "Converged at iteration 2.\n"
     ]
    }
   ],
   "source": [
    "Q.update(repeat=1000)"
   ]
  },
  {
   "cell_type": "code",
   "execution_count": 9,
   "metadata": {
    "collapsed": false
   },
   "outputs": [
    {
     "data": {
      "image/png": "[encoded data removed]",
      "text/plain": [
       "<matplotlib.figure.Figure at 0x7efd2ce09e48>"
      ]
     },
     "metadata": {},
     "output_type": "display_data"
    }
   ],
   "source": [
    "%matplotlib inline\n",
    "import bayespy.plot as bpplt\n",
    "bpplt.hinton(Q['p_theta'])\n",
    "bpplt.pyplot.title('Posterior Distribution of location distributions each hour')\n",
    "bpplt.pyplot.xlabel('Locations')\n",
    "bpplt.pyplot.ylabel('timezone')\n",
    "bpplt.pyplot.show()"
   ]
  },
  {
   "cell_type": "code",
   "execution_count": 30,
   "metadata": {
    "collapsed": false
   },
   "outputs": [
    {
     "data": {
      "text/plain": [
       "array([2, 0, 0, 0, 0, 0, 2, 0, 9, 9, 2, 2, 9, 9, 2, 2, 2, 3, 2, 2, 2, 2, 2,\n",
       "       2])"
      ]
     },
     "execution_count": 30,
     "metadata": {},
     "output_type": "execute_result"
    }
   ],
   "source": [
    "location_prediction_model = nodes.Categorical(p_theta,\n",
    "                    #    plates=(n_trials,n_timeIntervals),\n",
    "                        name='location_prediction_model')\n",
    "moments = location_prediction_model.get_moments()\n",
    "\n"
   ]
  },
  {
   "cell_type": "code",
   "execution_count": 31,
   "metadata": {
    "collapsed": false
   },
   "outputs": [
    {
     "data": {
      "text/plain": [
       "array([0, 0, 0, 0, 0, 0, 7, 0, 8, 0, 0, 9, 3, 9, 9, 2, 9, 2, 2, 2, 2, 2, 5,\n",
       "       2])"
      ]
     },
     "execution_count": 31,
     "metadata": {},
     "output_type": "execute_result"
    }
   ],
   "source": [
    "nodes.Categorical(p_theta).random()"
   ]
  }
 ],
 "metadata": {
  "kernelspec": {
   "display_name": "Python 3",
   "language": "python",
   "name": "python3"
  },
  "language_info": {
   "codemirror_mode": {
    "name": "ipython",
    "version": 3
   },
   "file_extension": ".py",
   "mimetype": "text/x-python",
   "name": "python",
   "nbconvert_exporter": "python",
   "pygments_lexer": "ipython3",
   "version": "3.5.1"
  }
 },
 "nbformat": 4,
 "nbformat_minor": 0
}
