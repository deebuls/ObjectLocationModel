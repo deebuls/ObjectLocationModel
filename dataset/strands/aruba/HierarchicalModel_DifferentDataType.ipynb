{
 "cells": [
  {
   "cell_type": "code",
   "execution_count": 2,
   "metadata": {
    "collapsed": false
   },
   "outputs": [],
   "source": [
    "from bayespy import nodes"
   ]
  },
  {
   "cell_type": "code",
   "execution_count": 19,
   "metadata": {
    "collapsed": true
   },
   "outputs": [],
   "source": [
    "# Some constatnts we will be using \n",
    "\n",
    "n_colors = 5 #Number of colors in each bag\n",
    "n_bags = 3 # Number of bags\n",
    "n_trials = 10"
   ]
  },
  {
   "cell_type": "markdown",
   "metadata": {},
   "source": [
    "# Using Mixture Mdoel or Gates"
   ]
  },
  {
   "cell_type": "code",
   "execution_count": 20,
   "metadata": {
    "collapsed": false
   },
   "outputs": [
    {
     "data": {
      "text/plain": [
       "10"
      ]
     },
     "execution_count": 20,
     "metadata": {},
     "output_type": "execute_result"
    }
   ],
   "source": [
    "from bayespy import nodes\n",
    "import numpy as np\n",
    "\n",
    "\n",
    "beta = 1e-1 * np.ones(n_colors)\n",
    "#Generate some random distributions for the color distribution inside each bags\n",
    "p_color = nodes.Dirichlet(beta,\n",
    "                          plates = (n_bags,)).random()\n",
    "\n",
    "#The marbles drawn based on the distribution for 10 trials\n",
    "# Using same p_color distribution as in the above example\n",
    "draw_marbles = nodes.Categorical(p_color,\n",
    "                                 plates=(n_trials, n_bags)).random()\n",
    "len(draw_marbles)"
   ]
  },
  {
   "cell_type": "code",
   "execution_count": 39,
   "metadata": {
    "collapsed": false
   },
   "outputs": [
    {
     "data": {
      "text/plain": [
       "(23, 2)"
      ]
     },
     "execution_count": 39,
     "metadata": {},
     "output_type": "execute_result"
    }
   ],
   "source": [
    "\n",
    "tuple_data1 = np.column_stack((0 * np.ones(len(draw_marbles)), draw_marbles[:,0]))\n",
    "tuple_data2 = np.column_stack((1 * np.ones(len(draw_marbles)), draw_marbles[:,1]))\n",
    "tuple_data3 = np.column_stack((2 * np.ones(len(draw_marbles)), draw_marbles[:,2]))\n",
    "tuple_data = np.row_stack((tuple_data1, tuple_data2, tuple_data3))\n",
    "tuple_data_reduced = np.row_stack((tuple_data1, tuple_data2, tuple_data3[:3,:]))\n",
    "tuple_data_reduced.shape"
   ]
  },
  {
   "cell_type": "code",
   "execution_count": 41,
   "metadata": {
    "collapsed": false
   },
   "outputs": [],
   "source": [
    "n_trials_stacked = n_trials * n_bags\n",
    "p_theta = nodes.Dirichlet(np.ones(n_colors),\n",
    "                          plates=(n_bags,),\n",
    "                          name='p_theta')\n",
    "bags = tuple_data[:,0].reshape((n_trials_stacked,1)).astype(int)\n",
    "#bags = tuple_data_reduced[:,0].reshape((23,1)).astype(int)\n",
    "Y = nodes.Mixture(bags, nodes.Categorical, p_theta)\n"
   ]
  },
  {
   "cell_type": "code",
   "execution_count": 42,
   "metadata": {
    "collapsed": true
   },
   "outputs": [],
   "source": [
    "#Y.observe(tuple_data[:,1].reshape(n_trials_stacked,1).astype(int))\n",
    "Y.observe(tuple_data_reduced[:,1].reshape(23,1).astype(int))\n"
   ]
  },
  {
   "cell_type": "code",
   "execution_count": 43,
   "metadata": {
    "collapsed": false
   },
   "outputs": [
    {
     "name": "stdout",
     "output_type": "stream",
     "text": [
      "Iteration 1: loglike=-2.348211e+01 (0.010 seconds)\n",
      "Iteration 2: loglike=-2.348211e+01 (0.000 seconds)\n",
      "Converged at iteration 2.\n"
     ]
    }
   ],
   "source": [
    "from bayespy.inference import VB\n",
    "Q = VB(Y, p_theta)\n",
    "Q.update(repeat=1000)"
   ]
  },
  {
   "cell_type": "code",
   "execution_count": 44,
   "metadata": {
    "collapsed": false
   },
   "outputs": [
    {
     "data": {
      "image/png": "[encoded data removed]",
      "text/plain": [
       "<matplotlib.figure.Figure at 0x7fd2e85db860>"
      ]
     },
     "metadata": {},
     "output_type": "display_data"
    }
   ],
   "source": [
    "%matplotlib inline\n",
    "import bayespy.plot as bpplt\n",
    "bpplt.hinton(p_theta)\n",
    "bpplt.pyplot.title(\"Learned Distribution of colors using Multinomial Distribution\")\n",
    "bpplt.pyplot.show()"
   ]
  },
  {
   "cell_type": "code",
   "execution_count": 31,
   "metadata": {
    "collapsed": false
   },
   "outputs": [
    {
     "data": {
      "image/png": "[encoded data removed]",
      "text/plain": [
       "<matplotlib.figure.Figure at 0x7fd31409d860>"
      ]
     },
     "metadata": {},
     "output_type": "display_data"
    }
   ],
   "source": [
    "%matplotlib inline\n",
    "import bayespy.plot as bpplt\n",
    "#bpplt.pdf(p_theta.pdf, np.linspace(-10, 20, num=100), color='k', name=r'\\mu')\n",
    "bpplt.hinton(p_color)\n",
    "bpplt.pyplot.title(\"Actual Distribution of colors using Multinomial Distribution\")\n",
    "bpplt.pyplot.show()"
   ]
  },
  {
   "cell_type": "code",
   "execution_count": 78,
   "metadata": {
    "collapsed": false
   },
   "outputs": [
    {
     "data": {
      "text/plain": [
       "(10, 1)"
      ]
     },
     "execution_count": 78,
     "metadata": {},
     "output_type": "execute_result"
    }
   ],
   "source": [
    "from bayespy import nodes\n",
    "import numpy as np\n",
    "\n",
    "mu = nodes.Dirichlet([1])\n",
    "\n",
    "p_theta = nodes.Dirichlet(np.ones(n_colors),\n",
    "                          plates=(n_bags,),\n",
    "                          name='p_theta')\n",
    "\n",
    "\n",
    "\n",
    "bag1_model = nodes.Categorical(p_theta[0],\n",
    "                        plates=(n_trials, 1),\n",
    "                        name='bag_model_1')\n",
    "\n",
    "bag2_model = nodes.Categorical(p_theta[1],\n",
    "                        plates=(n_trials, 1),\n",
    "                        name='bag_model_2')\n",
    "\n",
    "bag3_model = nodes.Categorical(p_theta[2],\n",
    "                        plates=(n_trials, 1),\n",
    "                        name='bag_model_3')\n",
    "\n",
    "bag1_model.plates"
   ]
  },
  {
   "cell_type": "code",
   "execution_count": 65,
   "metadata": {
    "collapsed": false
   },
   "outputs": [
    {
     "data": {
      "text/plain": [
       "array([[0, 2, 0],\n",
       "       [0, 2, 0],\n",
       "       [0, 2, 0],\n",
       "       [0, 2, 0],\n",
       "       [0, 2, 0],\n",
       "       [0, 2, 0],\n",
       "       [0, 2, 0],\n",
       "       [0, 2, 0],\n",
       "       [0, 2, 0],\n",
       "       [0, 2, 0]])"
      ]
     },
     "execution_count": 65,
     "metadata": {},
     "output_type": "execute_result"
    }
   ],
   "source": [
    "from bayespy import nodes\n",
    "import numpy as np\n",
    "\n",
    "\n",
    "beta = 1e-1 * np.ones(n_colors)\n",
    "#Generate some random distributions for the color distribution inside each bags\n",
    "p_color = nodes.Dirichlet(beta,\n",
    "                          plates = (n_bags,)).random()\n",
    "\n",
    "#The marbles drawn based on the distribution for 10 trials\n",
    "# Using same p_color distribution as in the above example\n",
    "draw_marbles = nodes.Categorical(p_color,\n",
    "                                 plates=(n_trials, n_bags)).random()\n",
    "draw_marbles"
   ]
  },
  {
   "cell_type": "code",
   "execution_count": 66,
   "metadata": {
    "collapsed": false
   },
   "outputs": [],
   "source": [
    "bag1_model.observe(draw_marbles[:,0].reshape((10,1)))\n",
    "bag2_model.observe(draw_marbles[:,1].reshape((10,1)))\n",
    "bag3_model.observe(draw_marbles[:,2].reshape((10,1)))\n"
   ]
  },
  {
   "cell_type": "code",
   "execution_count": 67,
   "metadata": {
    "collapsed": true
   },
   "outputs": [],
   "source": [
    "bag3_model.unobserve()"
   ]
  },
  {
   "cell_type": "code",
   "execution_count": 68,
   "metadata": {
    "collapsed": false
   },
   "outputs": [
    {
     "name": "stdout",
     "output_type": "stream",
     "text": [
      "Iteration 1: loglike=-1.381751e+01 (0.010 seconds)\n",
      "Iteration 2: loglike=-1.381751e+01 (0.000 seconds)\n",
      "Converged at iteration 2.\n"
     ]
    }
   ],
   "source": [
    "from bayespy.inference import VB\n",
    "Q = VB(bag1_model, bag2_model, bag3_model, p_theta)\n",
    "Q.update(repeat=1000)"
   ]
  },
  {
   "cell_type": "code",
   "execution_count": 69,
   "metadata": {
    "collapsed": false
   },
   "outputs": [
    {
     "data": {
      "image/png": "[encoded data removed]",
      "text/plain": [
       "<matplotlib.figure.Figure at 0x7f18f924a390>"
      ]
     },
     "metadata": {},
     "output_type": "display_data"
    }
   ],
   "source": [
    "%matplotlib inline\n",
    "import bayespy.plot as bpplt\n",
    "bpplt.hinton(p_theta)\n",
    "bpplt.pyplot.title(\"Learned Distribution of colors using Multinomial Distribution\")\n",
    "bpplt.pyplot.show()"
   ]
  },
  {
   "cell_type": "code",
   "execution_count": 70,
   "metadata": {
    "collapsed": false
   },
   "outputs": [
    {
     "data": {
      "image/png": "[encoded data removed]",
      "text/plain": [
       "<matplotlib.figure.Figure at 0x7f190ccd9c18>"
      ]
     },
     "metadata": {},
     "output_type": "display_data"
    }
   ],
   "source": [
    "%matplotlib inline\n",
    "import bayespy.plot as bpplt\n",
    "#bpplt.pdf(p_theta.pdf, np.linspace(-10, 20, num=100), color='k', name=r'\\mu')\n",
    "bpplt.hinton(p_color)\n",
    "bpplt.pyplot.title(\"Actual Distribution of colors using Multinomial Distribution\")\n",
    "bpplt.pyplot.show()"
   ]
  },
  {
   "cell_type": "code",
   "execution_count": 45,
   "metadata": {
    "collapsed": false
   },
   "outputs": [
    {
     "ename": "TypeError",
     "evalue": "unorderable types: Dirichlet() < int()",
     "output_type": "error",
     "traceback": [
      "\u001b[1;31m---------------------------------------------------------------------------\u001b[0m",
      "\u001b[1;31mAttributeError\u001b[0m                            Traceback (most recent call last)",
      "\u001b[1;32m/home/deebuls/anaconda3/lib/python3.5/site-packages/bayespy/inference/vmp/nodes/node.py\u001b[0m in \u001b[0;36m_ensure_moments\u001b[1;34m(node, moments_class, **kwargs)\u001b[0m\n\u001b[0;32m    351\u001b[0m         \u001b[1;32mtry\u001b[0m\u001b[1;33m:\u001b[0m\u001b[1;33m\u001b[0m\u001b[0m\n\u001b[1;32m--> 352\u001b[1;33m             \u001b[0mconverter\u001b[0m \u001b[1;33m=\u001b[0m \u001b[0mnode\u001b[0m\u001b[1;33m.\u001b[0m\u001b[0m_moments\u001b[0m\u001b[1;33m.\u001b[0m\u001b[0mget_converter\u001b[0m\u001b[1;33m(\u001b[0m\u001b[0mmoments_class\u001b[0m\u001b[1;33m)\u001b[0m\u001b[1;33m\u001b[0m\u001b[0m\n\u001b[0m\u001b[0;32m    353\u001b[0m         \u001b[1;32mexcept\u001b[0m \u001b[0mAttributeError\u001b[0m\u001b[1;33m:\u001b[0m\u001b[1;33m\u001b[0m\u001b[0m\n",
      "\u001b[1;31mAttributeError\u001b[0m: 'list' object has no attribute '_moments'",
      "\nDuring handling of the above exception, another exception occurred:\n",
      "\u001b[1;31mTypeError\u001b[0m                                 Traceback (most recent call last)",
      "\u001b[1;32m<ipython-input-45-60a498a0f892>\u001b[0m in \u001b[0;36m<module>\u001b[1;34m()\u001b[0m\n\u001b[0;32m      3\u001b[0m p_theta = nodes.Dirichlet([mu],\n\u001b[0;32m      4\u001b[0m                           \u001b[0mplates\u001b[0m\u001b[1;33m=\u001b[0m\u001b[1;33m(\u001b[0m\u001b[0mn_bags\u001b[0m\u001b[1;33m,\u001b[0m\u001b[1;33m)\u001b[0m\u001b[1;33m,\u001b[0m\u001b[1;33m\u001b[0m\u001b[0m\n\u001b[1;32m----> 5\u001b[1;33m                           name='p_theta')\n\u001b[0m",
      "\u001b[1;32m/home/deebuls/anaconda3/lib/python3.5/site-packages/bayespy/inference/vmp/nodes/expfamily.py\u001b[0m in \u001b[0;36mconstructor_decorator\u001b[1;34m(self, *args, **kwargs)\u001b[0m\n\u001b[0;32m     77\u001b[0m \u001b[1;33m\u001b[0m\u001b[0m\n\u001b[0;32m     78\u001b[0m             \u001b[1;33m(\u001b[0m\u001b[0margs\u001b[0m\u001b[1;33m,\u001b[0m \u001b[0mkwargs\u001b[0m\u001b[1;33m,\u001b[0m \u001b[0mdims\u001b[0m\u001b[1;33m,\u001b[0m \u001b[0mplates\u001b[0m\u001b[1;33m,\u001b[0m \u001b[0mdist\u001b[0m\u001b[1;33m,\u001b[0m \u001b[0mstats\u001b[0m\u001b[1;33m,\u001b[0m \u001b[0mpstats\u001b[0m\u001b[1;33m)\u001b[0m \u001b[1;33m=\u001b[0m\u001b[0;31m \u001b[0m\u001b[0;31m\\\u001b[0m\u001b[1;33m\u001b[0m\u001b[0m\n\u001b[1;32m---> 79\u001b[1;33m               \u001b[0mself\u001b[0m\u001b[1;33m.\u001b[0m\u001b[0m_constructor\u001b[0m\u001b[1;33m(\u001b[0m\u001b[1;33m*\u001b[0m\u001b[0margs\u001b[0m\u001b[1;33m,\u001b[0m \u001b[1;33m**\u001b[0m\u001b[0mkwargs\u001b[0m\u001b[1;33m)\u001b[0m\u001b[1;33m\u001b[0m\u001b[0m\n\u001b[0m\u001b[0;32m     80\u001b[0m \u001b[1;33m\u001b[0m\u001b[0m\n\u001b[0;32m     81\u001b[0m             \u001b[0mself\u001b[0m\u001b[1;33m.\u001b[0m\u001b[0mdims\u001b[0m \u001b[1;33m=\u001b[0m \u001b[0mdims\u001b[0m\u001b[1;33m\u001b[0m\u001b[0m\n",
      "\u001b[1;32m/home/deebuls/anaconda3/lib/python3.5/site-packages/bayespy/inference/vmp/nodes/dirichlet.py\u001b[0m in \u001b[0;36m_constructor\u001b[1;34m(cls, alpha, **kwargs)\u001b[0m\n\u001b[0;32m    266\u001b[0m         \"\"\"\n\u001b[0;32m    267\u001b[0m         \u001b[1;31m# Number of categories\u001b[0m\u001b[1;33m\u001b[0m\u001b[1;33m\u001b[0m\u001b[0m\n\u001b[1;32m--> 268\u001b[1;33m         \u001b[0malpha\u001b[0m \u001b[1;33m=\u001b[0m \u001b[0mcls\u001b[0m\u001b[1;33m.\u001b[0m\u001b[0m_ensure_moments\u001b[0m\u001b[1;33m(\u001b[0m\u001b[0malpha\u001b[0m\u001b[1;33m,\u001b[0m \u001b[0mDirichletPriorMoments\u001b[0m\u001b[1;33m)\u001b[0m\u001b[1;33m\u001b[0m\u001b[0m\n\u001b[0m\u001b[0;32m    269\u001b[0m         \u001b[0mparent_moments\u001b[0m \u001b[1;33m=\u001b[0m \u001b[1;33m(\u001b[0m\u001b[0malpha\u001b[0m\u001b[1;33m.\u001b[0m\u001b[0m_moments\u001b[0m\u001b[1;33m,\u001b[0m\u001b[1;33m)\u001b[0m\u001b[1;33m\u001b[0m\u001b[0m\n\u001b[0;32m    270\u001b[0m \u001b[1;33m\u001b[0m\u001b[0m\n",
      "\u001b[1;32m/home/deebuls/anaconda3/lib/python3.5/site-packages/bayespy/inference/vmp/nodes/node.py\u001b[0m in \u001b[0;36m_ensure_moments\u001b[1;34m(node, moments_class, **kwargs)\u001b[0m\n\u001b[0;32m    355\u001b[0m             return Constant(\n\u001b[0;32m    356\u001b[0m                 \u001b[0mmoments_class\u001b[0m\u001b[1;33m.\u001b[0m\u001b[0mfrom_values\u001b[0m\u001b[1;33m(\u001b[0m\u001b[0mnode\u001b[0m\u001b[1;33m,\u001b[0m \u001b[1;33m**\u001b[0m\u001b[0mkwargs\u001b[0m\u001b[1;33m)\u001b[0m\u001b[1;33m,\u001b[0m\u001b[1;33m\u001b[0m\u001b[0m\n\u001b[1;32m--> 357\u001b[1;33m                 \u001b[0mnode\u001b[0m\u001b[1;33m\u001b[0m\u001b[0m\n\u001b[0m\u001b[0;32m    358\u001b[0m             )\n\u001b[0;32m    359\u001b[0m         \u001b[1;32melse\u001b[0m\u001b[1;33m:\u001b[0m\u001b[1;33m\u001b[0m\u001b[0m\n",
      "\u001b[1;32m/home/deebuls/anaconda3/lib/python3.5/site-packages/bayespy/inference/vmp/nodes/constant.py\u001b[0m in \u001b[0;36m__init__\u001b[1;34m(self, moments, x, **kwargs)\u001b[0m\n\u001b[0;32m     24\u001b[0m         \u001b[0mx\u001b[0m \u001b[1;33m=\u001b[0m \u001b[0mnp\u001b[0m\u001b[1;33m.\u001b[0m\u001b[0masanyarray\u001b[0m\u001b[1;33m(\u001b[0m\u001b[0mx\u001b[0m\u001b[1;33m)\u001b[0m\u001b[1;33m\u001b[0m\u001b[0m\n\u001b[0;32m     25\u001b[0m         \u001b[1;31m# Compute moments\u001b[0m\u001b[1;33m\u001b[0m\u001b[1;33m\u001b[0m\u001b[0m\n\u001b[1;32m---> 26\u001b[1;33m         \u001b[0mself\u001b[0m\u001b[1;33m.\u001b[0m\u001b[0mu\u001b[0m \u001b[1;33m=\u001b[0m \u001b[0mself\u001b[0m\u001b[1;33m.\u001b[0m\u001b[0m_moments\u001b[0m\u001b[1;33m.\u001b[0m\u001b[0mcompute_fixed_moments\u001b[0m\u001b[1;33m(\u001b[0m\u001b[0mx\u001b[0m\u001b[1;33m)\u001b[0m\u001b[1;33m\u001b[0m\u001b[0m\n\u001b[0m\u001b[0;32m     27\u001b[0m         \u001b[1;31m# Dimensions of the moments\u001b[0m\u001b[1;33m\u001b[0m\u001b[1;33m\u001b[0m\u001b[0m\n\u001b[0;32m     28\u001b[0m         \u001b[0mdims\u001b[0m \u001b[1;33m=\u001b[0m \u001b[0mself\u001b[0m\u001b[1;33m.\u001b[0m\u001b[0m_moments\u001b[0m\u001b[1;33m.\u001b[0m\u001b[0mdims\u001b[0m\u001b[1;33m\u001b[0m\u001b[0m\n",
      "\u001b[1;32m/home/deebuls/anaconda3/lib/python3.5/site-packages/bayespy/inference/vmp/nodes/dirichlet.py\u001b[0m in \u001b[0;36mcompute_fixed_moments\u001b[1;34m(self, alpha)\u001b[0m\n\u001b[0;32m     40\u001b[0m         \u001b[1;32mif\u001b[0m \u001b[0mnp\u001b[0m\u001b[1;33m.\u001b[0m\u001b[0mndim\u001b[0m\u001b[1;33m(\u001b[0m\u001b[0malpha\u001b[0m\u001b[1;33m)\u001b[0m \u001b[1;33m<\u001b[0m \u001b[1;36m1\u001b[0m\u001b[1;33m:\u001b[0m\u001b[1;33m\u001b[0m\u001b[0m\n\u001b[0;32m     41\u001b[0m             \u001b[1;32mraise\u001b[0m \u001b[0mValueError\u001b[0m\u001b[1;33m(\u001b[0m\u001b[1;34m\"The prior sample sizes must be a vector\"\u001b[0m\u001b[1;33m)\u001b[0m\u001b[1;33m\u001b[0m\u001b[0m\n\u001b[1;32m---> 42\u001b[1;33m         \u001b[1;32mif\u001b[0m \u001b[0mnp\u001b[0m\u001b[1;33m.\u001b[0m\u001b[0many\u001b[0m\u001b[1;33m(\u001b[0m\u001b[0malpha\u001b[0m \u001b[1;33m<\u001b[0m \u001b[1;36m0\u001b[0m\u001b[1;33m)\u001b[0m\u001b[1;33m:\u001b[0m\u001b[1;33m\u001b[0m\u001b[0m\n\u001b[0m\u001b[0;32m     43\u001b[0m             \u001b[1;32mraise\u001b[0m \u001b[0mValueError\u001b[0m\u001b[1;33m(\u001b[0m\u001b[1;34m\"The prior sample sizes must be non-negative\"\u001b[0m\u001b[1;33m)\u001b[0m\u001b[1;33m\u001b[0m\u001b[0m\n\u001b[0;32m     44\u001b[0m \u001b[1;33m\u001b[0m\u001b[0m\n",
      "\u001b[1;31mTypeError\u001b[0m: unorderable types: Dirichlet() < int()"
     ]
    }
   ],
   "source": [
    "mu = nodes.Dirichlet([1])\n",
    "\n",
    "p_theta = nodes.Dirichlet([mu],\n",
    "                          plates=(n_bags,),\n",
    "                          name='p_theta')"
   ]
  }
 ],
 "metadata": {
  "kernelspec": {
   "display_name": "Python 3",
   "language": "python",
   "name": "python3"
  },
  "language_info": {
   "codemirror_mode": {
    "name": "ipython",
    "version": 3
   },
   "file_extension": ".py",
   "mimetype": "text/x-python",
   "name": "python",
   "nbconvert_exporter": "python",
   "pygments_lexer": "ipython3",
   "version": "3.5.1"
  }
 },
 "nbformat": 4,
 "nbformat_minor": 0
}
