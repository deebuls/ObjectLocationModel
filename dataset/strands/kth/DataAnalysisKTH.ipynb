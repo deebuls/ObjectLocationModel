{
 "cells": [
  {
   "cell_type": "code",
   "execution_count": 2,
   "metadata": {
    "collapsed": false
   },
   "outputs": [],
   "source": [
    "import pandas as pd\n",
    "import matplotlib.pyplot as plt\n",
    "import glob\n",
    "import seaborn as sns"
   ]
  },
  {
   "cell_type": "code",
   "execution_count": 3,
   "metadata": {
    "collapsed": false
   },
   "outputs": [
    {
     "name": "stdout",
     "output_type": "stream",
     "text": [
      "(27, 37)\n",
      "(100, 37)\n"
     ]
    }
   ],
   "source": [
    "#File path of all the files\n",
    "test_filepath = \"./test/*.occ\"\n",
    "train_filepath = \"./train/*.occ\"\n",
    "\n",
    "#Creating a sample dataset adding both column time and data in it\n",
    "kth_dataset = pd.read_csv('./train/01.occ', sep=' ', names = ['time', 'data'])\n",
    "kth_test_dataset = pd.read_csv('./test/01.occ', sep=' ', names = ['time', 'data'])\n",
    "\n",
    "#Dropping data column since it will re read again\n",
    "kth_dataset = kth_dataset.drop('data', axis=1)\n",
    "kth_test_dataset = kth_test_dataset.drop('data', axis=1)\n",
    "\n",
    "#glob returns all the data, sorted sorts it, then read csv read each file \n",
    "for count, filename in enumerate(sorted(glob.glob(test_filepath))):\n",
    "    data = pd.read_csv(filename, sep = ' ', names = ['time', 'data'])\n",
    "    kth_test_dataset[str(count)] = data['data']\n",
    "    \n",
    "kth_test_dataset['time'] = pd.to_datetime(kth_test_dataset['time'],unit='s')\n",
    "\n",
    "kth_test_dataset = kth_test_dataset.set_index('time')\n",
    "\n",
    "print kth_test_dataset.shape\n",
    "\n",
    "for count, filename in enumerate(sorted(glob.glob(train_filepath))):\n",
    "    data = pd.read_csv(filename, sep = ' ', names = ['time', 'data'])\n",
    "    kth_dataset[str(count)] = data['data']\n",
    "    \n",
    "kth_dataset['time'] = pd.to_datetime(kth_dataset['time'],unit='s')\n",
    "\n",
    "kth_dataset = kth_dataset.set_index('time')\n",
    "print kth_dataset.shape"
   ]
  },
  {
   "cell_type": "code",
   "execution_count": 43,
   "metadata": {
    "collapsed": false
   },
   "outputs": [
    {
     "name": "stdout",
     "output_type": "stream",
     "text": [
      "Using matplotlib backend: Qt4Agg\n"
     ]
    }
   ],
   "source": [
    "%matplotlib\n",
    "kth_dataset[['11','12']]\n",
    "sns.heatmap(kth_dataset[['11', '12']].T)\n",
    "plt.xticks(rotation=-90) \n",
    "plt.show()"
   ]
  },
  {
   "cell_type": "code",
   "execution_count": 75,
   "metadata": {
    "collapsed": false
   },
   "outputs": [
    {
     "ename": "AttributeError",
     "evalue": "'module' object has no attribute 'yaxis'",
     "output_type": "error",
     "traceback": [
      "\u001b[1;31m---------------------------------------------------------------------------\u001b[0m",
      "\u001b[1;31mAttributeError\u001b[0m                            Traceback (most recent call last)",
      "\u001b[1;32m<ipython-input-75-a13ffe2f4638>\u001b[0m in \u001b[0;36m<module>\u001b[1;34m()\u001b[0m\n\u001b[0;32m      3\u001b[0m \u001b[0msns\u001b[0m\u001b[1;33m.\u001b[0m\u001b[0mheatmap\u001b[0m\u001b[1;33m(\u001b[0m\u001b[0mkth_dataset\u001b[0m\u001b[1;33m[\u001b[0m\u001b[1;34m'2014-09-21 16:32:03'\u001b[0m\u001b[1;33m:\u001b[0m\u001b[1;34m'2014-09-24 16:14:16'\u001b[0m\u001b[1;33m]\u001b[0m\u001b[1;33m)\u001b[0m\u001b[1;33m\u001b[0m\u001b[0m\n\u001b[0;32m      4\u001b[0m \u001b[0mplt\u001b[0m\u001b[1;33m.\u001b[0m\u001b[0myticks\u001b[0m\u001b[1;33m(\u001b[0m\u001b[0mrotation\u001b[0m\u001b[1;33m=\u001b[0m\u001b[1;36m0\u001b[0m\u001b[1;33m)\u001b[0m\u001b[1;33m\u001b[0m\u001b[0m\n\u001b[1;32m----> 5\u001b[1;33m \u001b[0mplt\u001b[0m\u001b[1;33m.\u001b[0m\u001b[0myaxis\u001b[0m\u001b[1;33m.\u001b[0m\u001b[0mset_major_formatter\u001b[0m\u001b[1;33m(\u001b[0m\u001b[0mmdates\u001b[0m\u001b[1;33m.\u001b[0m\u001b[0mDateFormatter\u001b[0m\u001b[1;33m(\u001b[0m\u001b[1;34m'%Y.%m.%d'\u001b[0m\u001b[1;33m)\u001b[0m\u001b[1;33m)\u001b[0m\u001b[1;33m\u001b[0m\u001b[0m\n\u001b[0m\u001b[0;32m      6\u001b[0m \u001b[1;33m\u001b[0m\u001b[0m\n\u001b[0;32m      7\u001b[0m \u001b[0mplt\u001b[0m\u001b[1;33m.\u001b[0m\u001b[0mshow\u001b[0m\u001b[1;33m(\u001b[0m\u001b[1;33m)\u001b[0m\u001b[1;33m\u001b[0m\u001b[0m\n",
      "\u001b[1;31mAttributeError\u001b[0m: 'module' object has no attribute 'yaxis'"
     ]
    }
   ],
   "source": [
    "import matplotlib.dates as mdates\n",
    "\n",
    "sns.heatmap(kth_dataset['2014-09-21 16:32:03':'2014-09-24 16:14:16'])\n",
    "plt.yticks(rotation=0) \n",
    "plt.show()"
   ]
  },
  {
   "cell_type": "code",
   "execution_count": 33,
   "metadata": {
    "collapsed": false
   },
   "outputs": [
    {
     "name": "stdout",
     "output_type": "stream",
     "text": [
      "Using matplotlib backend: Qt4Agg\n"
     ]
    }
   ],
   "source": [
    "%matplotlib\n",
    "import matplotlib.dates as mdates\n",
    "\n",
    "# build the figure\n",
    "fig, ax = plt.subplots()\n",
    "sns.heatmap(kth_dataset.T, ax=ax)\n",
    "\n",
    "# assign locator and formatter for the xaxis ticks.\n",
    "#ax.yaxis.set_major_locator(mdates.AutoDateLocator())\n",
    "#ax.yaxis.set_major_formatter(mdates.DateFormatter('%Y.%m.%d'))\n",
    "\n",
    "# put the labels at 45deg since they tend to be too long\n",
    "plt.yticks(rotation=0)\n",
    "plt.xticks(rotation=-90)\n",
    "plt.show()"
   ]
  }
 ],
 "metadata": {
  "kernelspec": {
   "display_name": "Python 2",
   "language": "python",
   "name": "python2"
  },
  "language_info": {
   "codemirror_mode": {
    "name": "ipython",
    "version": 2
   },
   "file_extension": ".py",
   "mimetype": "text/x-python",
   "name": "python",
   "nbconvert_exporter": "python",
   "pygments_lexer": "ipython2",
   "version": "2.7.11"
  }
 },
 "nbformat": 4,
 "nbformat_minor": 0
}
