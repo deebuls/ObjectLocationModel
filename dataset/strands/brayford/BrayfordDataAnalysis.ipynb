{
 "cells": [
  {
   "cell_type": "code",
   "execution_count": 12,
   "metadata": {
    "collapsed": false
   },
   "outputs": [],
   "source": [
    "import numpy as np\n",
    "import pandas as pd\n",
    "import seaborn as sns\n",
    "import matplotlib.pyplot as plt\n",
    "from collections import Counter\n",
    "import glob"
   ]
  },
  {
   "cell_type": "code",
   "execution_count": 13,
   "metadata": {
    "collapsed": false
   },
   "outputs": [],
   "source": [
    "dataset = pd.read_csv('./february_03.txt' , names=['presence'])\n",
    "dataset.shape\n",
    "dataset['time'] = dataset.index\n",
    "dataset['time'] = pd.to_timedelta(dataset['time']*10, unit='m')\n"
   ]
  },
  {
   "cell_type": "code",
   "execution_count": 36,
   "metadata": {
    "collapsed": false
   },
   "outputs": [
    {
     "name": "stdout",
     "output_type": "stream",
     "text": [
      "(1008, 9)\n"
     ]
    }
   ],
   "source": [
    "test_data_filenames = ['february*.txt']\n",
    "train_data_filenames = ['learning*.txt', 'november*.txt']\n",
    "\n",
    "#create empty dataframe\n",
    "train_dataset = pd.read_csv('./learning_03.txt' , names=['presence'])\n",
    "train_dataset['time'] = train_dataset.index\n",
    "train_dataset['time'] = pd.to_timedelta(train_dataset['time']*10, unit='m')\n",
    "train_dataset = train_dataset.set_index('time')\n",
    "\n",
    "for count, name in enumerate(sorted(glob.glob('learning*.txt'))):\n",
    "    dataset = pd.read_csv(name , names=['presence'])\n",
    "    train_dataset[count] = dataset['presence'].as_matrix()\n",
    "\n",
    "print train_dataset.shape"
   ]
  },
  {
   "cell_type": "code",
   "execution_count": 35,
   "metadata": {
    "collapsed": false
   },
   "outputs": [
    {
     "name": "stdout",
     "output_type": "stream",
     "text": [
      "Using matplotlib backend: Qt4Agg\n"
     ]
    }
   ],
   "source": [
    "%matplotlib\n",
    "sns.heatmap(train_dataset.loc[0:120], linewidths=.01, annot=True, fmt='d')\n",
    "plt.yticks(rotation=0)\n",
    "plt.show()"
   ]
  },
  {
   "cell_type": "markdown",
   "metadata": {},
   "source": [
    "#TODO\n",
    "\n",
    "1 The data is very sparse so visualization fails\n",
    "2 Need a method in panda to splice the data in cy"
   ]
  }
 ],
 "metadata": {
  "kernelspec": {
   "display_name": "Python 2",
   "language": "python",
   "name": "python2"
  },
  "language_info": {
   "codemirror_mode": {
    "name": "ipython",
    "version": 2
   },
   "file_extension": ".py",
   "mimetype": "text/x-python",
   "name": "python",
   "nbconvert_exporter": "python",
   "pygments_lexer": "ipython2",
   "version": "2.7.11"
  }
 },
 "nbformat": 4,
 "nbformat_minor": 0
}
