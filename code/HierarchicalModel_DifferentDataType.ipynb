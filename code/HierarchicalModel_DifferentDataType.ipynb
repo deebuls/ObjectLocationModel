{
 "cells": [
  {
   "cell_type": "code",
   "execution_count": 1,
   "metadata": {
    "collapsed": false
   },
   "outputs": [],
   "source": [
    "from bayespy import nodes"
   ]
  },
  {
   "cell_type": "code",
   "execution_count": 2,
   "metadata": {
    "collapsed": true
   },
   "outputs": [],
   "source": [
    "# Some constatnts we will be using \n",
    "\n",
    "n_colors = 5 #Number of colors in each bag\n",
    "n_bags = 3 # Number of bags\n",
    "n_trials = 10"
   ]
  },
  {
   "cell_type": "markdown",
   "metadata": {},
   "source": [
    "# Using Mixture Mdoel or Gates"
   ]
  },
  {
   "cell_type": "code",
   "execution_count": 26,
   "metadata": {
    "collapsed": false
   },
   "outputs": [
    {
     "data": {
      "text/plain": [
       "10"
      ]
     },
     "execution_count": 26,
     "metadata": {},
     "output_type": "execute_result"
    }
   ],
   "source": [
    "from bayespy import nodes\n",
    "import numpy as np\n",
    "\n",
    "\n",
    "beta = 1e-1 * np.ones(n_colors)\n",
    "#Generate some random distributions for the color distribution inside each bags\n",
    "p_color = nodes.Dirichlet(beta,\n",
    "                          plates = (n_bags,)).random()\n",
    "\n",
    "#The marbles drawn based on the distribution for 10 trials\n",
    "# Using same p_color distribution as in the above example\n",
    "draw_marbles = nodes.Categorical(p_color,\n",
    "                                 plates=(n_trials, n_bags)).random()\n",
    "len(draw_marbles)"
   ]
  },
  {
   "cell_type": "code",
   "execution_count": 27,
   "metadata": {
    "collapsed": false
   },
   "outputs": [
    {
     "data": {
      "text/plain": [
       "(23, 2)"
      ]
     },
     "execution_count": 27,
     "metadata": {},
     "output_type": "execute_result"
    }
   ],
   "source": [
    "\n",
    "tuple_data1 = np.column_stack((0 * np.ones(len(draw_marbles)), draw_marbles[:,0]))\n",
    "tuple_data2 = np.column_stack((1 * np.ones(len(draw_marbles)), draw_marbles[:,1]))\n",
    "tuple_data3 = np.column_stack((2 * np.ones(len(draw_marbles)), draw_marbles[:,2]))\n",
    "tuple_data = np.row_stack((tuple_data1, tuple_data2, tuple_data3))\n",
    "tuple_data_reduced = np.row_stack((tuple_data1, tuple_data2[:3,:], tuple_data3))\n",
    "tuple_data_reduced.shape"
   ]
  },
  {
   "cell_type": "code",
   "execution_count": 33,
   "metadata": {
    "collapsed": false
   },
   "outputs": [
    {
     "data": {
      "text/plain": [
       "array([[0, 2, 2],\n",
       "       [1, 2, 4],\n",
       "       [3, 2, 4],\n",
       "       [0, 4, 2],\n",
       "       [0, 4, 3],\n",
       "       [0, 2, 4],\n",
       "       [1, 2, 3],\n",
       "       [1, 4, 3],\n",
       "       [1, 1, 3],\n",
       "       [1, 2, 3]])"
      ]
     },
     "execution_count": 33,
     "metadata": {},
     "output_type": "execute_result"
    }
   ],
   "source": [
    "draw_marbles"
   ]
  },
  {
   "cell_type": "code",
   "execution_count": 28,
   "metadata": {
    "collapsed": false
   },
   "outputs": [],
   "source": [
    "n_trials_stacked = n_trials * n_bags\n",
    "p_theta = nodes.Dirichlet(np.ones(n_colors),\n",
    "                          plates=(n_bags,),\n",
    "                          name='p_theta')\n",
    "#bags = tuple_data[:,0].reshape((n_trials_stacked,1)).astype(int)\n",
    "bags = tuple_data_reduced[:,0].reshape((23,1)).astype(int)\n",
    "Y = nodes.Mixture(bags, nodes.Categorical, p_theta)\n"
   ]
  },
  {
   "cell_type": "code",
   "execution_count": 29,
   "metadata": {
    "collapsed": false
   },
   "outputs": [],
   "source": [
    "#Y.observe(tuple_data[:,1].reshape(n_trials_stacked,1).astype(int))\n",
    "Y.observe(tuple_data_reduced[:,1].reshape(23,1).astype(int))\n"
   ]
  },
  {
   "cell_type": "code",
   "execution_count": 30,
   "metadata": {
    "collapsed": false
   },
   "outputs": [
    {
     "name": "stdout",
     "output_type": "stream",
     "text": [
      "Iteration 1: loglike=-3.234374e+01 (0.010 seconds)\n",
      "Iteration 2: loglike=-3.234374e+01 (0.000 seconds)\n",
      "Converged at iteration 2.\n"
     ]
    }
   ],
   "source": [
    "from bayespy.inference import VB\n",
    "Q = VB(Y, p_theta)\n",
    "Q.update(repeat=1000)"
   ]
  },
  {
   "cell_type": "code",
   "execution_count": 25,
   "metadata": {
    "collapsed": false
   },
   "outputs": [
    {
     "data": {
      "image/png": "[encoded data removed]",
      "text/plain": [
       "<matplotlib.figure.Figure at 0x7fa0b8cd7e48>"
      ]
     },
     "metadata": {},
     "output_type": "display_data"
    }
   ],
   "source": [
    "%matplotlib inline\n",
    "import bayespy.plot as bpplt\n",
    "bpplt.hinton(p_theta)\n",
    "bpplt.pyplot.title(\"Learned Distribution of colors using Multinomial Distribution\")\n",
    "bpplt.pyplot.show()"
   ]
  },
  {
   "cell_type": "code",
   "execution_count": 31,
   "metadata": {
    "collapsed": false
   },
   "outputs": [
    {
     "data": {
      "image/png": "[encoded data removed]",
      "text/plain": [
       "<matplotlib.figure.Figure at 0x7fa0b8b68630>"
      ]
     },
     "metadata": {},
     "output_type": "display_data"
    }
   ],
   "source": [
    "%matplotlib inline\n",
    "import bayespy.plot as bpplt\n",
    "#bpplt.pdf(p_theta.pdf, np.linspace(-10, 20, num=100), color='k', name=r'\\mu')\n",
    "bpplt.hinton(p_color)\n",
    "bpplt.pyplot.title(\"Actual Distribution of colors using Multinomial Distribution\")\n",
    "bpplt.pyplot.show()"
   ]
  },
  {
   "cell_type": "code",
   "execution_count": 34,
   "metadata": {
    "collapsed": false
   },
   "outputs": [
    {
     "data": {
      "text/plain": [
       "(10, 1)"
      ]
     },
     "execution_count": 34,
     "metadata": {},
     "output_type": "execute_result"
    }
   ],
   "source": [
    "from bayespy import nodes\n",
    "import numpy as np\n",
    "\n",
    "mu = nodes.Dirichlet([1])\n",
    "\n",
    "p_theta = nodes.Dirichlet(np.ones(n_colors),\n",
    "                          plates=(n_bags,),\n",
    "                          name='p_theta')\n",
    "\n",
    "\n",
    "\n",
    "bag1_model = nodes.Categorical(p_theta[0],\n",
    "                        plates=(n_trials, 1),\n",
    "                        name='bag_model_1')\n",
    "\n",
    "bag2_model = nodes.Categorical(p_theta[1],\n",
    "                        plates=(n_trials, 1),\n",
    "                        name='bag_model_2')\n",
    "\n",
    "bag3_model = nodes.Categorical(p_theta[2],\n",
    "                        plates=(n_trials, 1),\n",
    "                        name='bag_model_3')\n",
    "\n",
    "bag1_model.plates"
   ]
  },
  {
   "cell_type": "code",
   "execution_count": 35,
   "metadata": {
    "collapsed": false
   },
   "outputs": [
    {
     "data": {
      "text/plain": [
       "array([[2, 4, 4],\n",
       "       [2, 4, 4],\n",
       "       [2, 4, 4],\n",
       "       [2, 4, 4],\n",
       "       [2, 4, 4],\n",
       "       [2, 4, 4],\n",
       "       [2, 4, 4],\n",
       "       [2, 0, 4],\n",
       "       [2, 2, 4],\n",
       "       [2, 4, 4]])"
      ]
     },
     "execution_count": 35,
     "metadata": {},
     "output_type": "execute_result"
    }
   ],
   "source": [
    "from bayespy import nodes\n",
    "import numpy as np\n",
    "\n",
    "\n",
    "beta = 1e-1 * np.ones(n_colors)\n",
    "#Generate some random distributions for the color distribution inside each bags\n",
    "p_color = nodes.Dirichlet(beta,\n",
    "                          plates = (n_bags,)).random()\n",
    "\n",
    "#The marbles drawn based on the distribution for 10 trials\n",
    "# Using same p_color distribution as in the above example\n",
    "draw_marbles = nodes.Categorical(p_color,\n",
    "                                 plates=(n_trials, n_bags)).random()\n",
    "draw_marbles"
   ]
  },
  {
   "cell_type": "code",
   "execution_count": 36,
   "metadata": {
    "collapsed": false
   },
   "outputs": [],
   "source": [
    "bag1_model.observe(draw_marbles[:,0].reshape((10,1)))\n",
    "bag2_model.observe(draw_marbles[:,1].reshape((10,1)))\n",
    "bag3_model.observe(draw_marbles[:,2].reshape((10,1)))\n"
   ]
  },
  {
   "cell_type": "code",
   "execution_count": 37,
   "metadata": {
    "collapsed": true
   },
   "outputs": [],
   "source": [
    "bag3_model.unobserve()"
   ]
  },
  {
   "cell_type": "code",
   "execution_count": 38,
   "metadata": {
    "collapsed": false
   },
   "outputs": [
    {
     "name": "stdout",
     "output_type": "stream",
     "text": [
      "Iteration 1: loglike=-1.831732e+01 (0.010 seconds)\n",
      "Iteration 2: loglike=-1.831732e+01 (0.000 seconds)\n",
      "Converged at iteration 2.\n"
     ]
    }
   ],
   "source": [
    "from bayespy.inference import VB\n",
    "Q = VB(bag1_model, bag2_model, bag3_model, p_theta)\n",
    "Q.update(repeat=1000)"
   ]
  },
  {
   "cell_type": "code",
   "execution_count": 39,
   "metadata": {
    "collapsed": false
   },
   "outputs": [
    {
     "data": {
      "image/png": "[encoded data removed]",
      "text/plain": [
       "<matplotlib.figure.Figure at 0x7fa0b8bda748>"
      ]
     },
     "metadata": {},
     "output_type": "display_data"
    }
   ],
   "source": [
    "%matplotlib inline\n",
    "import bayespy.plot as bpplt\n",
    "bpplt.hinton(p_theta)\n",
    "bpplt.pyplot.title(\"Learned Distribution of colors using Multinomial Distribution\")\n",
    "bpplt.pyplot.show()"
   ]
  },
  {
   "cell_type": "code",
   "execution_count": null,
   "metadata": {
    "collapsed": false
   },
   "outputs": [],
   "source": [
    "%matplotlib inline\n",
    "import bayespy.plot as bpplt\n",
    "#bpplt.pdf(p_theta.pdf, np.linspace(-10, 20, num=100), color='k', name=r'\\mu')\n",
    "bpplt.hinton(p_color)\n",
    "bpplt.pyplot.title(\"Actual Distribution of colors using Multinomial Distribution\")\n",
    "bpplt.pyplot.show()"
   ]
  },
  {
   "cell_type": "code",
   "execution_count": null,
   "metadata": {
    "collapsed": false
   },
   "outputs": [],
   "source": [
    "mu = nodes.Dirichlet([1])\n",
    "\n",
    "p_theta = nodes.Dirichlet([mu],\n",
    "                          plates=(n_bags,),\n",
    "                          name='p_theta')"
   ]
  }
 ],
 "metadata": {
  "kernelspec": {
   "display_name": "Python 3",
   "language": "python",
   "name": "python3"
  },
  "language_info": {
   "codemirror_mode": {
    "name": "ipython",
    "version": 3
   },
   "file_extension": ".py",
   "mimetype": "text/x-python",
   "name": "python",
   "nbconvert_exporter": "python",
   "pygments_lexer": "ipython3",
   "version": "3.5.1"
  }
 },
 "nbformat": 4,
 "nbformat_minor": 0
}
