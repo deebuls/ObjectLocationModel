{
 "cells": [
  {
   "cell_type": "code",
   "execution_count": 1,
   "metadata": {
    "collapsed": false
   },
   "outputs": [],
   "source": [
    "from bayespy import nodes"
   ]
  },
  {
   "cell_type": "code",
   "execution_count": 2,
   "metadata": {
    "collapsed": true
   },
   "outputs": [],
   "source": [
    "# Some constatnts we will be using \n",
    "\n",
    "n_colors = 5 #Number of colors in each bag\n",
    "n_bags = 3 # Number of bags\n",
    "n_trials = 10"
   ]
  },
  {
   "cell_type": "markdown",
   "metadata": {},
   "source": [
    "# Using Mixture Mdoel or Gates"
   ]
  },
  {
   "cell_type": "code",
   "execution_count": 5,
   "metadata": {
    "collapsed": false
   },
   "outputs": [
    {
     "data": {
      "text/plain": [
       "10"
      ]
     },
     "execution_count": 5,
     "metadata": {},
     "output_type": "execute_result"
    }
   ],
   "source": [
    "from bayespy import nodes\n",
    "import numpy as np\n",
    "n_colors = 5\n",
    "n_bags = 3\n",
    "n_trials = 10\n",
    "\n",
    "beta = 1e-1 * np.ones(n_colors)\n",
    "#Generate some random distributions for the color distribution inside each bags\n",
    "p_color = nodes.Dirichlet(beta,\n",
    "                          plates = (n_bags,)).random()\n",
    "\n",
    "#The marbles drawn based on the distribution for 10 trials\n",
    "# Using same p_color distribution as in the above example\n",
    "draw_marbles = nodes.Categorical(p_color,\n",
    "                                 plates=(n_trials, n_bags)).random()\n",
    "len(draw_marbles)"
   ]
  },
  {
   "cell_type": "code",
   "execution_count": 6,
   "metadata": {
    "collapsed": false
   },
   "outputs": [
    {
     "data": {
      "text/plain": [
       "(23, 2)"
      ]
     },
     "execution_count": 6,
     "metadata": {},
     "output_type": "execute_result"
    }
   ],
   "source": [
    "\n",
    "tuple_data1 = np.column_stack((0 * np.ones(len(draw_marbles)), draw_marbles[:,0]))\n",
    "tuple_data2 = np.column_stack((1 * np.ones(len(draw_marbles)), draw_marbles[:,1]))\n",
    "tuple_data3 = np.column_stack((2 * np.ones(len(draw_marbles)), draw_marbles[:,2]))\n",
    "tuple_data = np.row_stack((tuple_data1, tuple_data2, tuple_data3))\n",
    "tuple_data_reduced = np.row_stack((tuple_data1, tuple_data2[:3,:], tuple_data3))\n",
    "tuple_data_reduced.shape"
   ]
  },
  {
   "cell_type": "code",
   "execution_count": 7,
   "metadata": {
    "collapsed": false
   },
   "outputs": [
    {
     "data": {
      "text/plain": [
       "array([[2, 4, 0],\n",
       "       [2, 4, 0],\n",
       "       [2, 4, 0],\n",
       "       [2, 4, 0],\n",
       "       [2, 4, 0],\n",
       "       [2, 4, 0],\n",
       "       [2, 4, 4],\n",
       "       [2, 4, 4],\n",
       "       [2, 4, 0],\n",
       "       [2, 4, 0]])"
      ]
     },
     "execution_count": 7,
     "metadata": {},
     "output_type": "execute_result"
    }
   ],
   "source": [
    "draw_marbles"
   ]
  },
  {
   "cell_type": "code",
   "execution_count": 6,
   "metadata": {
    "collapsed": false
   },
   "outputs": [],
   "source": [
    "n_trials_stacked = n_trials * n_bags\n",
    "p_theta = nodes.Dirichlet(np.ones(n_colors),\n",
    "                          plates=(n_bags,),\n",
    "                          name='p_theta')\n",
    "#bags = tuple_data[:,0].reshape((n_trials_stacked,1)).astype(int)\n",
    "bags = tuple_data_reduced[:,0].reshape((23,1)).astype(int)\n",
    "Y = nodes.Mixture(bags, nodes.Categorical, p_theta)\n"
   ]
  },
  {
   "cell_type": "code",
   "execution_count": 7,
   "metadata": {
    "collapsed": false
   },
   "outputs": [],
   "source": [
    "#Y.observe(tuple_data[:,1].reshape(n_trials_stacked,1).astype(int))\n",
    "Y.observe(tuple_data_reduced[:,1].reshape(23,1).astype(int))\n"
   ]
  },
  {
   "cell_type": "code",
   "execution_count": 8,
   "metadata": {
    "collapsed": false
   },
   "outputs": [
    {
     "name": "stdout",
     "output_type": "stream",
     "text": [
      "Iteration 1: loglike=-2.381858e+01 (0.003 seconds)\n",
      "Iteration 2: loglike=-2.381858e+01 (0.003 seconds)\n",
      "Converged at iteration 2.\n"
     ]
    }
   ],
   "source": [
    "from bayespy.inference import VB\n",
    "Q = VB(Y, p_theta)\n",
    "Q.update(repeat=1000)"
   ]
  },
  {
   "cell_type": "code",
   "execution_count": 9,
   "metadata": {
    "collapsed": false
   },
   "outputs": [
    {
     "data": {
      "image/png": "[encoded data removed]",
      "text/plain": [
       "<matplotlib.figure.Figure at 0x7fe50bae0e48>"
      ]
     },
     "metadata": {},
     "output_type": "display_data"
    }
   ],
   "source": [
    "%matplotlib inline\n",
    "import bayespy.plot as bpplt\n",
    "bpplt.hinton(p_theta)\n",
    "bpplt.pyplot.title(\"Learned Distribution of colors using Multinomial Distribution\")\n",
    "bpplt.pyplot.show()"
   ]
  },
  {
   "cell_type": "code",
   "execution_count": 10,
   "metadata": {
    "collapsed": false
   },
   "outputs": [
    {
     "data": {
      "image/png": "[encoded data removed]",
      "text/plain": [
       "<matplotlib.figure.Figure at 0x7fe514cde438>"
      ]
     },
     "metadata": {},
     "output_type": "display_data"
    }
   ],
   "source": [
    "%matplotlib inline\n",
    "import bayespy.plot as bpplt\n",
    "#bpplt.pdf(p_theta.pdf, np.linspace(-10, 20, num=100), color='k', name=r'\\mu')\n",
    "bpplt.hinton(p_color)\n",
    "bpplt.pyplot.title(\"Actual Distribution of colors using Multinomial Distribution\")\n",
    "bpplt.pyplot.show()"
   ]
  },
  {
   "cell_type": "code",
   "execution_count": 11,
   "metadata": {
    "collapsed": false
   },
   "outputs": [
    {
     "data": {
      "text/plain": [
       "(10, 1)"
      ]
     },
     "execution_count": 11,
     "metadata": {},
     "output_type": "execute_result"
    }
   ],
   "source": [
    "from bayespy import nodes\n",
    "import numpy as np\n",
    "\n",
    "mu = nodes.Dirichlet([1])\n",
    "\n",
    "p_theta = nodes.Dirichlet(np.ones(n_colors),\n",
    "                          plates=(n_bags,),\n",
    "                          name='p_theta')\n",
    "\n",
    "\n",
    "\n",
    "bag1_model = nodes.Categorical(p_theta[0],\n",
    "                        plates=(n_trials, 1),\n",
    "                        name='bag_model_1')\n",
    "\n",
    "bag2_model = nodes.Categorical(p_theta[1],\n",
    "                        plates=(n_trials, 1),\n",
    "                        name='bag_model_2')\n",
    "\n",
    "bag3_model = nodes.Categorical(p_theta[2],\n",
    "                        plates=(n_trials, 1),\n",
    "                        name='bag_model_3')\n",
    "\n",
    "bag1_model.plates\n"
   ]
  },
  {
   "cell_type": "code",
   "execution_count": 3,
   "metadata": {
    "collapsed": false
   },
   "outputs": [
    {
     "data": {
      "text/plain": [
       "array([[0, 1, 4],\n",
       "       [0, 1, 4],\n",
       "       [0, 1, 4],\n",
       "       [0, 1, 4],\n",
       "       [0, 1, 4],\n",
       "       [0, 1, 4],\n",
       "       [0, 1, 4],\n",
       "       [0, 1, 4],\n",
       "       [0, 1, 4],\n",
       "       [0, 1, 4]])"
      ]
     },
     "execution_count": 3,
     "metadata": {},
     "output_type": "execute_result"
    }
   ],
   "source": [
    "from bayespy import nodes\n",
    "import numpy as np\n",
    "\n",
    "\n",
    "beta = 1e-1 * np.ones(n_colors)\n",
    "#Generate some random distributions for the color distribution inside each bags\n",
    "p_color = nodes.Dirichlet(beta,\n",
    "                          plates = (n_bags,)).random()\n",
    "\n",
    "#The marbles drawn based on the distribution for 10 trials\n",
    "# Using same p_color distribution as in the above example\n",
    "draw_marbles = nodes.Categorical(p_color,\n",
    "                                 plates=(n_trials, n_bags)).random()\n",
    "draw_marbles"
   ]
  },
  {
   "cell_type": "code",
   "execution_count": 23,
   "metadata": {
    "collapsed": false
   },
   "outputs": [],
   "source": [
    "bag1_model.observe(draw_marbles[:,0].reshape((10,1)))\n",
    "bag2_model.observe(draw_marbles[:,1].reshape((10,1)))\n",
    "bag3_model.observe(draw_marbles[:,2].reshape((10,1)))\n"
   ]
  },
  {
   "cell_type": "code",
   "execution_count": 21,
   "metadata": {
    "collapsed": false
   },
   "outputs": [
    {
     "ename": "ValueError",
     "evalue": "Shape of the given array not equal to the shape of the node.\nReceived shape: (3, 1, 5)\nExpected shape: (10, 1, 5)\nCheck plates.",
     "output_type": "error",
     "traceback": [
      "\u001b[1;31m---------------------------------------------------------------------------\u001b[0m",
      "\u001b[1;31mValueError\u001b[0m                                Traceback (most recent call last)",
      "\u001b[1;32m<ipython-input-21-442aed59e587>\u001b[0m in \u001b[0;36m<module>\u001b[1;34m()\u001b[0m\n\u001b[0;32m      1\u001b[0m \u001b[1;31m#experimenting different trial size\u001b[0m\u001b[1;33m\u001b[0m\u001b[1;33m\u001b[0m\u001b[0m\n\u001b[1;32m----> 2\u001b[1;33m \u001b[0mbag1_model\u001b[0m\u001b[1;33m.\u001b[0m\u001b[0mobserve\u001b[0m\u001b[1;33m(\u001b[0m\u001b[0mdraw_marbles\u001b[0m\u001b[1;33m[\u001b[0m\u001b[1;33m:\u001b[0m\u001b[1;36m3\u001b[0m\u001b[1;33m,\u001b[0m\u001b[1;36m0\u001b[0m\u001b[1;33m]\u001b[0m\u001b[1;33m.\u001b[0m\u001b[0mreshape\u001b[0m\u001b[1;33m(\u001b[0m\u001b[1;33m(\u001b[0m\u001b[1;36m3\u001b[0m\u001b[1;33m,\u001b[0m\u001b[1;36m1\u001b[0m\u001b[1;33m)\u001b[0m\u001b[1;33m)\u001b[0m\u001b[1;33m)\u001b[0m\u001b[1;33m\u001b[0m\u001b[0m\n\u001b[0m\u001b[0;32m      3\u001b[0m \u001b[0mbag2_model\u001b[0m\u001b[1;33m.\u001b[0m\u001b[0mobserve\u001b[0m\u001b[1;33m(\u001b[0m\u001b[0mdraw_marbles\u001b[0m\u001b[1;33m[\u001b[0m\u001b[1;33m:\u001b[0m\u001b[1;36m6\u001b[0m\u001b[1;33m,\u001b[0m\u001b[1;36m1\u001b[0m\u001b[1;33m]\u001b[0m\u001b[1;33m.\u001b[0m\u001b[0mreshape\u001b[0m\u001b[1;33m(\u001b[0m\u001b[1;33m(\u001b[0m\u001b[1;36m6\u001b[0m\u001b[1;33m,\u001b[0m\u001b[1;36m1\u001b[0m\u001b[1;33m)\u001b[0m\u001b[1;33m)\u001b[0m\u001b[1;33m)\u001b[0m\u001b[1;33m\u001b[0m\u001b[0m\n\u001b[0;32m      4\u001b[0m \u001b[0mbag3_model\u001b[0m\u001b[1;33m.\u001b[0m\u001b[0mobserve\u001b[0m\u001b[1;33m(\u001b[0m\u001b[0mdraw_marbles\u001b[0m\u001b[1;33m[\u001b[0m\u001b[1;33m:\u001b[0m\u001b[1;36m1\u001b[0m\u001b[1;33m,\u001b[0m\u001b[1;36m2\u001b[0m\u001b[1;33m]\u001b[0m\u001b[1;33m.\u001b[0m\u001b[0mreshape\u001b[0m\u001b[1;33m(\u001b[0m\u001b[1;33m(\u001b[0m\u001b[1;36m1\u001b[0m\u001b[1;33m,\u001b[0m\u001b[1;36m1\u001b[0m\u001b[1;33m)\u001b[0m\u001b[1;33m)\u001b[0m\u001b[1;33m)\u001b[0m\u001b[1;33m\u001b[0m\u001b[0m\n",
      "\u001b[1;32m/home/deebuls/anaconda3/lib/python3.5/site-packages/bayespy/inference/vmp/nodes/expfamily.py\u001b[0m in \u001b[0;36mobserve\u001b[1;34m(self, x, mask, *args)\u001b[0m\n\u001b[0;32m    375\u001b[0m \u001b[1;33m\u001b[0m\u001b[0m\n\u001b[0;32m    376\u001b[0m         \u001b[1;31m# Set the moments. Shape checking is done there.\u001b[0m\u001b[1;33m\u001b[0m\u001b[1;33m\u001b[0m\u001b[0m\n\u001b[1;32m--> 377\u001b[1;33m         \u001b[0mself\u001b[0m\u001b[1;33m.\u001b[0m\u001b[0m_set_moments\u001b[0m\u001b[1;33m(\u001b[0m\u001b[0mu\u001b[0m\u001b[1;33m,\u001b[0m \u001b[0mmask\u001b[0m\u001b[1;33m=\u001b[0m\u001b[0mmask\u001b[0m\u001b[1;33m,\u001b[0m \u001b[0mbroadcast\u001b[0m\u001b[1;33m=\u001b[0m\u001b[1;32mFalse\u001b[0m\u001b[1;33m)\u001b[0m\u001b[1;33m\u001b[0m\u001b[0m\n\u001b[0m\u001b[0;32m    378\u001b[0m \u001b[1;33m\u001b[0m\u001b[0m\n\u001b[0;32m    379\u001b[0m         \u001b[0mself\u001b[0m\u001b[1;33m.\u001b[0m\u001b[0mf\u001b[0m \u001b[1;33m=\u001b[0m \u001b[0mnp\u001b[0m\u001b[1;33m.\u001b[0m\u001b[0mwhere\u001b[0m\u001b[1;33m(\u001b[0m\u001b[0mmask\u001b[0m\u001b[1;33m,\u001b[0m \u001b[0mf\u001b[0m\u001b[1;33m,\u001b[0m \u001b[0mself\u001b[0m\u001b[1;33m.\u001b[0m\u001b[0mf\u001b[0m\u001b[1;33m)\u001b[0m\u001b[1;33m\u001b[0m\u001b[0m\n",
      "\u001b[1;32m/home/deebuls/anaconda3/lib/python3.5/site-packages/bayespy/inference/vmp/nodes/stochastic.py\u001b[0m in \u001b[0;36m_set_moments\u001b[1;34m(self, u, mask, broadcast)\u001b[0m\n\u001b[0;32m    206\u001b[0m     \u001b[1;32mdef\u001b[0m \u001b[0m_set_moments\u001b[0m\u001b[1;33m(\u001b[0m\u001b[0mself\u001b[0m\u001b[1;33m,\u001b[0m \u001b[0mu\u001b[0m\u001b[1;33m,\u001b[0m \u001b[0mmask\u001b[0m\u001b[1;33m=\u001b[0m\u001b[1;32mTrue\u001b[0m\u001b[1;33m,\u001b[0m \u001b[0mbroadcast\u001b[0m\u001b[1;33m=\u001b[0m\u001b[1;32mTrue\u001b[0m\u001b[1;33m)\u001b[0m\u001b[1;33m:\u001b[0m\u001b[1;33m\u001b[0m\u001b[0m\n\u001b[0;32m    207\u001b[0m \u001b[1;33m\u001b[0m\u001b[0m\n\u001b[1;32m--> 208\u001b[1;33m         \u001b[0mself\u001b[0m\u001b[1;33m.\u001b[0m\u001b[0m_check_shape\u001b[0m\u001b[1;33m(\u001b[0m\u001b[0mu\u001b[0m\u001b[1;33m,\u001b[0m \u001b[0mbroadcast\u001b[0m\u001b[1;33m=\u001b[0m\u001b[0mbroadcast\u001b[0m\u001b[1;33m)\u001b[0m\u001b[1;33m\u001b[0m\u001b[0m\n\u001b[0m\u001b[0;32m    209\u001b[0m \u001b[1;33m\u001b[0m\u001b[0m\n\u001b[0;32m    210\u001b[0m         \u001b[1;31m# Store the computed moments u but do not change moments for\u001b[0m\u001b[1;33m\u001b[0m\u001b[1;33m\u001b[0m\u001b[0m\n",
      "\u001b[1;32m/home/deebuls/anaconda3/lib/python3.5/site-packages/bayespy/inference/vmp/nodes/stochastic.py\u001b[0m in \u001b[0;36m_check_shape\u001b[1;34m(self, u, broadcast)\u001b[0m\n\u001b[0;32m    190\u001b[0m             \u001b[1;32mif\u001b[0m \u001b[1;32mnot\u001b[0m \u001b[0mbroadcast\u001b[0m\u001b[1;33m:\u001b[0m\u001b[1;33m\u001b[0m\u001b[0m\n\u001b[0;32m    191\u001b[0m                 \u001b[1;32mif\u001b[0m \u001b[0msh\u001b[0m \u001b[1;33m!=\u001b[0m \u001b[0msh_true\u001b[0m\u001b[1;33m:\u001b[0m\u001b[1;33m\u001b[0m\u001b[0m\n\u001b[1;32m--> 192\u001b[1;33m                     \u001b[1;32mraise\u001b[0m \u001b[0mValueError\u001b[0m\u001b[1;33m(\u001b[0m\u001b[0merrmsg\u001b[0m\u001b[1;33m)\u001b[0m\u001b[1;33m\u001b[0m\u001b[0m\n\u001b[0m\u001b[0;32m    193\u001b[0m             \u001b[1;32melse\u001b[0m\u001b[1;33m:\u001b[0m\u001b[1;33m\u001b[0m\u001b[0m\n\u001b[0;32m    194\u001b[0m                 \u001b[1;32mif\u001b[0m \u001b[0mndim\u001b[0m \u001b[1;33m==\u001b[0m \u001b[1;36m0\u001b[0m\u001b[1;33m:\u001b[0m\u001b[1;33m\u001b[0m\u001b[0m\n",
      "\u001b[1;31mValueError\u001b[0m: Shape of the given array not equal to the shape of the node.\nReceived shape: (3, 1, 5)\nExpected shape: (10, 1, 5)\nCheck plates."
     ]
    }
   ],
   "source": [
    "#experimenting different trial size\n",
    "bag1_model.observe(draw_marbles[:3,0].reshape((3,1)))\n",
    "bag2_model.observe(draw_marbles[:6,1].reshape((6,1)))\n",
    "bag3_model.observe(draw_marbles[:1,2].reshape((1,1)))"
   ]
  },
  {
   "cell_type": "code",
   "execution_count": 14,
   "metadata": {
    "collapsed": true
   },
   "outputs": [],
   "source": [
    "bag3_model.unobserve()"
   ]
  },
  {
   "cell_type": "code",
   "execution_count": 15,
   "metadata": {
    "collapsed": false
   },
   "outputs": [
    {
     "name": "stdout",
     "output_type": "stream",
     "text": [
      "Iteration 1: loglike=-1.762417e+01 (0.004 seconds)\n",
      "Iteration 2: loglike=-1.762417e+01 (0.004 seconds)\n",
      "Converged at iteration 2.\n"
     ]
    }
   ],
   "source": [
    "from bayespy.inference import VB\n",
    "Q = VB(bag1_model, bag2_model, bag3_model, p_theta)\n",
    "Q.update(repeat=1000)"
   ]
  },
  {
   "cell_type": "code",
   "execution_count": 16,
   "metadata": {
    "collapsed": false
   },
   "outputs": [
    {
     "data": {
      "image/png": "[encoded data removed]",
      "text/plain": [
       "<matplotlib.figure.Figure at 0x7fe514d58f28>"
      ]
     },
     "metadata": {},
     "output_type": "display_data"
    }
   ],
   "source": [
    "%matplotlib inline\n",
    "import bayespy.plot as bpplt\n",
    "bpplt.hinton(p_theta)\n",
    "bpplt.pyplot.title(\"Learned Distribution of colors using Multinomial Distribution\")\n",
    "bpplt.pyplot.show()"
   ]
  },
  {
   "cell_type": "code",
   "execution_count": 17,
   "metadata": {
    "collapsed": false
   },
   "outputs": [
    {
     "data": {
      "image/png": "[encoded data removed]",
      "text/plain": [
       "<matplotlib.figure.Figure at 0x7fe514cdce80>"
      ]
     },
     "metadata": {},
     "output_type": "display_data"
    }
   ],
   "source": [
    "%matplotlib inline\n",
    "import bayespy.plot as bpplt\n",
    "#bpplt.pdf(p_theta.pdf, np.linspace(-10, 20, num=100), color='k', name=r'\\mu')\n",
    "bpplt.hinton(p_color)\n",
    "bpplt.pyplot.title(\"Actual Distribution of colors using Multinomial Distribution\")\n",
    "bpplt.pyplot.show()"
   ]
  },
  {
   "cell_type": "code",
   "execution_count": 1,
   "metadata": {
    "collapsed": false
   },
   "outputs": [
    {
     "ename": "NameError",
     "evalue": "name 'n_colors' is not defined",
     "output_type": "error",
     "traceback": [
      "\u001b[1;31m---------------------------------------------------------------------------\u001b[0m",
      "\u001b[1;31mNameError\u001b[0m                                 Traceback (most recent call last)",
      "\u001b[1;32m<ipython-input-1-10137b85e783>\u001b[0m in \u001b[0;36m<module>\u001b[1;34m()\u001b[0m\n\u001b[0;32m      1\u001b[0m \u001b[1;32mfrom\u001b[0m \u001b[0mbayespy\u001b[0m \u001b[1;32mimport\u001b[0m \u001b[0mnodes\u001b[0m\u001b[1;33m\u001b[0m\u001b[0m\n\u001b[0;32m      2\u001b[0m \u001b[1;32mimport\u001b[0m \u001b[0mnumpy\u001b[0m \u001b[1;32mas\u001b[0m \u001b[0mnp\u001b[0m\u001b[1;33m\u001b[0m\u001b[0m\n\u001b[1;32m----> 3\u001b[1;33m \u001b[0mp_conc\u001b[0m \u001b[1;33m=\u001b[0m \u001b[0mnodes\u001b[0m\u001b[1;33m.\u001b[0m\u001b[0mDirichletConcentration\u001b[0m\u001b[1;33m(\u001b[0m\u001b[0mn_colors\u001b[0m\u001b[1;33m)\u001b[0m\u001b[1;33m\u001b[0m\u001b[0m\n\u001b[0m\u001b[0;32m      4\u001b[0m \u001b[0mp_conc\u001b[0m\u001b[1;33m.\u001b[0m\u001b[0minitialize_from_value\u001b[0m\u001b[1;33m(\u001b[0m\u001b[0mnp\u001b[0m\u001b[1;33m.\u001b[0m\u001b[0mones\u001b[0m\u001b[1;33m(\u001b[0m\u001b[0mn_colors\u001b[0m\u001b[1;33m)\u001b[0m\u001b[1;33m)\u001b[0m\u001b[1;33m\u001b[0m\u001b[0m\n\u001b[0;32m      5\u001b[0m p_theta = nodes.Dirichlet(p_conc,\n",
      "\u001b[1;31mNameError\u001b[0m: name 'n_colors' is not defined"
     ]
    }
   ],
   "source": [
    "from bayespy import nodes\n",
    "import numpy as np\n",
    "p_conc_01 = nodes.DirichletConcentration(n_colors)\n",
    "p_conc_01.initialize_from_value(np.ones(n_colors))\n",
    "p_conc_12 = nodes.DirichletConcentration(n_colors)\n",
    "p_conc_12.initialize_from_value(np.ones(n_colors))\n",
    "p_conc_20 = nodes.DirichletConcentration(n_colors)\n",
    "p_conc_20.initialize_from_value(np.ones(n_colors))\n",
    "\n",
    "p_theta_0 = nodes.Dirichlet(p_conc,\n",
    "                          plates=(1,),\n",
    "                          name='p_theta0')\n",
    "p_theta_1 = nodes.Dirichlet(p_conc,\n",
    "                          plates=(1,),\n",
    "                          name='p_theta1')\n",
    "p_theta_2 = nodes.Dirichlet(p_conc,\n",
    "                          plates=(1,),\n",
    "                          name='p_theta2')\n",
    "\n",
    "\n",
    "bag1_model = nodes.Categorical(p_theta[0],\n",
    "                        plates=(n_trials, 1),\n",
    "                        name='bag_model_1')\n",
    "\n",
    "bag2_model = nodes.Categorical(p_theta[1],\n",
    "                        plates=(n_trials, 1),\n",
    "                        name='bag_model_2')\n",
    "\n",
    "bag3_model = nodes.Categorical(p_theta[2],\n",
    "                        plates=(n_trials, 1),\n",
    "                        name='bag_model_3')\n",
    "\n",
    "bag1_model.plates"
   ]
  },
  {
   "cell_type": "code",
   "execution_count": null,
   "metadata": {
    "collapsed": true
   },
   "outputs": [],
   "source": [
    "\n",
    "bag1_model.observe(draw_marbles[:,0].reshape((10,1)))\n",
    "bag2_model.observe(draw_marbles[:,1].reshape((10,1)))\n",
    "bag3_model.observe(draw_marbles[:,2].reshape((10,1)))"
   ]
  }
 ],
 "metadata": {
  "kernelspec": {
   "display_name": "Python 3",
   "language": "python",
   "name": "python3"
  },
  "language_info": {
   "codemirror_mode": {
    "name": "ipython",
    "version": 3
   },
   "file_extension": ".py",
   "mimetype": "text/x-python",
   "name": "python",
   "nbconvert_exporter": "python",
   "pygments_lexer": "ipython3",
   "version": "3.5.2"
  }
 },
 "nbformat": 4,
 "nbformat_minor": 0
}
