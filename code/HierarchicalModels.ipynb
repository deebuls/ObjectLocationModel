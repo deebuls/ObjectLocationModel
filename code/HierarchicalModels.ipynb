{
 "cells": [
  {
   "cell_type": "markdown",
   "metadata": {},
   "source": [
    "# Hierarchical Models\n",
    "\n",
    "Human knowledge is arranged hierarchically. The more organized the knowledge is more easy it is for us to retrieve and \n",
    "infer . Here we will look into an example of building an hierarchical model. In hierarchical model the distribution is present in each level. Based on the decisions of the distribution of the higher level affect the lower levels. The below example is taken from https://probmods.org/hierarchical-models.html\n",
    "\n",
    "\n",
    "## Bag of Marbles\n",
    "\n",
    "There are several bags of marbles each containing some colors of marbles. Marbles are drawn at random from each bags. We need to predict the distribution of the marbles in each bags \n",
    "\n",
    "Hierarchical Models can be used to model this problem. \n",
    "Kemp et. al (2007) hierarchical model for Bag of Marbles\n",
    "\n",
    "$\\beta = <1,1,1,1,1>$ \n",
    "\n",
    "$\\theta|\\beta \\sim Dirichlet(\\beta) $\n",
    "\n",
    "$y|\\theta \\sim Multinomial(\\theta)$\n",
    "\n",
    "The graphical model of the model can be drawn as below\n",
    "![Hierarchical Model](images/hierarchicalmodel.png)"
   ]
  },
  {
   "cell_type": "markdown",
   "metadata": {},
   "source": [
    "# Sample Set Generation"
   ]
  },
  {
   "cell_type": "code",
   "execution_count": 1,
   "metadata": {
    "collapsed": true
   },
   "outputs": [],
   "source": [
    "# Some constatnts we will be using \n",
    "\n",
    "n_colors = 5 #Number of colors in each bag\n",
    "n_bags = 3 # Number of bags\n",
    "n_trials = 10"
   ]
  },
  {
   "cell_type": "code",
   "execution_count": 2,
   "metadata": {
    "collapsed": false
   },
   "outputs": [
    {
     "data": {
      "text/plain": [
       "array([[ 0, 10,  0,  0,  0],\n",
       "       [ 0,  7,  3,  0,  0],\n",
       "       [ 0,  0,  0,  0, 10]])"
      ]
     },
     "execution_count": 2,
     "metadata": {},
     "output_type": "execute_result"
    }
   ],
   "source": [
    "from bayespy import nodes\n",
    "import numpy as np\n",
    "\n",
    "beta = 1e-1 * np.ones(n_colors)\n",
    "#Generate some random distributions for the color distribution inside each bags\n",
    "p_color = nodes.Dirichlet(beta,\n",
    "                          plates = (n_bags,)).random()\n",
    "\n",
    "#The marbles drawn based on the distribution for 10 trials\n",
    "draw_marbles = nodes.Multinomial(n_trials,\n",
    "                                 p_color).random()\n",
    "#draw_marbles = nodes.Categorical(p_color,plates=(10,n_bags)).random()\n",
    "draw_marbles"
   ]
  },
  {
   "cell_type": "code",
   "execution_count": 24,
   "metadata": {
    "collapsed": false
   },
   "outputs": [
    {
     "data": {
      "image/png": "[encoded data removed]",
      "text/plain": [
       "<matplotlib.figure.Figure at 0x7f5a79dcb400>"
      ]
     },
     "metadata": {},
     "output_type": "display_data"
    }
   ],
   "source": [
    "%matplotlib inline\n",
    "import bayespy.plot as bpplt\n",
    "#bpplt.pdf(p_theta.pdf, np.linspace(-10, 20, num=100), color='k', name=r'\\mu')\n",
    "bpplt.hinton(p_color)\n",
    "bpplt.pyplot.title(\"Original Distribution of colors using Multinomial Distribution\")\n",
    "bpplt.pyplot.show()"
   ]
  },
  {
   "cell_type": "markdown",
   "metadata": {},
   "source": [
    "# Model"
   ]
  },
  {
   "cell_type": "code",
   "execution_count": 3,
   "metadata": {
    "collapsed": false
   },
   "outputs": [
    {
     "data": {
      "text/plain": [
       "(3,)"
      ]
     },
     "execution_count": 3,
     "metadata": {},
     "output_type": "execute_result"
    }
   ],
   "source": [
    "from bayespy import nodes\n",
    "import numpy as np\n",
    "\n",
    "p_theta = nodes.Dirichlet(np.ones(n_colors),\n",
    "                          plates=(n_bags,),\n",
    "                          name='p_theta')\n",
    "\n",
    "bag_model = nodes.Multinomial(n_trials,\n",
    "                        p_theta,\n",
    "                        name='bag_model')\n",
    "bag_model.plates"
   ]
  },
  {
   "cell_type": "code",
   "execution_count": 4,
   "metadata": {
    "collapsed": false
   },
   "outputs": [],
   "source": [
    "bag_model.observe(draw_marbles)"
   ]
  },
  {
   "cell_type": "markdown",
   "metadata": {},
   "source": [
    "# Performing Inference"
   ]
  },
  {
   "cell_type": "code",
   "execution_count": 5,
   "metadata": {
    "collapsed": true
   },
   "outputs": [],
   "source": [
    "from bayespy.inference import VB\n",
    "Q = VB(bag_model, p_theta)"
   ]
  },
  {
   "cell_type": "code",
   "execution_count": 6,
   "metadata": {
    "collapsed": false
   },
   "outputs": [
    {
     "name": "stdout",
     "output_type": "stream",
     "text": [
      "Iteration 1: loglike=-2.072626e+01 (0.000 seconds)\n",
      "Iteration 2: loglike=-2.072626e+01 (0.000 seconds)\n",
      "Converged at iteration 2.\n"
     ]
    }
   ],
   "source": [
    "Q.update(repeat=1000)"
   ]
  },
  {
   "cell_type": "code",
   "execution_count": 25,
   "metadata": {
    "collapsed": false
   },
   "outputs": [
    {
     "data": {
      "image/png": "[encoded data removed]",
      "text/plain": [
       "<matplotlib.figure.Figure at 0x7f5a79d6b4e0>"
      ]
     },
     "metadata": {},
     "output_type": "display_data"
    }
   ],
   "source": [
    "%matplotlib inline\n",
    "import bayespy.plot as bpplt\n",
    "#bpplt.pdf(p_theta.pdf, np.linspace(-10, 20, num=100), color='k', name=r'\\mu')\n",
    "bpplt.hinton(p_theta)\n",
    "bpplt.pyplot.title(\"Learned Distribution of colors using Multinomial Distribution\")\n",
    "bpplt.pyplot.show()"
   ]
  },
  {
   "cell_type": "markdown",
   "metadata": {},
   "source": [
    "# Using Categorical Distribution\n",
    "\n",
    "The same problem can be solved with categorical distirbution. Categorical distribution is similar to the Multinomical distribution expect for the output it produces.\n",
    "\n",
    "Multinomial and Categorical infer the number of colors from the size of the probability vector (p_theta)\n",
    "Categorical data is in a form where the value tells the index of the color that was picked in a trial. so if n_colors=5, Categorical data could be [4, 4, 0, 1, 1, 2, 4] if the number of trials was 7. \n",
    "\n",
    "multinomial data is such that you have a vector where each element tells how many times that color was picked, for instance, [3, 0, 4] if you have 7 trials.\n",
    "\n",
    "So there is significant difference in Multinomial and Categorical data . Depending on the data you have the choice of the Distribution has to be made.\n",
    "\n",
    "Now we can see an example of Hierarchical model usign categorical data generator and model"
   ]
  },
  {
   "cell_type": "code",
   "execution_count": 8,
   "metadata": {
    "collapsed": true
   },
   "outputs": [],
   "source": [
    "# Some constatnts we will be using \n",
    "\n",
    "n_colors = 5 #Number of colors in each bag\n",
    "n_bags = 3 # Number of bags\n",
    "n_trials = 10"
   ]
  },
  {
   "cell_type": "code",
   "execution_count": 9,
   "metadata": {
    "collapsed": false
   },
   "outputs": [
    {
     "data": {
      "text/plain": [
       "array([[1, 2, 4],\n",
       "       [1, 2, 4],\n",
       "       [1, 2, 4],\n",
       "       [1, 1, 4],\n",
       "       [1, 1, 4],\n",
       "       [1, 2, 4],\n",
       "       [1, 2, 4],\n",
       "       [1, 1, 4],\n",
       "       [0, 1, 4],\n",
       "       [1, 1, 4]])"
      ]
     },
     "execution_count": 9,
     "metadata": {},
     "output_type": "execute_result"
    }
   ],
   "source": [
    "from bayespy import nodes\n",
    "import numpy as np\n",
    "\n",
    "#The marbles drawn based on the distribution for 10 trials\n",
    "# Using same p_color distribution as in the above example\n",
    "draw_marbles = nodes.Categorical(p_color,\n",
    "                                 plates=(n_trials, n_bags)).random()\n",
    "draw_marbles"
   ]
  },
  {
   "cell_type": "markdown",
   "metadata": {},
   "source": [
    "# Model with Categorical Distribution"
   ]
  },
  {
   "cell_type": "code",
   "execution_count": 10,
   "metadata": {
    "collapsed": false
   },
   "outputs": [
    {
     "data": {
      "text/plain": [
       "(10, 3)"
      ]
     },
     "execution_count": 10,
     "metadata": {},
     "output_type": "execute_result"
    }
   ],
   "source": [
    "from bayespy import nodes\n",
    "import numpy as np\n",
    "\n",
    "p_theta = nodes.Dirichlet(np.ones(n_colors),\n",
    "                          plates=(n_bags,),\n",
    "                          name='p_theta')\n",
    "\n",
    "bag_model = nodes.Categorical(p_theta,\n",
    "                        plates=(n_trials, n_bags),\n",
    "                        name='bag_model')\n",
    "bag_model.plates"
   ]
  },
  {
   "cell_type": "markdown",
   "metadata": {},
   "source": [
    "# Observing the data"
   ]
  },
  {
   "cell_type": "code",
   "execution_count": 11,
   "metadata": {
    "collapsed": true
   },
   "outputs": [],
   "source": [
    "bag_model.observe(draw_marbles)"
   ]
  },
  {
   "cell_type": "markdown",
   "metadata": {},
   "source": [
    "# Inference"
   ]
  },
  {
   "cell_type": "code",
   "execution_count": 12,
   "metadata": {
    "collapsed": true
   },
   "outputs": [],
   "source": [
    "from bayespy.inference import VB\n",
    "Q = VB(bag_model, p_theta)"
   ]
  },
  {
   "cell_type": "code",
   "execution_count": 13,
   "metadata": {
    "collapsed": false
   },
   "outputs": [
    {
     "name": "stdout",
     "output_type": "stream",
     "text": [
      "Iteration 1: loglike=-2.855828e+01 (0.000 seconds)\n",
      "Iteration 2: loglike=-2.855828e+01 (0.010 seconds)\n",
      "Converged at iteration 2.\n"
     ]
    }
   ],
   "source": [
    "Q.update(repeat=1000)"
   ]
  },
  {
   "cell_type": "code",
   "execution_count": 14,
   "metadata": {
    "collapsed": false
   },
   "outputs": [
    {
     "data": {
      "image/png": "[encoded data removed]",
      "text/plain": [
       "<matplotlib.figure.Figure at 0x7f5a849556d8>"
      ]
     },
     "metadata": {},
     "output_type": "display_data"
    }
   ],
   "source": [
    "%matplotlib inline\n",
    "import bayespy.plot as bpplt\n",
    "bpplt.hinton(p_theta)\n",
    "bpplt.pyplot.tight_layout()\n",
    "bpplt.pyplot.title(\"Learned Distribution of colors using Categorical Distribution\")\n",
    "bpplt.pyplot.show()"
   ]
  }
 ],
 "metadata": {
  "kernelspec": {
   "display_name": "Python 3",
   "language": "python",
   "name": "python3"
  },
  "language_info": {
   "codemirror_mode": {
    "name": "ipython",
    "version": 3
   },
   "file_extension": ".py",
   "mimetype": "text/x-python",
   "name": "python",
   "nbconvert_exporter": "python",
   "pygments_lexer": "ipython3",
   "version": "3.5.1"
  }
 },
 "nbformat": 4,
 "nbformat_minor": 0
}
