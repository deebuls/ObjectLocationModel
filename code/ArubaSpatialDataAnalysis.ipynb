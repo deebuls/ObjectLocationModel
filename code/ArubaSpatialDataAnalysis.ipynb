{
 "cells": [
  {
   "cell_type": "code",
   "execution_count": 2,
   "metadata": {
    "collapsed": true
   },
   "outputs": [],
   "source": [
    "import pandas as pd\n",
    "import seaborn as sns\n",
    "import numpy as np"
   ]
  },
  {
   "cell_type": "code",
   "execution_count": 8,
   "metadata": {
    "collapsed": false
   },
   "outputs": [
    {
     "name": "stdout",
     "output_type": "stream",
     "text": [
      "{0: 'Master bedroom', 1: 'Master bathroom', 2: 'Living room', 3: 'Kitchen', 4: 'Center', 5: 'Corridor', 6: 'Second bedroom', 7: 'Office', 8: 'Second bathroom', 9: 'Outside'}\n"
     ]
    }
   ],
   "source": [
    "aruba_dataset_path = '/data/dataDeebul/thesis/dataset/strands/aruba/locations.names'\n",
    "\n",
    "location_names = {}\n",
    "count = 0\n",
    "with open(aruba_dataset_path, 'r') as content_file:\n",
    "    content = content_file.read()\n",
    "    content = str.splitlines(content)\n",
    "for count,location in enumerate(content):\n",
    "    location_names[count] = location\n",
    "print(location_names)\n",
    "\n",
    "\n",
    "aruba_dataset_path = '/data/dataDeebul/thesis/dataset/strands/aruba/locations.min'\n",
    "\n",
    "dataset = pd.read_csv(aruba_dataset_path, names=['location', 'time'])\n",
    "dataset['time'] = dataset.index\n",
    "dataset['time'] = pd.to_timedelta(dataset['time'], unit='m')\n",
    "dataset['minute'] = (dataset['time']/ np.timedelta64(1, 'm')).astype(int)\n",
    "\n",
    "\n",
    "#Renaming location number with their names\n",
    "for key,value in location_names.items():\n",
    "    dataset.ix[dataset.location ==key, 'location_name'] = value\n",
    "    \n",
    "def mod_for_minute(row):\n",
    "    return row['minute'] % 1440\n",
    "dataset['sep_minute'] = dataset.apply(mod_for_minute, axis=1)"
   ]
  },
  {
   "cell_type": "code",
   "execution_count": 19,
   "metadata": {
    "collapsed": false
   },
   "outputs": [
    {
     "data": {
      "text/html": [
       "<div>\n",
       "<table border=\"1\" class=\"dataframe\">\n",
       "  <thead>\n",
       "    <tr style=\"text-align: right;\">\n",
       "      <th></th>\n",
       "      <th>location</th>\n",
       "      <th>time</th>\n",
       "      <th>minute</th>\n",
       "      <th>location_name</th>\n",
       "      <th>sep_minute</th>\n",
       "    </tr>\n",
       "  </thead>\n",
       "  <tbody>\n",
       "    <tr>\n",
       "      <th>0</th>\n",
       "      <td>0</td>\n",
       "      <td>00:00:00</td>\n",
       "      <td>0</td>\n",
       "      <td>Master bedroom</td>\n",
       "      <td>0</td>\n",
       "    </tr>\n",
       "    <tr>\n",
       "      <th>1</th>\n",
       "      <td>0</td>\n",
       "      <td>00:01:00</td>\n",
       "      <td>1</td>\n",
       "      <td>Master bedroom</td>\n",
       "      <td>1</td>\n",
       "    </tr>\n",
       "    <tr>\n",
       "      <th>2</th>\n",
       "      <td>0</td>\n",
       "      <td>00:02:00</td>\n",
       "      <td>2</td>\n",
       "      <td>Master bedroom</td>\n",
       "      <td>2</td>\n",
       "    </tr>\n",
       "    <tr>\n",
       "      <th>3</th>\n",
       "      <td>0</td>\n",
       "      <td>00:03:00</td>\n",
       "      <td>3</td>\n",
       "      <td>Master bedroom</td>\n",
       "      <td>3</td>\n",
       "    </tr>\n",
       "    <tr>\n",
       "      <th>4</th>\n",
       "      <td>0</td>\n",
       "      <td>00:04:00</td>\n",
       "      <td>4</td>\n",
       "      <td>Master bedroom</td>\n",
       "      <td>4</td>\n",
       "    </tr>\n",
       "  </tbody>\n",
       "</table>\n",
       "</div>"
      ],
      "text/plain": [
       "   location     time  minute   location_name  sep_minute\n",
       "0         0 00:00:00       0  Master bedroom           0\n",
       "1         0 00:01:00       1  Master bedroom           1\n",
       "2         0 00:02:00       2  Master bedroom           2\n",
       "3         0 00:03:00       3  Master bedroom           3\n",
       "4         0 00:04:00       4  Master bedroom           4"
      ]
     },
     "execution_count": 19,
     "metadata": {},
     "output_type": "execute_result"
    }
   ],
   "source": [
    "dataset.head()"
   ]
  },
  {
   "cell_type": "code",
   "execution_count": 24,
   "metadata": {
    "collapsed": false
   },
   "outputs": [
    {
     "data": {
      "image/png": "[encoded data removed]",
      "text/plain": [
       "<matplotlib.figure.Figure at 0x7f2bd8fefdd8>"
      ]
     },
     "metadata": {},
     "output_type": "display_data"
    }
   ],
   "source": [
    "%matplotlib inline\n",
    "\n",
    "in_location_subset = dataset['location'].isin([0,2,3,9])\n",
    "g = sns.FacetGrid(dataset[in_location_subset], col=\"location_name\")\n",
    "g.map(plt.hist, \"sep_minute\");\n"
   ]
  }
 ],
 "metadata": {
  "kernelspec": {
   "display_name": "Python 3",
   "language": "python",
   "name": "python3"
  },
  "language_info": {
   "codemirror_mode": {
    "name": "ipython",
    "version": 3
   },
   "file_extension": ".py",
   "mimetype": "text/x-python",
   "name": "python",
   "nbconvert_exporter": "python",
   "pygments_lexer": "ipython3",
   "version": "3.5.1"
  }
 },
 "nbformat": 4,
 "nbformat_minor": 0
}
