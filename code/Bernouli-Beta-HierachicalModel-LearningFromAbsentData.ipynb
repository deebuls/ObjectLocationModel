{
 "cells": [
  {
   "cell_type": "code",
   "execution_count": null,
   "metadata": {
    "collapsed": false
   },
   "outputs": [],
   "source": [
    "\n",
    "import bayespy as bp\n",
    "\n",
    "\n",
    "# Concentration parameter\n",
    "# adding parameter to share information between the different timezones\n",
    "p_conc_01 = nodes.DirichletConcentration(3)\n",
    "p_conc_01.initialize_from_value(np.ones(3))\n",
    "p = bp.nodes.Dirichlet(p_conc_01)\n",
    "#p = bp.nodes.Dirichlet([1,1,1]) # wito\n",
    "locations = bp.nodes.Categorical(p, plates=(5,))\n",
    "observations = bp.nodes.Mixture(\n",
    "    locations,\n",
    "    bp.nodes.Bernoulli,\n",
    "    [\n",
    "        [0.0, 0.5, 0.5],\n",
    "        [0.0, 0.5, 0.5],\n",
    "        [0.0, 0.5, 0.5],\n",
    "        [0.0, 0.5, 0.5],\n",
    "        [0.0, 0.5, 0.0],\n",
    "    ]\n",
    ")\n",
    "observations.observe([True, True, True, True, True])\n",
    "Q = bp.inference.VB(observations, locations, p)\n",
    "Q.update(repeat=10)\n",
    "print(p)\n",
    "print(locations)\n",
    "\n",
    "%matplotlib inline\n",
    "import bayespy.plot as bpplt\n",
    "bpplt.hinton(p)\n",
    "bpplt.pyplot.title(\"Learned Distribution \")\n",
    "bpplt.pyplot.show()"
   ]
  },
  {
   "cell_type": "markdown",
   "metadata": {
    "collapsed": true
   },
   "source": [
    "# Learning from no data\n",
    "\n",
    "The major problem we faced for the data collection in real world for the thesis was occlussion.\n",
    "Consider a real world kitchen, all the objects cups, plates, bowls etc are always inside cabinets, washing machine etc occlluded from direct vision. \n",
    "\n",
    "We needed to learn from this non availability of data. But how can you learn when there is no data.\n",
    "\n",
    "Lets make a small example of this problem. Our domestic robot is trying to model the object location of a cup. The cup can be on 3 locations the workspace, dishwasher or cabinet.\n",
    "We start with equal probabilities as prior [0.33, 0.33, 0.33]\n",
    "Now the dishwasher and the cabinet are occluded spaces and the domestic robot hardly gets any reading of the object location in these locations. But it can always see the workspace. \n",
    "The robot went to the workstation 3 times in the whole day and finds the cup only during the afternoon. Based on this observation we run our inference and the posterior probability looks like this [0.5, 0.7, 0.5] for the afternoon. No changes in the morning and the evening.\n",
    "\n",
    "But this is the partial truth the robot saw something in morning and evening. The robot saw nothing in the morning and evening. This information can be used to infer about the probable location of the cup during the same time.\n",
    "\n",
    "\n",
    "\n",
    "After the observation the posterior distribution decreases the probability of finding cup on workspace in morning \n",
    "\n"
   ]
  },
  {
   "cell_type": "code",
   "execution_count": 30,
   "metadata": {
    "collapsed": false
   },
   "outputs": [
    {
     "name": "stdout",
     "output_type": "stream",
     "text": [
      "   is_present     location timezone  timezone_index  location_index\n",
      "10      False  counter-top    night               2               2\n",
      "11      False         sink    night               2               1\n",
      "12      False         sink  morning               0               1\n",
      "13      False   dishwasher      day               1               0\n",
      "14      False  counter-top  morning               0               2\n",
      "15      False  counter-top      day               1               2\n",
      "16       True      cabinet  morning               0               3\n",
      "17       True  counter-top      day               1               2\n",
      "18      False      cabinet    night               2               3\n",
      "19      False         sink  morning               0               1\n",
      "20      False  counter-top  morning               0               2\n",
      "21      False         sink    night               2               1\n",
      "22       True      cabinet  morning               0               3\n",
      "23      False   dishwasher      day               1               0\n",
      "24      False   dishwasher  morning               0               0\n",
      "25       True      cabinet  morning               0               3\n",
      "26      False  counter-top      day               1               2\n",
      "27      False  counter-top      day               1               2\n",
      "28       True      cabinet  morning               0               3\n",
      "29      False         sink    night               2               1\n",
      "30       True      cabinet  morning               0               3\n",
      "31      False  counter-top    night               2               2\n",
      "32       True   dishwasher    night               2               0\n",
      "33       True      cabinet      day               1               3\n",
      "34       True      cabinet  morning               0               3\n",
      "35      False   dishwasher      day               1               0\n",
      "36      False      cabinet    night               2               3\n",
      "37      False         sink  morning               0               1\n",
      "38      False   dishwasher      day               1               0\n",
      "39      False         sink  morning               0               1\n",
      "..        ...          ...      ...             ...             ...\n",
      "70       True      cabinet  morning               0               3\n",
      "71      False   dishwasher  morning               0               0\n",
      "72      False         sink    night               2               1\n",
      "73      False  counter-top      day               1               2\n",
      "74      False         sink  morning               0               1\n",
      "75      False  counter-top    night               2               2\n",
      "76      False  counter-top  morning               0               2\n",
      "77       True      cabinet  morning               0               3\n",
      "78      False   dishwasher      day               1               0\n",
      "79      False  counter-top      day               1               2\n",
      "80      False  counter-top  morning               0               2\n",
      "81      False  counter-top      day               1               2\n",
      "82      False         sink    night               2               1\n",
      "83      False   dishwasher  morning               0               0\n",
      "84      False         sink      day               1               1\n",
      "85      False         sink    night               2               1\n",
      "86      False  counter-top      day               1               2\n",
      "87      False   dishwasher      day               1               0\n",
      "88      False         sink    night               2               1\n",
      "89      False         sink      day               1               1\n",
      "90      False   dishwasher  morning               0               0\n",
      "91      False         sink      day               1               1\n",
      "92      False      cabinet    night               2               3\n",
      "93      False         sink    night               2               1\n",
      "94      False         sink  morning               0               1\n",
      "95      False   dishwasher  morning               0               0\n",
      "96      False   dishwasher      day               1               0\n",
      "97       True      cabinet  morning               0               3\n",
      "98      False         sink    night               2               1\n",
      "99       True      cabinet  morning               0               3\n",
      "\n",
      "[90 rows x 5 columns]\n"
     ]
    },
    {
     "data": {
      "image/png": "[encoded data removed]",
      "text/plain": [
       "<matplotlib.figure.Figure at 0x7fbf8a7ea048>"
      ]
     },
     "metadata": {},
     "output_type": "display_data"
    }
   ],
   "source": [
    "# Some constatnts we will be using \n",
    "\n",
    "n_locations = 4 #Number of colors in each bag\n",
    "locations_dict = {0:'dishwasher', 1:'sink', 2:'counter-top', 3:'cabinet'}\n",
    "n_timezones = 3 # Number of bags\n",
    "time_dict = {0:'morning', 1:'day', 2:'night'}\n",
    "n_trials = 100\n",
    "\n",
    "from bayespy import nodes\n",
    "import numpy as np\n",
    "import pandas as pd\n",
    "\n",
    "alpha = 1e-1 * np.ones(n_locations)\n",
    "#Generate some random distributions for the color distribution inside each bags\n",
    "p_locations = nodes.Dirichlet(alpha,\n",
    "                          plates = (n_timezones,)).random()\n",
    "timezone_index = nodes.Categorical((1/n_timezones)*np.ones(n_timezones), plates=(n_trials,)).random()\n",
    "location_index = nodes.Categorical((1/n_locations)*np.ones(n_locations), plates=(n_trials,)).random()\n",
    "is_object_present = nodes.Bernoulli(p_locations[timezone_index, location_index]).random()\n",
    "#np.column_stack([time[timezone_index], locations[location_index], is_object_present])\n",
    "\n",
    "object_location_dataset = pd.DataFrame({'is_present' : is_object_present,\n",
    "                                        'timezone' : timezone_index,\n",
    "                                        'location' : location_index})\n",
    "\n",
    "object_location_dataset['timezone'] = object_location_dataset['timezone'].map(time_dict)\n",
    "object_location_dataset['location'] = object_location_dataset['location'].map(locations_dict)\n",
    "object_location_dataset['is_present'] = object_location_dataset['is_present'].astype(bool)\n",
    "\n",
    "#Adding for learning without bernouli hack\n",
    "object_location_dataset['timezone_index'] = timezone_index\n",
    "object_location_dataset['location_index'] = location_index\n",
    "print (object_location_dataset[10:])\n",
    "#data[\"test\"] = data[\"A\"].map(map_dict)\n",
    "\n",
    "%matplotlib inline\n",
    "import bayespy.plot as bpplt\n",
    "bpplt.hinton(p_locations)\n",
    "bpplt.pyplot.title(\"Learned Distribution \")\n",
    "bpplt.pyplot.show()"
   ]
  },
  {
   "cell_type": "markdown",
   "metadata": {},
   "source": [
    "# Dirichlet-Categorical-Bernoulli \n",
    "\n",
    "With absent data learning"
   ]
  },
  {
   "cell_type": "code",
   "execution_count": 47,
   "metadata": {
    "collapsed": false
   },
   "outputs": [
    {
     "name": "stdout",
     "output_type": "stream",
     "text": [
      "Iteration 1: loglike=-4.803112e+01 (0.018 seconds)\n",
      "Iteration 2: loglike=-3.982640e+01 (0.013 seconds)\n",
      "Iteration 3: loglike=-3.728451e+01 (0.009 seconds)\n",
      "Iteration 4: loglike=-3.616970e+01 (0.009 seconds)\n",
      "Iteration 5: loglike=-3.563132e+01 (0.009 seconds)\n",
      "Iteration 6: loglike=-3.535243e+01 (0.013 seconds)\n",
      "Iteration 7: loglike=-3.519984e+01 (0.016 seconds)\n",
      "Iteration 8: loglike=-3.511265e+01 (0.014 seconds)\n",
      "Iteration 9: loglike=-3.506105e+01 (0.016 seconds)\n",
      "Iteration 10: loglike=-3.502963e+01 (0.015 seconds)\n",
      "Iteration 11: loglike=-3.501007e+01 (0.009 seconds)\n",
      "Iteration 12: loglike=-3.499771e+01 (0.008 seconds)\n",
      "Iteration 13: loglike=-3.498979e+01 (0.008 seconds)\n",
      "Iteration 14: loglike=-3.498468e+01 (0.008 seconds)\n",
      "Iteration 15: loglike=-3.498137e+01 (0.009 seconds)\n",
      "Iteration 16: loglike=-3.497921e+01 (0.008 seconds)\n",
      "Iteration 17: loglike=-3.497781e+01 (0.008 seconds)\n",
      "Iteration 18: loglike=-3.497689e+01 (0.008 seconds)\n",
      "Iteration 19: loglike=-3.497628e+01 (0.008 seconds)\n",
      "Iteration 20: loglike=-3.497589e+01 (0.008 seconds)\n",
      "Iteration 21: loglike=-3.497563e+01 (0.008 seconds)\n",
      "Converged at iteration 21.\n",
      " ~ Categorical(p)\n",
      "  p = \n",
      "[[ 0.          0.          0.          1.        ]\n",
      " [ 0.          0.          0.          1.        ]\n",
      " [ 0.          0.          0.          1.        ]\n",
      " [ 0.00771821  0.          0.00771821  0.98456357]\n",
      " [ 0.00772559  0.00677004  0.          0.98550437]\n",
      " [ 0.00771821  0.          0.00771821  0.98456357]\n",
      " [ 0.00772559  0.00677004  0.          0.98550437]\n",
      " [ 0.          0.          0.          1.        ]\n",
      " [ 0.00771821  0.          0.00771821  0.98456357]\n",
      " [ 0.00772559  0.00677004  0.          0.98550437]\n",
      " [ 0.          0.          0.          1.        ]\n",
      " [ 0.          0.00677004  0.00772559  0.98550437]\n",
      " [ 0.          0.          0.          1.        ]\n",
      " [ 0.          0.          0.          1.        ]\n",
      " [ 0.          0.          0.          1.        ]\n",
      " [ 0.          0.          0.          1.        ]\n",
      " [ 0.00771821  0.          0.00771821  0.98456357]\n",
      " [ 0.00771821  0.          0.00771821  0.98456357]\n",
      " [ 0.          0.00677004  0.00772559  0.98550437]\n",
      " [ 0.00771821  0.          0.00771821  0.98456357]\n",
      " [ 0.00771821  0.          0.00771821  0.98456357]\n",
      " [ 0.          0.          0.          1.        ]\n",
      " [ 0.00772559  0.00677004  0.          0.98550437]\n",
      " [ 0.          0.          0.          1.        ]\n",
      " [ 0.          0.          0.          1.        ]\n",
      " [ 0.          0.00677004  0.00772559  0.98550437]\n",
      " [ 0.00771821  0.          0.00771821  0.98456357]\n",
      " [ 0.00772559  0.00677004  0.          0.98550437]\n",
      " [ 0.          0.          0.          1.        ]\n",
      " [ 0.00772559  0.00677004  0.          0.98550437]\n",
      " [ 0.          0.00677004  0.00772559  0.98550437]\n",
      " [ 0.          0.00677004  0.00772559  0.98550437]\n",
      " [ 0.00771821  0.          0.00771821  0.98456357]\n",
      " [ 0.          0.00677004  0.00772559  0.98550437]\n",
      " [ 0.          0.          0.          1.        ]\n",
      " [ 0.          0.          0.          1.        ]]\n",
      "\n",
      " ~ Dirichlet(alpha)\n",
      "  alpha =\n",
      "[  0.68668027   0.64384333   0.68668027  36.77666546]\n",
      "Iteration 1: loglike=-4.977377e+01 (0.009 seconds)\n",
      "Iteration 2: loglike=-4.452108e+01 (0.008 seconds)\n",
      "Iteration 3: loglike=-4.174181e+01 (0.009 seconds)\n",
      "Iteration 4: loglike=-4.030370e+01 (0.009 seconds)\n",
      "Iteration 5: loglike=-3.956464e+01 (0.009 seconds)\n",
      "Iteration 6: loglike=-3.917791e+01 (0.009 seconds)\n",
      "Iteration 7: loglike=-3.896658e+01 (0.009 seconds)\n",
      "Iteration 8: loglike=-3.884385e+01 (0.012 seconds)\n",
      "Iteration 9: loglike=-3.876922e+01 (0.013 seconds)\n",
      "Iteration 10: loglike=-3.872369e+01 (0.010 seconds)\n",
      "Iteration 11: loglike=-3.869718e+01 (0.010 seconds)\n",
      "Iteration 12: loglike=-3.868300e+01 (0.008 seconds)\n",
      "Iteration 13: loglike=-3.867623e+01 (0.008 seconds)\n",
      "Iteration 14: loglike=-3.867337e+01 (0.008 seconds)\n",
      "Iteration 15: loglike=-3.867233e+01 (0.013 seconds)\n",
      "Iteration 16: loglike=-3.867203e+01 (0.016 seconds)\n",
      "Converged at iteration 16.\n",
      " ~ Dirichlet(alpha)\n",
      "  alpha =\n",
      "[  0.39455043   0.44085419   2.50639323  36.24973088]\n",
      "Iteration 1: loglike=-4.006425e+01 (0.017 seconds)\n",
      "Iteration 2: loglike=-3.639394e+01 (0.016 seconds)\n",
      "Iteration 3: loglike=-3.468534e+01 (0.012 seconds)\n",
      "Iteration 4: loglike=-3.380407e+01 (0.008 seconds)\n",
      "Iteration 5: loglike=-3.334933e+01 (0.008 seconds)\n",
      "Iteration 6: loglike=-3.312565e+01 (0.008 seconds)\n",
      "Iteration 7: loglike=-3.301051e+01 (0.007 seconds)\n",
      "Iteration 8: loglike=-3.294408e+01 (0.007 seconds)\n",
      "Iteration 9: loglike=-3.290236e+01 (0.008 seconds)\n",
      "Iteration 10: loglike=-3.287402e+01 (0.008 seconds)\n",
      "Iteration 11: loglike=-3.285294e+01 (0.008 seconds)\n",
      "Iteration 12: loglike=-3.283567e+01 (0.008 seconds)\n",
      "Iteration 13: loglike=-3.282029e+01 (0.008 seconds)\n",
      "Iteration 14: loglike=-3.280578e+01 (0.007 seconds)\n",
      "Iteration 15: loglike=-3.279180e+01 (0.007 seconds)\n",
      "Iteration 16: loglike=-3.277850e+01 (0.008 seconds)\n",
      "Iteration 17: loglike=-3.276644e+01 (0.008 seconds)\n",
      "Iteration 18: loglike=-3.275627e+01 (0.008 seconds)\n",
      "Iteration 19: loglike=-3.274844e+01 (0.008 seconds)\n",
      "Iteration 20: loglike=-3.274294e+01 (0.011 seconds)\n",
      "Iteration 21: loglike=-3.273936e+01 (0.008 seconds)\n",
      "Iteration 22: loglike=-3.273714e+01 (0.013 seconds)\n",
      "Iteration 23: loglike=-3.273577e+01 (0.008 seconds)\n",
      "Iteration 24: loglike=-3.273492e+01 (0.008 seconds)\n",
      "Iteration 25: loglike=-3.273438e+01 (0.007 seconds)\n",
      "Iteration 26: loglike=-3.273403e+01 (0.011 seconds)\n",
      "Iteration 27: loglike=-3.273379e+01 (0.008 seconds)\n",
      "Converged at iteration 27.\n",
      " ~ Dirichlet(alpha)\n",
      "  alpha =\n",
      "[ 24.51496018   0.22956836   0.33909189   3.80305275]\n"
     ]
    }
   ],
   "source": [
    "import bayespy as bp\n",
    "\n",
    "\n",
    "# Concentration parameter\n",
    "# adding parameter to share information between the different timezones\n",
    "p_conc_01 = nodes.DirichletConcentration(n_locations)\n",
    "p_conc_01.initialize_from_value(np.ones(n_locations))\n",
    "#location_probabilities = [  bp.nodes.Dirichlet(p_conc_01) ] * n_timezones\n",
    "location_probabilities = [] #[bp.nodes.Dirichlet([1,1,1]) ] * n_timezones # wito\n",
    "location_categories = []\n",
    "observations = []\n",
    "for index, time in time_dict.items():\n",
    "    # create location probabiliees\n",
    "    location_probabilities.append(bp.nodes.Dirichlet(p_conc_01))\n",
    "    #location_probabilities.append(bp.nodes.Dirichlet([0.1, 0.1, 0.1]))\n",
    "    \n",
    "    \n",
    "    #create the updated data format\n",
    "    bernoulli_data_format = np.zeros((n_trials, n_locations))\n",
    "    temp = object_location_dataset[object_location_dataset['timezone'] == time].as_matrix()\n",
    "    #temp = object_location_dataset[(object_location_dataset['timezone'] == time) \n",
    "    #                               & (object_location_dataset['is_present'] == True)].as_matrix()\n",
    "    bernoulli_data_format = np.zeros((temp.shape[0], n_locations))\n",
    "    for count, [is_present, location, _, _, _] in enumerate(temp):\n",
    "        key = [key for key, location_name in locations_dict.items() if location_name == location][0]\n",
    "        if is_present:\n",
    "            bernoulli_data_format[count][key] = 0.5\n",
    "        else :\n",
    "            bernoulli_data_format[count] = 0.5\n",
    "            bernoulli_data_format[count][key] = 0.0\n",
    "            \n",
    "    location_categories.append(bp.nodes.Categorical(location_probabilities[index],\n",
    "                                                    plates=(temp.shape[0],)))\n",
    "    observations.append(bp.nodes.Mixture(\n",
    "                        location_categories[index],\n",
    "                        bp.nodes.Bernoulli,\n",
    "                        bernoulli_data_format.tolist()))\n",
    "    observations[index].observe([True] * temp.shape[0])\n",
    "    \n",
    "   \n",
    "\"\"\"\n",
    "Q = bp.inference.VB(observations[0], observations[1], observations[2],\n",
    "                    location_categories[0], location_categories[1], location_categories[2],\n",
    "                    location_probabilities[0], location_probabilities[1], location_probabilities[2],\n",
    "                    p_conc_01)\n",
    "\"\"\"\n",
    "Q = bp.inference.VB(observations[0], location_categories[0], location_probabilities[0], p_conc_01)\n",
    "Q.update(repeat=100)\n",
    "print(location_categories[0])\n",
    "print(location_probabilities[0])\n",
    "Q = bp.inference.VB(observations[1], location_categories[1], location_probabilities[1], p_conc_01)\n",
    "Q.update(repeat=100)\n",
    "print(location_probabilities[1])\n",
    "Q = bp.inference.VB(observations[2], location_categories[2], location_probabilities[2], p_conc_01)\n",
    "Q.update(repeat=100)\n",
    "print(location_probabilities[2])"
   ]
  },
  {
   "cell_type": "code",
   "execution_count": 46,
   "metadata": {
    "collapsed": false
   },
   "outputs": [
    {
     "data": {
      "image/png": "[encoded data removed]",
      "text/plain": [
       "<matplotlib.figure.Figure at 0x7fbf8a5520b8>"
      ]
     },
     "metadata": {},
     "output_type": "display_data"
    },
    {
     "data": {
      "image/png": "[encoded data removed]",
      "text/plain": [
       "<matplotlib.figure.Figure at 0x7fbf8a723860>"
      ]
     },
     "metadata": {},
     "output_type": "display_data"
    },
    {
     "data": {
      "image/png": "[encoded data removed]",
      "text/plain": [
       "<matplotlib.figure.Figure at 0x7fbf8a7a8ac8>"
      ]
     },
     "metadata": {},
     "output_type": "display_data"
    }
   ],
   "source": [
    "%matplotlib inline\n",
    "import bayespy.plot as bpplt\n",
    "bpplt.pyplot.title(\"Learned Distribution \")\n",
    "bpplt.hinton(location_probabilities[0])\n",
    "bpplt.pyplot.show()\n",
    "bpplt.hinton(location_probabilities[1])\n",
    "bpplt.pyplot.show()\n",
    "bpplt.hinton(location_probabilities[2])\n",
    "bpplt.pyplot.show()"
   ]
  },
  {
   "cell_type": "code",
   "execution_count": 33,
   "metadata": {
    "collapsed": false
   },
   "outputs": [
    {
     "name": "stdout",
     "output_type": "stream",
     "text": [
      " Bhatta KL  : -9.99513130641\n",
      " Bhatta KL  : -8.04448695221\n",
      " Bhatta KL  : -49.7242529725\n"
     ]
    }
   ],
   "source": [
    "\n",
    "for index in time_dict.keys():\n",
    "    beta = p_locations[index]\n",
    "    alpha = location_probabilities[index].get_parameters()[0]\n",
    "\n",
    "    D = np.log2(0.5*sum(alpha) + 0.5*sum(beta)) + \\\n",
    "        0.5*sum(np.log2(alpha)) + 0.5*sum(np.log2(beta)) - \\\n",
    "        sum(np.log2(np.add(alpha, beta) / 2)) - \\\n",
    "        0.5 * np.log2(sum(alpha)) + \\\n",
    "        0.5 * np.log2(sum(beta))\n",
    "        \n",
    "    print (' Bhatta KL  :', D)"
   ]
  },
  {
   "cell_type": "markdown",
   "metadata": {},
   "source": [
    "T.W. Rauber, A. Conci, T. Braun, and K. Berns.  Bhattacharyya probabilistic\n",
    "distance of the dirichlet density and its application to split-and-merge image seg-\n",
    "mentation. In\n",
    "WSSIP08\n",
    ", pages 145–148, 2008.\n",
    "\n",
    "Bhattacharyya distance\n",
    "We adopt the Bhattacharyya distance [4] to quantify the similarity between at-\n",
    "tack types distributions. The Bhattacharyya distance is a measure of divergence\n",
    "between probability distributions, that allows measuring the dissimilarity be-\n",
    "tween two continuous or discrete probability distributions. As such, it goes from\n",
    "zero (when the compared distributions are identical) to infinite (when there is\n",
    "no overlap between the compared distributions). For continuous probability dis-\n",
    "tributions, it is defined as follows:\n",
    "\n",
    "![](images/bhatta-Dirichlet.png)"
   ]
  },
  {
   "cell_type": "code",
   "execution_count": 22,
   "metadata": {
    "collapsed": false
   },
   "outputs": [
    {
     "name": "stdout",
     "output_type": "stream",
     "text": [
      "D :  [  7.13748557e+11   9.77128868e+04  -7.94493136e+01   2.04221363e+14]\n",
      "D :  [ -2.18309376e+01   3.91040692e+03   2.35434293e+00   2.79512098e+03]\n",
      "D :  [  2.02222039e+01  -4.29992846e+01   2.04464034e+07  -1.30303229e+01]\n"
     ]
    }
   ],
   "source": [
    "# Comparing KL Divergancedirichlet \n",
    "'''\n",
    "http://bariskurt.com/kullback-leibler-divergence-between-two-dirichlet-and-beta-distributions/\n",
    "'''\n",
    "import scipy.special\n",
    "\n",
    "for index in time_dict.keys():\n",
    "    alpha = p_locations[index]\n",
    "    beta = location_probabilities[index].get_parameters()[0]\n",
    "    D = scipy.special.gammaln(sum(alpha)) - \\\n",
    "        scipy.special.gammaln(sum(beta)) - \\\n",
    "        sum(scipy.special.gammaln(alpha)) + \\\n",
    "        sum(scipy.special.gammaln(beta)) +  \\\n",
    "        (alpha - beta) * (scipy.special.psi(alpha) - scipy.special.psi(sum(alpha)))\n",
    "    print ('D : ', D)"
   ]
  },
  {
   "cell_type": "code",
   "execution_count": 23,
   "metadata": {
    "collapsed": false
   },
   "outputs": [
    {
     "name": "stdout",
     "output_type": "stream",
     "text": [
      "[  4.01354641e+01   1.72564310e+01   9.21451830e-06   4.83630615e+01]\n"
     ]
    }
   ],
   "source": [
    "# Bhattacharya distance\n",
    "\n",
    "from scipy.special import gammaln\n",
    "import numpy as np\n",
    "\n",
    "alpha = p_locations[0]\n",
    "beta = location_probabilities[0].get_parameters()[0]\n",
    "beta = alpha\n",
    "'''\n",
    "D = - gammaln(sum(np.add(alpha, beta)/2)) + \\\n",
    "    0.5*(sum(gammaln(alpha)) + sum(gammaln(beta))) - \\\n",
    "    sum(gammaln(np.add(alpha, beta) / 2)) -  \\\n",
    "    0.5*(gammaln(alpha) + gammaln(beta))\n",
    "'''  \n",
    "D = - np.log2(sum(np.add(alpha, beta)/2)) + \\\n",
    "    0.5*(sum(np.log2(alpha)) + sum(np.log2(beta))) - \\\n",
    "    sum(np.log2(np.add(alpha, beta) / 2)) -  \\\n",
    "    0.5*(np.log2(alpha) + np.log2(beta))\n",
    "print (D)"
   ]
  },
  {
   "cell_type": "markdown",
   "metadata": {},
   "source": [
    "# Dirichlet-Categorical Distribution"
   ]
  },
  {
   "cell_type": "code",
   "execution_count": 38,
   "metadata": {
    "collapsed": false
   },
   "outputs": [
    {
     "name": "stdout",
     "output_type": "stream",
     "text": [
      "Iteration 1: loglike=-3.309852e+01 (0.003 seconds)\n",
      "Iteration 2: loglike=-3.309852e+01 (0.002 seconds)\n",
      "Converged at iteration 2.\n"
     ]
    },
    {
     "data": {
      "image/png": "[encoded data removed]",
      "text/plain": [
       "<matplotlib.figure.Figure at 0x7fbf8a6af550>"
      ]
     },
     "metadata": {},
     "output_type": "display_data"
    }
   ],
   "source": [
    "\n",
    "p_conc = bp.nodes.DirichletConcentration(n_locations)\n",
    "p_conc.initialize_from_value(np.ones(n_locations))\n",
    "#p_theta = bp.nodes.Dirichlet(p_conc,\n",
    "p_theta = bp.nodes.Dirichlet(np.ones(n_locations)*10,\n",
    "                          plates=(n_timezones,),\n",
    "                          name='p_theta')\n",
    "\n",
    "only_true_object_location = object_location_dataset[object_location_dataset['is_present'] == True]\n",
    "n_observations = only_true_object_location.shape[0]\n",
    "recordings_time = only_true_object_location['timezone_index'].as_matrix().reshape((n_observations, 1))\n",
    "\n",
    "Y = nodes.Mixture(recordings_time, nodes.Categorical, p_theta)\n",
    "\n",
    "#Observe Data\n",
    "Y.observe(only_true_object_location['location_index'].reshape((n_observations, 1)))\n",
    "\n",
    "#Inference\n",
    "#Q = bp.inference.VB(Y, p_theta, p_conc)\n",
    "Q = bp.inference.VB(Y, p_theta)\n",
    "Q.update(repeat=1000)\n",
    "\n",
    "\n",
    "%matplotlib inline\n",
    "import bayespy.plot as bpplt\n",
    "bpplt.hinton(p_theta)\n",
    "bpplt.pyplot.title(\"Learned Distribution \")\n",
    "bpplt.pyplot.show()"
   ]
  },
  {
   "cell_type": "code",
   "execution_count": 48,
   "metadata": {
    "collapsed": false
   },
   "outputs": [
    {
     "name": "stdout",
     "output_type": "stream",
     "text": [
      " With only present data  :  -15.2622384106  with both data   -9.99513130641\n",
      " With only present data  :  -13.0901816038  with both data   -8.04448695221\n",
      " With only present data  :  -55.1087281689  with both data   -49.7242529725\n"
     ]
    }
   ],
   "source": [
    "for index in time_dict.keys():\n",
    "    beta = p_locations[index]\n",
    "    alpha = p_theta.get_parameters()[0][0]\n",
    "\n",
    "    D1 = np.log2(0.5*sum(alpha) + 0.5*sum(beta)) + \\\n",
    "        0.5*sum(np.log2(alpha)) + 0.5*sum(np.log2(beta)) - \\\n",
    "        sum(np.log2(np.add(alpha, beta) / 2)) - \\\n",
    "        0.5 * np.log2(sum(alpha)) + \\\n",
    "        0.5 * np.log2(sum(beta))\n",
    "\n",
    "    beta = p_locations[index]\n",
    "    alpha = location_probabilities[index].get_parameters()[0]\n",
    "\n",
    "    D2 = np.log2(0.5*sum(alpha) + 0.5*sum(beta)) + \\\n",
    "        0.5*sum(np.log2(alpha)) + 0.5*sum(np.log2(beta)) - \\\n",
    "        sum(np.log2(np.add(alpha, beta) / 2)) - \\\n",
    "        0.5 * np.log2(sum(alpha)) + \\\n",
    "        0.5 * np.log2(sum(beta))\n",
    "        \n",
    "    print (' With only present data  : ', D1, \" with both data  \", D2 )"
   ]
  },
  {
   "cell_type": "markdown",
   "metadata": {},
   "source": [
    "# Using concentration + beta-bernoulli"
   ]
  },
  {
   "cell_type": "code",
   "execution_count": null,
   "metadata": {
    "collapsed": true
   },
   "outputs": [],
   "source": []
  }
 ],
 "metadata": {
  "kernelspec": {
   "display_name": "Python 3",
   "language": "python",
   "name": "python3"
  },
  "language_info": {
   "codemirror_mode": {
    "name": "ipython",
    "version": 3
   },
   "file_extension": ".py",
   "mimetype": "text/x-python",
   "name": "python",
   "nbconvert_exporter": "python",
   "pygments_lexer": "ipython3",
   "version": "3.5.2"
  }
 },
 "nbformat": 4,
 "nbformat_minor": 0
}
