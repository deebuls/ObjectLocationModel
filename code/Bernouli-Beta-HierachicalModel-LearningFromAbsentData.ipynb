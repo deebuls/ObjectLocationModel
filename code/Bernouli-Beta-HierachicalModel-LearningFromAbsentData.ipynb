{
 "cells": [
  {
   "cell_type": "code",
   "execution_count": 188,
   "metadata": {
    "collapsed": false
   },
   "outputs": [
    {
     "name": "stdout",
     "output_type": "stream",
     "text": [
      "Iteration 1: loglike=-6.040255e+00 (0.005 seconds)\n",
      "Iteration 2: loglike=-5.947403e+00 (0.004 seconds)\n",
      "Iteration 3: loglike=-5.905029e+00 (0.004 seconds)\n",
      "Iteration 4: loglike=-5.885717e+00 (0.004 seconds)\n",
      "Iteration 5: loglike=-5.877010e+00 (0.004 seconds)\n",
      "Iteration 6: loglike=-5.873131e+00 (0.004 seconds)\n",
      "Iteration 7: loglike=-5.871422e+00 (0.004 seconds)\n",
      "Iteration 8: loglike=-5.870674e+00 (0.004 seconds)\n",
      "Iteration 9: loglike=-5.870350e+00 (0.004 seconds)\n",
      "Iteration 10: loglike=-5.870209e+00 (0.003 seconds)\n",
      " ~ Dirichlet(alpha)\n",
      "  alpha =\n",
      "[ 1.          4.94483965  2.05516035]\n",
      " ~ Categorical(p)\n",
      "  p = \n",
      "[[ 0.          0.73620991  0.26379009]\n",
      " [ 0.          0.73620991  0.26379009]\n",
      " [ 0.          0.73620991  0.26379009]\n",
      " [ 0.          0.73620991  0.26379009]\n",
      " [ 0.          1.          0.        ]]\n",
      "\n"
     ]
    },
    {
     "data": {
      "image/png": "[encoded data removed]",
      "text/plain": [
       "<matplotlib.figure.Figure at 0x7fb58b8c7e10>"
      ]
     },
     "metadata": {},
     "output_type": "display_data"
    }
   ],
   "source": [
    "\n",
    "import bayespy as bp\n",
    "\n",
    "\n",
    "# Concentration parameter\n",
    "# adding parameter to share information between the different timezones\n",
    "p_conc_01 = nodes.DirichletConcentration(3)\n",
    "p_conc_01.initialize_from_value(np.ones(3))\n",
    "p = bp.nodes.Dirichlet(p_conc_01)\n",
    "#p = bp.nodes.Dirichlet([1,1,1]) # wito\n",
    "locations = bp.nodes.Categorical(p, plates=(5,))\n",
    "observations = bp.nodes.Mixture(\n",
    "    locations,\n",
    "    bp.nodes.Bernoulli,\n",
    "    [\n",
    "        [0.0, 0.5, 0.5],\n",
    "        [0.0, 0.5, 0.5],\n",
    "        [0.0, 0.5, 0.5],\n",
    "        [0.0, 0.5, 0.5],\n",
    "        [0.0, 0.5, 0.0],\n",
    "    ]\n",
    ")\n",
    "observations.observe([True, True, True, True, True])\n",
    "Q = bp.inference.VB(observations, locations, p)\n",
    "Q.update(repeat=10)\n",
    "print(p)\n",
    "print(locations)\n",
    "\n",
    "%matplotlib inline\n",
    "import bayespy.plot as bpplt\n",
    "bpplt.hinton(p)\n",
    "bpplt.pyplot.title(\"Learned Distribution \")\n",
    "bpplt.pyplot.show()"
   ]
  },
  {
   "cell_type": "markdown",
   "metadata": {
    "collapsed": true
   },
   "source": [
    "# Learning from no data\n",
    "\n",
    "The major problem we faced for the data collection in real world for the thesis was occlussion.\n",
    "Consider a real world kitchen, all the objects cups, plates, bowls etc are always inside cabinets, washing machine etc occlluded from direct vision. \n",
    "\n",
    "We needed to learn from this non availability of data. But how can you learn when there is no data.\n",
    "\n",
    "Lets make a small example of this problem. Our domestic robot is trying to model the object location of a cup. The cup can be on 3 locations the workspace, dishwasher or cabinet.\n",
    "We start with equal probabilities as prior [0.33, 0.33, 0.33]\n",
    "Now the dishwasher and the cabinet are occluded spaces and the domestic robot hardly gets any reading of the object location in these locations. But it can always see the workspace. \n",
    "The robot went to the workstation 3 times in the whole day and finds the cup only during the afternoon. Based on this observation we run our inference and the posterior probability looks like this [0.5, 0.7, 0.5] for the afternoon. No changes in the morning and the evening.\n",
    "\n",
    "But this is the partial truth the robot saw something in morning and evening. The robot saw nothing in the morning and evening. This information can be used to infer about the probable location of the cup during the same time.\n",
    "\n",
    "\n",
    "\n",
    "After the observation the posterior distribution decreases the probability of finding cup on workspace in morning \n",
    "\n"
   ]
  },
  {
   "cell_type": "code",
   "execution_count": 189,
   "metadata": {
    "collapsed": false
   },
   "outputs": [
    {
     "name": "stdout",
     "output_type": "stream",
     "text": [
      "  is_present  location timezone  timezone_index  location_index\n",
      "0       True   kitchen    night               2               0\n",
      "1       True  platform  morning               0               2\n",
      "2       True   kitchen    night               2               0\n",
      "3      False   kitchen  morning               0               0\n",
      "4      False   kitchen  morning               0               0\n",
      "5       True  platform  morning               0               2\n",
      "6      False      sink    night               2               1\n",
      "7      False      sink  morning               0               1\n",
      "8      False      sink    night               2               1\n",
      "9      False  platform      day               1               2\n"
     ]
    },
    {
     "data": {
      "image/png": "[encoded data removed]",
      "text/plain": [
       "<matplotlib.figure.Figure at 0x7fb58b9149e8>"
      ]
     },
     "metadata": {},
     "output_type": "display_data"
    }
   ],
   "source": [
    "# Some constatnts we will be using \n",
    "\n",
    "n_locations = 3 #Number of colors in each bag\n",
    "locations_dict = {0:'kitchen', 1:'sink', 2:'platform'}\n",
    "n_timezones = 3 # Number of bags\n",
    "time_dict = {0:'morning', 1:'day', 2:'night'}\n",
    "n_trials = 20\n",
    "\n",
    "from bayespy import nodes\n",
    "import numpy as np\n",
    "import pandas as pd\n",
    "\n",
    "alpha = 1e-1 * np.ones(n_locations)\n",
    "#Generate some random distributions for the color distribution inside each bags\n",
    "p_locations = nodes.Dirichlet(alpha,\n",
    "                          plates = (n_timezones,)).random()\n",
    "timezone_index = nodes.Categorical((1/n_timezones)*np.ones(n_timezones), plates=(10,)).random()\n",
    "location_index = nodes.Categorical((1/n_locations)*np.ones(n_locations), plates=(10,)).random()\n",
    "is_object_present = nodes.Bernoulli(p_locations[timezone_index, location_index]).random()\n",
    "#np.column_stack([time[timezone_index], locations[location_index], is_object_present])\n",
    "\n",
    "object_location_dataset = pd.DataFrame({'is_present' : is_object_present,\n",
    "                                        'timezone' : timezone_index,\n",
    "                                        'location' : location_index})\n",
    "\n",
    "object_location_dataset['timezone'] = object_location_dataset['timezone'].map(time_dict)\n",
    "object_location_dataset['location'] = object_location_dataset['location'].map(locations_dict)\n",
    "object_location_dataset['is_present'] = object_location_dataset['is_present'].astype(bool)\n",
    "\n",
    "#Adding for learning without bernouli hack\n",
    "object_location_dataset['timezone_index'] = timezone_index\n",
    "object_location_dataset['location_index'] = location_index\n",
    "print (object_location_dataset)\n",
    "#data[\"test\"] = data[\"A\"].map(map_dict)\n",
    "\n",
    "%matplotlib inline\n",
    "import bayespy.plot as bpplt\n",
    "bpplt.hinton(p_locations)\n",
    "bpplt.pyplot.title(\"Learned Distribution \")\n",
    "bpplt.pyplot.show()"
   ]
  },
  {
   "cell_type": "code",
   "execution_count": 190,
   "metadata": {
    "collapsed": false
   },
   "outputs": [
    {
     "name": "stdout",
     "output_type": "stream",
     "text": [
      "Iteration 1: loglike=-8.842519e+00 (0.019 seconds)\n",
      "Iteration 2: loglike=-8.300036e+00 (0.017 seconds)\n",
      "Iteration 3: loglike=-8.259809e+00 (0.015 seconds)\n",
      "Iteration 4: loglike=-8.252392e+00 (0.014 seconds)\n",
      "Iteration 5: loglike=-8.251776e+00 (0.013 seconds)\n",
      "Iteration 6: loglike=-8.252560e+00 (0.020 seconds)\n",
      "Converged at iteration 6.\n",
      " ~ Categorical(p)\n",
      "  p = \n",
      "[[ 0.          0.          1.        ]\n",
      " [ 0.          0.15850047  0.84149953]\n",
      " [ 0.          0.15850047  0.84149953]\n",
      " [ 0.          0.          1.        ]\n",
      " [ 0.12616924  0.          0.87383076]]\n",
      "\n",
      " ~ Dirichlet(alpha)\n",
      "  alpha =\n",
      "[ 1.23890875  1.47833128  6.10231161]\n",
      "Iteration 1: loglike=-3.669296e+00 (0.013 seconds)\n",
      "Iteration 2: loglike=-3.640822e+00 (0.013 seconds)\n",
      "Iteration 3: loglike=-3.637038e+00 (0.012 seconds)\n",
      "Iteration 4: loglike=-3.636404e+00 (0.017 seconds)\n",
      "Iteration 5: loglike=-3.636282e+00 (0.012 seconds)\n",
      "Iteration 6: loglike=-3.636259e+00 (0.011 seconds)\n",
      "Converged at iteration 6.\n",
      " ~ Dirichlet(alpha)\n",
      "  alpha =\n",
      "[ 1.74648923  1.86466786  1.81727552]\n",
      "Iteration 1: loglike=-7.510407e+00 (0.013 seconds)\n",
      "Iteration 2: loglike=-7.425731e+00 (0.016 seconds)\n",
      "Iteration 3: loglike=-7.420190e+00 (0.013 seconds)\n",
      "Iteration 4: loglike=-7.418231e+00 (0.012 seconds)\n",
      "Iteration 5: loglike=-7.417342e+00 (0.012 seconds)\n",
      "Iteration 6: loglike=-7.416905e+00 (0.016 seconds)\n",
      "Iteration 7: loglike=-7.416680e+00 (0.013 seconds)\n",
      "Iteration 8: loglike=-7.416559e+00 (0.012 seconds)\n",
      "Iteration 9: loglike=-7.416499e+00 (0.012 seconds)\n",
      "Converged at iteration 9.\n",
      " ~ Dirichlet(alpha)\n",
      "  alpha =\n",
      "[ 4.9232346   1.25919721  2.73107956]\n"
     ]
    },
    {
     "name": "stderr",
     "output_type": "stream",
     "text": [
      "/home/deebuls/anaconda3/lib/python3.5/site-packages/bayespy/inference/vmp/vmp.py:734: UserWarning: Lower bound decreased 7.839547e-04! Bug somewhere or numerical inaccuracy?\n",
      "  \"numerical inaccuracy?\" % L_diff)\n"
     ]
    }
   ],
   "source": [
    "import bayespy as bp\n",
    "\n",
    "\n",
    "# Concentration parameter\n",
    "# adding parameter to share information between the different timezones\n",
    "p_conc_01 = nodes.DirichletConcentration(n_locations)\n",
    "p_conc_01.initialize_from_value(np.ones(n_locations))\n",
    "#location_probabilities = [  bp.nodes.Dirichlet(p_conc_01) ] * n_timezones\n",
    "location_probabilities = [] #[bp.nodes.Dirichlet([1,1,1]) ] * n_timezones # wito\n",
    "location_categories = []\n",
    "observations = []\n",
    "for index, time in time_dict.items():\n",
    "    # create location probabiliees\n",
    "    location_probabilities.append(bp.nodes.Dirichlet(p_conc_01))\n",
    "    #location_probabilities.append(bp.nodes.Dirichlet([0.1, 0.1, 0.1]))\n",
    "    \n",
    "    \n",
    "    #create the updated data format\n",
    "    bernoulli_data_format = np.zeros((n_trials, n_locations))\n",
    "    temp = object_location_dataset[object_location_dataset['timezone'] == time].as_matrix()\n",
    "    #temp = object_location_dataset[(object_location_dataset['timezone'] == time) \n",
    "    #                               & (object_location_dataset['is_present'] == True)].as_matrix()\n",
    "    bernoulli_data_format = np.zeros((temp.shape[0], n_locations))\n",
    "    for count, [is_present, location, _, _, _] in enumerate(temp):\n",
    "        key = [key for key, location_name in locations_dict.items() if location_name == location][0]\n",
    "        if is_present:\n",
    "            bernoulli_data_format[count][key] = 0.5\n",
    "        else :\n",
    "            bernoulli_data_format[count] = 0.5\n",
    "            bernoulli_data_format[count][key] = 0.0\n",
    "            \n",
    "    location_categories.append(bp.nodes.Categorical(location_probabilities[index],\n",
    "                                                    plates=(temp.shape[0],)))\n",
    "    observations.append(bp.nodes.Mixture(\n",
    "                        location_categories[index],\n",
    "                        bp.nodes.Bernoulli,\n",
    "                        bernoulli_data_format.tolist()))\n",
    "    observations[index].observe([True] * temp.shape[0])\n",
    "    \n",
    "   \n",
    "\"\"\"\n",
    "Q = bp.inference.VB(observations[0], observations[1], observations[2],\n",
    "                    location_categories[0], location_categories[1], location_categories[2],\n",
    "                    location_probabilities[0], location_probabilities[1], location_probabilities[2],\n",
    "                    p_conc_01)\n",
    "\"\"\"\n",
    "Q = bp.inference.VB(observations[0], location_categories[0], location_probabilities[0], p_conc_01)\n",
    "Q.update(repeat=100)\n",
    "print(location_categories[0])\n",
    "print(location_probabilities[0])\n",
    "Q = bp.inference.VB(observations[1], location_categories[1], location_probabilities[1], p_conc_01)\n",
    "Q.update(repeat=100)\n",
    "print(location_probabilities[1])\n",
    "Q = bp.inference.VB(observations[2], location_categories[2], location_probabilities[2], p_conc_01)\n",
    "Q.update(repeat=100)\n",
    "print(location_probabilities[2])"
   ]
  },
  {
   "cell_type": "code",
   "execution_count": 191,
   "metadata": {
    "collapsed": false
   },
   "outputs": [
    {
     "data": {
      "image/png": "[encoded data removed]",
      "text/plain": [
       "<matplotlib.figure.Figure at 0x7fb58b558860>"
      ]
     },
     "metadata": {},
     "output_type": "display_data"
    },
    {
     "data": {
      "image/png": "[encoded data removed]",
      "text/plain": [
       "<matplotlib.figure.Figure at 0x7fb58b8c38d0>"
      ]
     },
     "metadata": {},
     "output_type": "display_data"
    },
    {
     "data": {
      "image/png": "[encoded data removed]",
      "text/plain": [
       "<matplotlib.figure.Figure at 0x7fb58b459630>"
      ]
     },
     "metadata": {},
     "output_type": "display_data"
    }
   ],
   "source": [
    "%matplotlib inline\n",
    "import bayespy.plot as bpplt\n",
    "bpplt.hinton(location_probabilities[0])\n",
    "bpplt.pyplot.show()\n",
    "bpplt.hinton(location_probabilities[1])\n",
    "bpplt.pyplot.show()\n",
    "bpplt.hinton(location_probabilities[2])\n",
    "bpplt.pyplot.title(\"Learned Distribution \")\n",
    "bpplt.pyplot.show()"
   ]
  },
  {
   "cell_type": "code",
   "execution_count": 192,
   "metadata": {
    "collapsed": false
   },
   "outputs": [
    {
     "name": "stdout",
     "output_type": "stream",
     "text": [
      " Bhatta KL  : -22.7016735366\n",
      " Bhatta KL  : -6.54352672544\n",
      " Bhatta KL  : -12.90359705\n"
     ]
    }
   ],
   "source": [
    "\n",
    "for index in time_dict.keys():\n",
    "    beta = p_locations[index]\n",
    "    alpha = location_probabilities[index].get_parameters()[0]\n",
    "\n",
    "    D = np.log2(0.5*sum(alpha) + 0.5*sum(beta)) + \\\n",
    "        0.5*sum(np.log2(alpha)) + 0.5*sum(np.log2(beta)) - \\\n",
    "        sum(np.log2(np.add(alpha, beta) / 2)) - \\\n",
    "        0.5 * np.log2(sum(alpha)) + \\\n",
    "        0.5 * np.log2(sum(beta))\n",
    "        \n",
    "    print (' Bhatta KL  :', D)"
   ]
  },
  {
   "cell_type": "markdown",
   "metadata": {},
   "source": [
    "T.W. Rauber, A. Conci, T. Braun, and K. Berns.  Bhattacharyya probabilistic\n",
    "distance of the dirichlet density and its application to split-and-merge image seg-\n",
    "mentation. In\n",
    "WSSIP08\n",
    ", pages 145–148, 2008.\n",
    "\n",
    "Bhattacharyya distance\n",
    "We adopt the Bhattacharyya distance [4] to quantify the similarity between at-\n",
    "tack types distributions. The Bhattacharyya distance is a measure of divergence\n",
    "between probability distributions, that allows measuring the dissimilarity be-\n",
    "tween two continuous or discrete probability distributions. As such, it goes from\n",
    "zero (when the compared distributions are identical) to infinite (when there is\n",
    "no overlap between the compared distributions). For continuous probability dis-\n",
    "tributions, it is defined as follows:\n",
    "\n",
    "![](images/bhatta-Dirichlet.png)"
   ]
  },
  {
   "cell_type": "code",
   "execution_count": 193,
   "metadata": {
    "collapsed": false
   },
   "outputs": [
    {
     "name": "stdout",
     "output_type": "stream",
     "text": [
      "D :  [  6.45497546e+02   1.42967469e+12  -3.93731508e+01]\n",
      "D :  [  1.80770776e+04  -1.47361566e+01  -6.14884499e+00]\n",
      "D :  [ -2.68570159e+01   1.53691249e+05   9.42335096e+03]\n"
     ]
    }
   ],
   "source": [
    "# Comparing KL Divergancedirichlet \n",
    "'''\n",
    "http://bariskurt.com/kullback-leibler-divergence-between-two-dirichlet-and-beta-distributions/\n",
    "'''\n",
    "import scipy.special\n",
    "\n",
    "for index in time_dict.keys():\n",
    "    alpha = p_locations[index]\n",
    "    beta = location_probabilities[index].get_parameters()[0]\n",
    "    D = scipy.special.gammaln(sum(alpha)) - \\\n",
    "        scipy.special.gammaln(sum(beta)) - \\\n",
    "        sum(scipy.special.gammaln(alpha)) + \\\n",
    "        sum(scipy.special.gammaln(beta)) +  \\\n",
    "        (alpha - beta) * (scipy.special.psi(alpha) - scipy.special.psi(sum(alpha)))\n",
    "    print ('D : ', D)"
   ]
  },
  {
   "cell_type": "code",
   "execution_count": 194,
   "metadata": {
    "collapsed": false
   },
   "outputs": [
    {
     "name": "stdout",
     "output_type": "stream",
     "text": [
      "[  9.11276254e+00   3.98148545e+01   2.60826789e-03]\n"
     ]
    }
   ],
   "source": [
    "# Bhattacharya distance\n",
    "\n",
    "from scipy.special import gammaln\n",
    "import numpy as np\n",
    "\n",
    "alpha = p_locations[0]\n",
    "beta = location_probabilities[0].get_parameters()[0]\n",
    "beta = alpha\n",
    "'''\n",
    "D = - gammaln(sum(np.add(alpha, beta)/2)) + \\\n",
    "    0.5*(sum(gammaln(alpha)) + sum(gammaln(beta))) - \\\n",
    "    sum(gammaln(np.add(alpha, beta) / 2)) -  \\\n",
    "    0.5*(gammaln(alpha) + gammaln(beta))\n",
    "'''  \n",
    "D = - np.log2(sum(np.add(alpha, beta)/2)) + \\\n",
    "    0.5*(sum(np.log2(alpha)) + sum(np.log2(beta))) - \\\n",
    "    sum(np.log2(np.add(alpha, beta) / 2)) -  \\\n",
    "    0.5*(np.log2(alpha) + np.log2(beta))\n",
    "print (D)"
   ]
  },
  {
   "cell_type": "code",
   "execution_count": 195,
   "metadata": {
    "collapsed": false
   },
   "outputs": [
    {
     "name": "stdout",
     "output_type": "stream",
     "text": [
      "Iteration 1: loglike=-3.583519e+00 (0.002 seconds)\n",
      "Iteration 2: loglike=-3.583519e+00 (0.002 seconds)\n",
      "Converged at iteration 2.\n"
     ]
    },
    {
     "data": {
      "image/png": "[encoded data removed]",
      "text/plain": [
       "<matplotlib.figure.Figure at 0x7fb58b3c7cf8>"
      ]
     },
     "metadata": {},
     "output_type": "display_data"
    }
   ],
   "source": [
    "\n",
    "p_conc = bp.nodes.DirichletConcentration(n_locations)\n",
    "p_conc.initialize_from_value(np.ones(n_locations))\n",
    "#p_theta = bp.nodes.Dirichlet(p_conc,\n",
    "p_theta = bp.nodes.Dirichlet(np.ones(n_locations)*1,\n",
    "                          plates=(n_timezones,),\n",
    "                          name='p_theta')\n",
    "\n",
    "only_true_object_location = object_location_dataset[object_location_dataset['is_present'] == True]\n",
    "n_observations = only_true_object_location.shape[0]\n",
    "recordings_time = only_true_object_location['timezone_index'].as_matrix().reshape((n_observations, 1))\n",
    "\n",
    "Y = nodes.Mixture(recordings_time, nodes.Categorical, p_theta)\n",
    "\n",
    "#Observe Data\n",
    "Y.observe(only_true_object_location['location_index'].reshape((n_observations, 1)))\n",
    "\n",
    "#Inference\n",
    "#Q = bp.inference.VB(Y, p_theta, p_conc)\n",
    "Q = bp.inference.VB(Y, p_theta)\n",
    "Q.update(repeat=1000)\n",
    "\n",
    "\n",
    "%matplotlib inline\n",
    "import bayespy.plot as bpplt\n",
    "bpplt.hinton(p_theta)\n",
    "bpplt.pyplot.title(\"Learned Distribution \")\n",
    "bpplt.pyplot.show()"
   ]
  },
  {
   "cell_type": "code",
   "execution_count": 196,
   "metadata": {
    "collapsed": false
   },
   "outputs": [
    {
     "name": "stdout",
     "output_type": "stream",
     "text": [
      " Bhatta KL  :  -22.2505848626   -22.7016735366\n",
      " Bhatta KL  :  -6.38194803829   -6.54352672544\n",
      " Bhatta KL  :  -12.6957560388   -12.90359705\n"
     ]
    }
   ],
   "source": [
    "for index in time_dict.keys():\n",
    "    beta = p_locations[index]\n",
    "    alpha = p_theta.get_parameters()[0][0]\n",
    "\n",
    "    D1 = np.log2(0.5*sum(alpha) + 0.5*sum(beta)) + \\\n",
    "        0.5*sum(np.log2(alpha)) + 0.5*sum(np.log2(beta)) - \\\n",
    "        sum(np.log2(np.add(alpha, beta) / 2)) - \\\n",
    "        0.5 * np.log2(sum(alpha)) + \\\n",
    "        0.5 * np.log2(sum(beta))\n",
    "\n",
    "    beta = p_locations[index]\n",
    "    alpha = location_probabilities[index].get_parameters()[0]\n",
    "\n",
    "    D2 = np.log2(0.5*sum(alpha) + 0.5*sum(beta)) + \\\n",
    "        0.5*sum(np.log2(alpha)) + 0.5*sum(np.log2(beta)) - \\\n",
    "        sum(np.log2(np.add(alpha, beta) / 2)) - \\\n",
    "        0.5 * np.log2(sum(alpha)) + \\\n",
    "        0.5 * np.log2(sum(beta))\n",
    "        \n",
    "    print (' Bhatta KL  : ', D1, \" \", D2 )"
   ]
  },
  {
   "cell_type": "markdown",
   "metadata": {},
   "source": [
    "# Using concentration + beta-bernoulli"
   ]
  },
  {
   "cell_type": "code",
   "execution_count": null,
   "metadata": {
    "collapsed": true
   },
   "outputs": [],
   "source": []
  }
 ],
 "metadata": {
  "kernelspec": {
   "display_name": "Python 3",
   "language": "python",
   "name": "python3"
  },
  "language_info": {
   "codemirror_mode": {
    "name": "ipython",
    "version": 3
   },
   "file_extension": ".py",
   "mimetype": "text/x-python",
   "name": "python",
   "nbconvert_exporter": "python",
   "pygments_lexer": "ipython3",
   "version": "3.5.2"
  }
 },
 "nbformat": 4,
 "nbformat_minor": 0
}
