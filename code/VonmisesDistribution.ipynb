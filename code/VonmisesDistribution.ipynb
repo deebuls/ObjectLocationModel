{
 "cells": [
  {
   "cell_type": "code",
   "execution_count": 1,
   "metadata": {
    "collapsed": false
   },
   "outputs": [],
   "source": [
    "import numpy as np\n",
    "mu, kappa = 3*np.pi, 4.0 # mean and dispersion\n",
    "s = np.random.vonmises(mu, kappa, 1000)\n"
   ]
  },
  {
   "cell_type": "code",
   "execution_count": 2,
   "metadata": {
    "collapsed": false
   },
   "outputs": [],
   "source": [
    "\n",
    "import matplotlib.pyplot as plt\n",
    "from scipy.special import i0\n",
    "plt.hist(s, 50, normed=True)\n",
    "x = np.linspace(-np.pi, np.pi, num=51)\n",
    "y = np.exp(kappa*np.cos(x-mu))/(2*np.pi*i0(kappa))\n",
    "plt.plot(x, y, linewidth=2, color='r')\n",
    "plt.show()"
   ]
  },
  {
   "cell_type": "code",
   "execution_count": 4,
   "metadata": {
    "collapsed": false
   },
   "outputs": [],
   "source": [
    "''' Plot von Mises distribution as a circular bar plot. '''\n",
    "\n",
    "import numpy as np\n",
    "import matplotlib.pyplot as pl\n",
    "\n",
    "mu = 0.  # circular mean phase\n",
    "kappa = np.pi  # circular dispersion\n",
    "von = np.random.vonmises(mu, kappa, size=100)\n",
    "\n",
    "hist, bin_edges =  np.histogram(von, normed=True)\n",
    "\n",
    "#print hist, bin_edges\n",
    "# plot circular projection\n",
    "ax = pl.subplot(111, polar=True)\n",
    "center = (bin_edges[:-1] + bin_edges[1:]) / 2\n",
    "bars = ax.bar(center, hist, width=(np.pi/180), align=\"center\")\n",
    "pl.show()"
   ]
  },
  {
   "cell_type": "markdown",
   "metadata": {},
   "source": [
    "Example 3 – Divide by π\n",
    "\n",
    "This is an example where the resultant expression results in an approximate result. The approximation is very good though, with a quotient that is off by at most 1 for all A.\n",
    "\n",
    "    Convert to binary: 1 / π = 0.010100010111110011000001101101110010011100100010001001\n",
    "    Left shift until there is a 1 to the right of the binary point. In this case it requires 1 shift and we get\n",
    "    10100010111110011000001101101110010011100100010001001. S is thus 1.\n",
    "    Take the most significant 18 bits: 1 0100 0101 1111 0011 0\n",
    "    Add 1: 1 0100 0101 1111 0011 0 + 1 = 1 0100 0101 1111 0011 1\n",
    "    Truncate to 17 bits: 1 0100 0101 1111 0011\n",
    "    Express in hexadecimal: M = 1 45F3\n",
    "    Q = ((((uint32_t)A * (uint32_t)0x45F3) >> 16) + A) >> 1) >> 1;\n",
    "\n",
    "An exhaustive check that compared the result of this expression to\n",
    "(float)A * 0.31830988618379067153776752674503f showed that the match was \n",
    "exact for all but 263 values in the range 0 – 0xFFFF. Where there was a \n",
    "mismatch it is off by at most 1. It’s also 23 times faster than converting to floating point. \n",
    "Not a bad trade off."
   ]
  },
  {
   "cell_type": "code",
   "execution_count": null,
   "metadata": {
    "collapsed": false
   },
   "outputs": [],
   "source": []
  }
 ],
 "metadata": {
  "kernelspec": {
   "display_name": "Python 3",
   "language": "python",
   "name": "python3"
  },
  "language_info": {
   "codemirror_mode": {
    "name": "ipython",
    "version": 3
   },
   "file_extension": ".py",
   "mimetype": "text/x-python",
   "name": "python",
   "nbconvert_exporter": "python",
   "pygments_lexer": "ipython3",
   "version": "3.5.1"
  }
 },
 "nbformat": 4,
 "nbformat_minor": 0
}
