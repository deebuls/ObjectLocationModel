{
 "cells": [
  {
   "cell_type": "code",
   "execution_count": 3,
   "metadata": {
    "collapsed": true
   },
   "outputs": [],
   "source": [
    "import pandas as pd\n",
    "import seaborn as sns\n",
    "import numpy as np"
   ]
  },
  {
   "cell_type": "markdown",
   "metadata": {},
   "source": [
    "# Reading Location Names"
   ]
  },
  {
   "cell_type": "code",
   "execution_count": 4,
   "metadata": {
    "collapsed": false
   },
   "outputs": [
    {
     "name": "stdout",
     "output_type": "stream",
     "text": [
      "{0: 'Master bedroom', 1: 'Master bathroom', 2: 'Living room', 3: 'Kitchen', 4: 'Center', 5: 'Corridor', 6: 'Second bedroom', 7: 'Office', 8: 'Second bathroom', 9: 'Outside'}\n"
     ]
    }
   ],
   "source": [
    "aruba_dataset_path = '/data/dataDeebul/thesis/dataset/strands/aruba/locations.names'\n",
    "\n",
    "location_names = {}\n",
    "count = 0\n",
    "with open(aruba_dataset_path, 'r') as content_file:\n",
    "    content = content_file.read()\n",
    "    content = str.splitlines(content)\n",
    "for count,location in enumerate(content):\n",
    "    location_names[count] = location\n",
    "#print(location_names)"
   ]
  },
  {
   "cell_type": "markdown",
   "metadata": {},
   "source": [
    "# Reading location data"
   ]
  },
  {
   "cell_type": "code",
   "execution_count": 9,
   "metadata": {
    "collapsed": false
   },
   "outputs": [
    {
     "data": {
      "text/html": [
       "<div>\n",
       "<table border=\"1\" class=\"dataframe\">\n",
       "  <thead>\n",
       "    <tr style=\"text-align: right;\">\n",
       "      <th></th>\n",
       "      <th>location</th>\n",
       "      <th>time</th>\n",
       "      <th>day</th>\n",
       "      <th>hour</th>\n",
       "      <th>sep_hour</th>\n",
       "      <th>location_name</th>\n",
       "    </tr>\n",
       "  </thead>\n",
       "  <tbody>\n",
       "    <tr>\n",
       "      <th>0</th>\n",
       "      <td>0</td>\n",
       "      <td>00:00:00</td>\n",
       "      <td>0</td>\n",
       "      <td>0</td>\n",
       "      <td>0</td>\n",
       "      <td>Master bedroom</td>\n",
       "    </tr>\n",
       "    <tr>\n",
       "      <th>1</th>\n",
       "      <td>0</td>\n",
       "      <td>00:01:00</td>\n",
       "      <td>0</td>\n",
       "      <td>0</td>\n",
       "      <td>0</td>\n",
       "      <td>Master bedroom</td>\n",
       "    </tr>\n",
       "    <tr>\n",
       "      <th>2</th>\n",
       "      <td>0</td>\n",
       "      <td>00:02:00</td>\n",
       "      <td>0</td>\n",
       "      <td>0</td>\n",
       "      <td>0</td>\n",
       "      <td>Master bedroom</td>\n",
       "    </tr>\n",
       "    <tr>\n",
       "      <th>3</th>\n",
       "      <td>0</td>\n",
       "      <td>00:03:00</td>\n",
       "      <td>0</td>\n",
       "      <td>0</td>\n",
       "      <td>0</td>\n",
       "      <td>Master bedroom</td>\n",
       "    </tr>\n",
       "    <tr>\n",
       "      <th>4</th>\n",
       "      <td>0</td>\n",
       "      <td>00:04:00</td>\n",
       "      <td>0</td>\n",
       "      <td>0</td>\n",
       "      <td>0</td>\n",
       "      <td>Master bedroom</td>\n",
       "    </tr>\n",
       "  </tbody>\n",
       "</table>\n",
       "</div>"
      ],
      "text/plain": [
       "   location     time  day  hour  sep_hour   location_name\n",
       "0         0 00:00:00    0     0         0  Master bedroom\n",
       "1         0 00:01:00    0     0         0  Master bedroom\n",
       "2         0 00:02:00    0     0         0  Master bedroom\n",
       "3         0 00:03:00    0     0         0  Master bedroom\n",
       "4         0 00:04:00    0     0         0  Master bedroom"
      ]
     },
     "execution_count": 9,
     "metadata": {},
     "output_type": "execute_result"
    }
   ],
   "source": [
    "aruba_dataset_path = '/data/dataDeebul/thesis/dataset/strands/aruba/locations.min'\n",
    "\n",
    "dataset = pd.read_csv(aruba_dataset_path, names=['location', 'time'])\n",
    "dataset['time'] = dataset.index\n",
    "dataset['time'] = pd.to_timedelta(dataset['time'], unit='m')\n",
    "dataset['day'] = (dataset['time']/ np.timedelta64(1, 'D')).astype(int)\n",
    "dataset['hour'] = (dataset['time']/ np.timedelta64(1, 'h')).astype(int)\n",
    "dataset['minute'] = (dataset['time']/ np.timedelta64(1, 'm')).astype(int)\n",
    "\n",
    "def mod_for_hour(row):\n",
    "    return row['hour'] % 24\n",
    "dataset['sep_hour'] = dataset.apply(mod_for_hour, axis=1)\n",
    "\n",
    "def mod_for_minute(row):\n",
    "    return row['minute'] % 1440\n",
    "dataset['sep_minute'] = dataset.apply(mod_for_minute, axis=1)\n",
    "\n",
    "dataset.loc[:,'circular_minute'] = ((dataset.loc[:,'sep_minute']/1440) * 2 * np.pi ) - np.pi\n",
    "#Renaming location number with their names\n",
    "for key,value in location_names.items():\n",
    "    dataset.ix[dataset.location == key, 'location_name'] = value\n",
    "#dataset.head()\n"
   ]
  },
  {
   "cell_type": "markdown",
   "metadata": {},
   "source": [
    "# Reducing the dataset\n",
    "\n",
    "The ARUBA dataset is a well\n",
    "Since we have 112 days per minute readings (161280 readings). We will create reduced datasets with the\n",
    "following assumptions \n",
    "- 3 readings every day ( 112 * 3 = 336) \n",
    "- 5 readings everyday (112 * 5 = 560) \n",
    "- 10 readings everyday (112 * 10 = 1120)"
   ]
  },
  {
   "cell_type": "code",
   "execution_count": 8,
   "metadata": {
    "collapsed": false
   },
   "outputs": [
    {
     "data": {
      "text/plain": [
       "<matplotlib.text.Text at 0x7fa4d0b71278>"
      ]
     },
     "execution_count": 8,
     "metadata": {},
     "output_type": "execute_result"
    },
    {
     "data": {
      "image/png": "[encoded data removed]",
      "text/plain": [
       "<matplotlib.figure.Figure at 0x7fa4ca38cc50>"
      ]
     },
     "metadata": {},
     "output_type": "display_data"
    }
   ],
   "source": [
    "%matplotlib inline\n",
    "import random\n",
    "import matplotlib.pyplot as plt\n",
    "rows = random.sample(list(dataset.index), 336)\n",
    "reduced_dataset_3readings = dataset.ix[rows]\n",
    "reduced_dataset_3readings.set_index(np.arange(reduced_dataset_3readings.shape[0]), \n",
    "                                    inplace=True)\n",
    "rows = random.sample(list(dataset.index), 560)\n",
    "reduced_dataset_5readings = dataset.ix[rows]\n",
    "reduced_dataset_5readings.set_index(np.arange(reduced_dataset_5readings.shape[0]), \n",
    "                                    inplace=True)\n",
    "rows = random.sample(list(dataset.index), 1120)\n",
    "reduced_dataset_10readings = dataset.ix[rows]\n",
    "reduced_dataset_10readings.set_index(np.arange(reduced_dataset_10readings.shape[0]),\n",
    "                                    inplace=True)\n",
    "\n",
    "ax = (reduced_dataset_3readings['location_name'].value_counts()).plot(kind='bar')\n",
    "ax.set_xlabel(\"Locations\")\n",
    "ax.set_ylabel(\"Count\")"
   ]
  },
  {
   "cell_type": "code",
   "execution_count": null,
   "metadata": {
    "collapsed": true
   },
   "outputs": [],
   "source": []
  }
 ],
 "metadata": {
  "kernelspec": {
   "display_name": "Python 3",
   "language": "python",
   "name": "python3"
  },
  "language_info": {
   "codemirror_mode": {
    "name": "ipython",
    "version": 3
   },
   "file_extension": ".py",
   "mimetype": "text/x-python",
   "name": "python",
   "nbconvert_exporter": "python",
   "pygments_lexer": "ipython3",
   "version": "3.5.1"
  }
 },
 "nbformat": 4,
 "nbformat_minor": 0
}
