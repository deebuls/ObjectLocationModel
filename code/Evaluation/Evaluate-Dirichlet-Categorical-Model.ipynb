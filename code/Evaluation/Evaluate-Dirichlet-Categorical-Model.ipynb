{
 "cells": [
  {
   "cell_type": "code",
   "execution_count": 1,
   "metadata": {
    "collapsed": false
   },
   "outputs": [],
   "source": [
    "%matplotlib inline\n",
    "%load_ext autoreload\n",
    "%autoreload 2"
   ]
  },
  {
   "cell_type": "code",
   "execution_count": 2,
   "metadata": {
    "collapsed": false
   },
   "outputs": [
    {
     "data": {
      "image/png": "[encoded data removed]",
      "text/plain": [
       "<matplotlib.figure.Figure at 0x7f52aa7b13c8>"
      ]
     },
     "metadata": {},
     "output_type": "display_data"
    }
   ],
   "source": [
    "%run LoadAndReduceData.py"
   ]
  },
  {
   "cell_type": "code",
   "execution_count": 3,
   "metadata": {
    "collapsed": false
   },
   "outputs": [
    {
     "name": "stdout",
     "output_type": "stream",
     "text": [
      "9\n",
      "[2 0 9 3 6 4 7 1 8 5]\n"
     ]
    }
   ],
   "source": [
    "reduced_dataset_3readings[['sep_hour', 'location']].head()\n",
    "print (reduced_dataset_10readings['location'].unique().max())\n",
    "print (reduced_dataset_3readings['location'].unique())\n"
   ]
  },
  {
   "cell_type": "code",
   "execution_count": 53,
   "metadata": {
    "collapsed": false
   },
   "outputs": [
    {
     "data": {
      "text/plain": [
       "(40321, 1)"
      ]
     },
     "execution_count": 53,
     "metadata": {},
     "output_type": "execute_result"
    }
   ],
   "source": [
    "week1_readings = 1 * 7 * 24 * 60\n",
    "week2_readings = 2 * 7 * 24 * 60\n",
    "week3_readings = 3 * 7 * 24 * 60\n",
    "week4_readings = 4 * 7 * 24 * 60\n",
    "dataset.ix[:week4_readings][['sep_hour']].shape"
   ]
  },
  {
   "cell_type": "code",
   "execution_count": 25,
   "metadata": {
    "collapsed": false
   },
   "outputs": [
    {
     "name": "stdout",
     "output_type": "stream",
     "text": [
      "Unique locations :  10 <class 'int'>\n",
      "models created\n",
      "Iteration 1: loglike=-5.227773e+02 (0.027 seconds)\n",
      "Iteration 2: loglike=-4.886772e+02 (0.033 seconds)\n",
      "Iteration 3: loglike=-4.758274e+02 (0.031 seconds)\n",
      "Iteration 4: loglike=-4.693972e+02 (0.029 seconds)\n",
      "Iteration 5: loglike=-4.653455e+02 (0.032 seconds)\n",
      "Iteration 6: loglike=-4.624695e+02 (0.029 seconds)\n",
      "Iteration 7: loglike=-4.603289e+02 (0.030 seconds)\n",
      "Iteration 8: loglike=-4.587064e+02 (0.026 seconds)\n",
      "Iteration 9: loglike=-4.574658e+02 (0.029 seconds)\n",
      "Iteration 10: loglike=-4.565111e+02 (0.026 seconds)\n",
      "Iteration 11: loglike=-4.557720e+02 (0.029 seconds)\n",
      "Iteration 12: loglike=-4.551965e+02 (0.026 seconds)\n",
      "Iteration 13: loglike=-4.547457e+02 (0.028 seconds)\n",
      "Iteration 14: loglike=-4.543906e+02 (0.025 seconds)\n",
      "Iteration 15: loglike=-4.541093e+02 (0.027 seconds)\n",
      "Iteration 16: loglike=-4.538853e+02 (0.024 seconds)\n",
      "Iteration 17: loglike=-4.537060e+02 (0.025 seconds)\n",
      "Iteration 18: loglike=-4.535618e+02 (0.023 seconds)\n",
      "Iteration 19: loglike=-4.534452e+02 (0.022 seconds)\n",
      "Iteration 20: loglike=-4.533507e+02 (0.026 seconds)\n",
      "Iteration 21: loglike=-4.532737e+02 (0.027 seconds)\n",
      "Iteration 22: loglike=-4.532107e+02 (0.031 seconds)\n",
      "Iteration 23: loglike=-4.531590e+02 (0.027 seconds)\n",
      "Iteration 24: loglike=-4.531165e+02 (0.034 seconds)\n",
      "Iteration 25: loglike=-4.530813e+02 (0.024 seconds)\n",
      "Iteration 26: loglike=-4.530522e+02 (0.035 seconds)\n",
      "Iteration 27: loglike=-4.530280e+02 (0.025 seconds)\n",
      "Iteration 28: loglike=-4.530078e+02 (0.034 seconds)\n",
      "Iteration 29: loglike=-4.529910e+02 (0.026 seconds)\n",
      "Iteration 30: loglike=-4.529769e+02 (0.027 seconds)\n",
      "Iteration 31: loglike=-4.529651e+02 (0.025 seconds)\n",
      "Iteration 32: loglike=-4.529552e+02 (0.034 seconds)\n",
      "Iteration 33: loglike=-4.529468e+02 (0.029 seconds)\n",
      "Iteration 34: loglike=-4.529398e+02 (0.034 seconds)\n",
      "Iteration 35: loglike=-4.529338e+02 (0.026 seconds)\n",
      "Iteration 36: loglike=-4.529288e+02 (0.034 seconds)\n",
      "Iteration 37: loglike=-4.529245e+02 (0.026 seconds)\n",
      "Converged at iteration 37.\n",
      "learned params\n",
      "(24, 10)\n"
     ]
    },
    {
     "data": {
      "image/png": "[encoded data removed]",
      "text/plain": [
       "<matplotlib.figure.Figure at 0x7f529347d7f0>"
      ]
     },
     "metadata": {},
     "output_type": "display_data"
    }
   ],
   "source": [
    "\n",
    "from HierarchicalDirichletCategorical import HierarchicalDirichletCategorical\n",
    "import seaborn as sns\n",
    "\n",
    "model1 = HierarchicalDirichletCategorical(reduced_dataset_3readings[['sep_hour', 'location']])\n",
    "learned_params_1 = model1.create_model(model_type='2fold')\n",
    "\n",
    "print(learned_params_1.shape)\n",
    "\n",
    "sns.heatmap(learned_params_1.T, linewidths=.01)\n",
    "\n",
    "np.savetxt(\"hdc-2fold.csv\",learned_params_1, delimiter=\",\", fmt='%2.5f')\n"
   ]
  },
  {
   "cell_type": "code",
   "execution_count": 54,
   "metadata": {
    "collapsed": false
   },
   "outputs": [
    {
     "name": "stdout",
     "output_type": "stream",
     "text": [
      "Unique locations :  10 <class 'int'>\n",
      "models created\n",
      "Iteration 1: loglike=-5.176180e+02 (0.022 seconds)\n",
      "Iteration 2: loglike=-4.857747e+02 (0.022 seconds)\n",
      "Iteration 3: loglike=-4.729613e+02 (0.020 seconds)\n",
      "Iteration 4: loglike=-4.663516e+02 (0.020 seconds)\n",
      "Iteration 5: loglike=-4.621983e+02 (0.020 seconds)\n",
      "Iteration 6: loglike=-4.592891e+02 (0.020 seconds)\n",
      "Iteration 7: loglike=-4.571536e+02 (0.025 seconds)\n",
      "Iteration 8: loglike=-4.555570e+02 (0.019 seconds)\n",
      "Iteration 9: loglike=-4.543537e+02 (0.017 seconds)\n",
      "Iteration 10: loglike=-4.534420e+02 (0.019 seconds)\n",
      "Iteration 11: loglike=-4.527477e+02 (0.019 seconds)\n",
      "Iteration 12: loglike=-4.522163e+02 (0.017 seconds)\n",
      "Iteration 13: loglike=-4.518071e+02 (0.019 seconds)\n",
      "Iteration 14: loglike=-4.514901e+02 (0.019 seconds)\n",
      "Iteration 15: loglike=-4.512430e+02 (0.018 seconds)\n",
      "Iteration 16: loglike=-4.510492e+02 (0.019 seconds)\n",
      "Iteration 17: loglike=-4.508964e+02 (0.018 seconds)\n",
      "Iteration 18: loglike=-4.507750e+02 (0.017 seconds)\n",
      "Iteration 19: loglike=-4.506782e+02 (0.019 seconds)\n",
      "Iteration 20: loglike=-4.506006e+02 (0.018 seconds)\n",
      "Iteration 21: loglike=-4.505380e+02 (0.017 seconds)\n",
      "Iteration 22: loglike=-4.504873e+02 (0.019 seconds)\n",
      "Iteration 23: loglike=-4.504460e+02 (0.018 seconds)\n",
      "Iteration 24: loglike=-4.504123e+02 (0.017 seconds)\n",
      "Iteration 25: loglike=-4.503846e+02 (0.019 seconds)\n",
      "Iteration 26: loglike=-4.503619e+02 (0.018 seconds)\n",
      "Iteration 27: loglike=-4.503431e+02 (0.017 seconds)\n",
      "Iteration 28: loglike=-4.503275e+02 (0.019 seconds)\n",
      "Iteration 29: loglike=-4.503146e+02 (0.019 seconds)\n",
      "Iteration 30: loglike=-4.503038e+02 (0.017 seconds)\n",
      "Iteration 31: loglike=-4.502948e+02 (0.019 seconds)\n",
      "Iteration 32: loglike=-4.502873e+02 (0.018 seconds)\n",
      "Iteration 33: loglike=-4.502810e+02 (0.017 seconds)\n",
      "Iteration 34: loglike=-4.502757e+02 (0.018 seconds)\n",
      "Iteration 35: loglike=-4.502712e+02 (0.018 seconds)\n",
      "Converged at iteration 35.\n",
      "learned params\n",
      "(24, 10)\n"
     ]
    },
    {
     "data": {
      "image/png": "[encoded data removed]",
      "text/plain": [
       "<matplotlib.figure.Figure at 0x7f5291196fd0>"
      ]
     },
     "metadata": {},
     "output_type": "display_data"
    }
   ],
   "source": [
    "\n",
    "model2 = HierarchicalDirichletCategorical(reduced_dataset_3readings[['sep_hour', 'location']])\n",
    "learned_params_2 = model2.create_model(model_type='all')\n",
    "\n",
    "print(learned_params_2.shape)\n",
    "\n",
    "sns.heatmap(learned_params_2.T, linewidths=.01)\n",
    "np.savetxt(\"hdc-all.csv\",learned_params_2, delimiter=\",\", fmt='%2.5f')"
   ]
  },
  {
   "cell_type": "code",
   "execution_count": 69,
   "metadata": {
    "collapsed": false
   },
   "outputs": [
    {
     "name": "stdout",
     "output_type": "stream",
     "text": [
      "Unique locations :  10 <class 'int'>\n",
      "models created\n",
      "Iteration 1: loglike=-1.041198e+04 (0.020 seconds)\n",
      "Iteration 2: loglike=-1.034219e+04 (0.019 seconds)\n",
      "Iteration 3: loglike=-1.033505e+04 (0.020 seconds)\n",
      "Iteration 4: loglike=-1.033370e+04 (0.021 seconds)\n",
      "Iteration 5: loglike=-1.033338e+04 (0.017 seconds)\n",
      "Iteration 6: loglike=-1.033330e+04 (0.019 seconds)\n",
      "Converged at iteration 6.\n",
      "learned params\n",
      "Unique locations :  10 <class 'int'>\n",
      "models created\n",
      "Iteration 1: loglike=-2.251884e+04 (0.031 seconds)\n",
      "Iteration 2: loglike=-2.247853e+04 (0.019 seconds)\n",
      "Iteration 3: loglike=-2.247618e+04 (0.020 seconds)\n",
      "Iteration 4: loglike=-2.247589e+04 (0.020 seconds)\n",
      "Iteration 5: loglike=-2.247584e+04 (0.018 seconds)\n",
      "Converged at iteration 5.\n",
      "learned params\n",
      "Unique locations :  10 <class 'int'>\n",
      "models created\n",
      "Iteration 1: loglike=-3.207784e+04 (0.022 seconds)\n",
      "Iteration 2: loglike=-3.204168e+04 (0.021 seconds)\n",
      "Iteration 3: loglike=-3.204004e+04 (0.019 seconds)\n",
      "Iteration 4: loglike=-3.203987e+04 (0.022 seconds)\n",
      "Converged at iteration 4.\n",
      "learned params\n",
      "Unique locations :  10 <class 'int'>\n",
      "models created\n",
      "Iteration 1: loglike=-4.209710e+04 (0.023 seconds)\n",
      "Iteration 2: loglike=-4.206413e+04 (0.024 seconds)\n",
      "Iteration 3: loglike=-4.206287e+04 (0.021 seconds)\n",
      "Iteration 4: loglike=-4.206276e+04 (0.023 seconds)\n",
      "Converged at iteration 4.\n",
      "learned params\n",
      "Unique locations :  10 <class 'int'>\n",
      "models created\n",
      "Iteration 1: loglike=-1.703456e+05 (0.042 seconds)\n",
      "Iteration 2: loglike=-1.703287e+05 (0.037 seconds)\n",
      "Iteration 3: loglike=-1.703284e+05 (0.042 seconds)\n",
      "Converged at iteration 3.\n",
      "learned params\n"
     ]
    }
   ],
   "source": [
    "model = HierarchicalDirichletCategorical(dataset.ix[:week1_readings][['sep_hour', 'location']]) \n",
    "learned_params = model.create_model(model_type='all')\n",
    "np.savetxt(\"hdc-week1.csv\",learned_params, delimiter=\",\", fmt='%2.5f')\n",
    "\n",
    "\n",
    "\n",
    "model = HierarchicalDirichletCategorical(dataset.ix[:week2_readings][['sep_hour', 'location']]) \n",
    "learned_params = model.create_model(model_type='all')\n",
    "np.savetxt(\"hdc-week2.csv\",learned_params, delimiter=\",\", fmt='%2.5f')\n",
    "\n",
    "\n",
    "\n",
    "model = HierarchicalDirichletCategorical(dataset.ix[:week3_readings][['sep_hour', 'location']]) \n",
    "learned_params = model.create_model(model_type='all')\n",
    "np.savetxt(\"hdc-week3.csv\",learned_params, delimiter=\",\", fmt='%2.5f')\n",
    "\n",
    "\n",
    "\n",
    "model = HierarchicalDirichletCategorical(dataset.ix[:week4_readings][['sep_hour', 'location']]) \n",
    "learned_params = model.create_model(model_type='all')\n",
    "np.savetxt(\"hdc-week4.csv\",learned_params, delimiter=\",\", fmt='%2.5f')\n",
    "\n",
    "model = HierarchicalDirichletCategorical(dataset[['sep_hour', 'location']]) \n",
    "learned_params = model.create_model(model_type='all')\n",
    "np.savetxt(\"hdc-complete.csv\",learned_params, delimiter=\",\", fmt='%2.5f')"
   ]
  },
  {
   "cell_type": "markdown",
   "metadata": {
    "collapsed": true
   },
   "source": [
    "# Posterior Evaluation"
   ]
  },
  {
   "cell_type": "code",
   "execution_count": 9,
   "metadata": {
    "collapsed": false
   },
   "outputs": [
    {
     "name": "stdout",
     "output_type": "stream",
     "text": [
      "161280\n",
      "(120000, 2)\n"
     ]
    }
   ],
   "source": [
    "from bayespy.utils import random\n",
    "\n",
    "print (dataset.shape[0])\n",
    "learned_dataset = pd.DataFrame(columns=['location','sep_hour'])\n",
    "\n",
    "for tt in dataset['sep_hour'].unique():\n",
    "    temp = pd.DataFrame(columns=['location','sep_hour'])\n",
    "    #temp['location'] = random.categorical(learned_params[tt], size= int(dataset.shape[0]/24))\n",
    "    temp['location'] = random.categorical(learned_params[tt], size= 5000)\n",
    "    temp['sep_hour'] = tt\n",
    "    temp.shape\n",
    "\n",
    "    learned_dataset= learned_dataset.append(temp, ignore_index=True)\n",
    "    \n",
    "print(learned_dataset.shape)"
   ]
  },
  {
   "cell_type": "code",
   "execution_count": 35,
   "metadata": {
    "collapsed": false
   },
   "outputs": [
    {
     "data": {
      "text/plain": [
       "<matplotlib.axes._subplots.AxesSubplot at 0x7f159ba09be0>"
      ]
     },
     "execution_count": 35,
     "metadata": {},
     "output_type": "execute_result"
    },
    {
     "data": {
      "image/png": "[encoded data removed]",
      "text/plain": [
       "<matplotlib.figure.Figure at 0x7f159b9db9e8>"
      ]
     },
     "metadata": {},
     "output_type": "display_data"
    }
   ],
   "source": [
    "#sns.heatmap(dataset[['sep_hour', 'location_name']])\n",
    "hour_vs_location = pd.crosstab(dataset['location'], \n",
    "                               dataset['sep_hour'])\n",
    "sns.heatmap(hour_vs_location)"
   ]
  },
  {
   "cell_type": "code",
   "execution_count": 11,
   "metadata": {
    "collapsed": false
   },
   "outputs": [
    {
     "data": {
      "text/plain": [
       "<matplotlib.axes._subplots.AxesSubplot at 0x7fcc23aaf208>"
      ]
     },
     "execution_count": 11,
     "metadata": {},
     "output_type": "execute_result"
    },
    {
     "data": {
      "image/png": "[encoded data removed]",
      "text/plain": [
       "<matplotlib.figure.Figure at 0x7fcc39d67e10>"
      ]
     },
     "metadata": {},
     "output_type": "display_data"
    }
   ],
   "source": [
    "learned_hour_vs_location = pd.crosstab(learned_dataset['location'], \n",
    "                               learned_dataset['sep_hour'])\n",
    "sns.heatmap(learned_hour_vs_location)"
   ]
  },
  {
   "cell_type": "code",
   "execution_count": 12,
   "metadata": {
    "collapsed": false
   },
   "outputs": [
    {
     "name": "stdout",
     "output_type": "stream",
     "text": [
      "location\n",
      "0.0    1444\n",
      "1.0       9\n",
      "2.0    3504\n",
      "3.0      10\n",
      "4.0       4\n",
      "5.0       3\n",
      "6.0       6\n",
      "7.0       7\n",
      "8.0       5\n",
      "9.0       8\n",
      "Name: 0.0, dtype: int64\n",
      "location\n",
      "0    4973\n",
      "1     153\n",
      "2    1493\n",
      "3      29\n",
      "4       8\n",
      "5       6\n",
      "6      56\n",
      "7       6\n",
      "8       6\n",
      "9       6\n",
      "Name: 0, dtype: int64\n"
     ]
    }
   ],
   "source": [
    "print (learned_hour_vs_location[0.0])\n",
    "\n",
    "############################################33\n",
    "# For Chi square test needs to be greater than 5\n",
    "############################################33\n",
    "hour_vs_location[ hour_vs_location <= 5] = 6\n",
    "print (hour_vs_location[0.0])\n",
    "\n",
    "hour_vs_location.to_csv('./hour_vs_location.csv')"
   ]
  },
  {
   "cell_type": "markdown",
   "metadata": {
    "collapsed": true
   },
   "source": [
    "# Stats Model \n",
    "\n",
    "Calculates power discrepancy, a class of goodness-of-fit tests as a measure of discrepancy between observed and expected data.\n",
    "\n",
    "This contains several goodness-of-fit tests as special cases, see the describtion of lambd, the exponent of the power discrepancy. The pvalue is based on the asymptotic chi-square distribution of the test statistic\n",
    "\n",
    ">The closer the obtained chi-square is to zero, the more similar the two sets of frequencies are - or, stated another way, the better the observed data fit the expected pattern. This interpretation is where the term \"goodness of fit\" originates"
   ]
  },
  {
   "cell_type": "code",
   "execution_count": 13,
   "metadata": {
    "collapsed": false
   },
   "outputs": [
    {
     "name": "stdout",
     "output_type": "stream",
     "text": [
      "Power_divergenceResult(statistic=5410.1332845625047, pvalue=0.0)\n",
      "Power_divergenceResult(statistic=759.01535942459611, pvalue=1.4045906023151463e-157)\n",
      "Power_divergenceResult(statistic=522.89391414765441, pvalue=7.1789026747150472e-107)\n",
      "Power_divergenceResult(statistic=922.70746521894364, pvalue=7.9139748368156169e-193)\n",
      "Power_divergenceResult(statistic=544.11080141620528, pvalue=2.0375098729439703e-111)\n",
      "Power_divergenceResult(statistic=778.62737702698075, pvalue=8.4631071401246688e-162)\n",
      "Power_divergenceResult(statistic=1721.1517128917394, pvalue=0.0)\n",
      "Power_divergenceResult(statistic=5170.5470610556822, pvalue=0.0)\n",
      "Power_divergenceResult(statistic=1991.9121488868104, pvalue=0.0)\n",
      "Power_divergenceResult(statistic=898.72572587590003, pvalue=1.1641860445787953e-187)\n",
      "Power_divergenceResult(statistic=1241.1682850969391, pvalue=1.5679844453698407e-261)\n",
      "Power_divergenceResult(statistic=4129.0075714267532, pvalue=0.0)\n",
      "Power_divergenceResult(statistic=1193.4343677906354, pvalue=3.1704137841191675e-251)\n",
      "Power_divergenceResult(statistic=1558.4476959776057, pvalue=0.0)\n",
      "Power_divergenceResult(statistic=2802.5107779565351, pvalue=0.0)\n",
      "Power_divergenceResult(statistic=4250.1517792717623, pvalue=0.0)\n",
      "Power_divergenceResult(statistic=1174.5328987681632, pvalue=3.8132225492582874e-247)\n",
      "Power_divergenceResult(statistic=974.42301062745219, pvalue=5.6392778397224851e-204)\n",
      "Power_divergenceResult(statistic=5064.8482958867235, pvalue=0.0)\n",
      "Power_divergenceResult(statistic=2522.4230857191928, pvalue=0.0)\n",
      "Power_divergenceResult(statistic=1447.4665626602502, pvalue=4.2816645346114434e-306)\n",
      "Power_divergenceResult(statistic=1168.9858485340965, pvalue=6.0066919092752862e-246)\n",
      "Power_divergenceResult(statistic=7211.6130525519839, pvalue=0.0)\n",
      "Power_divergenceResult(statistic=13578.044619555014, pvalue=0.0)\n"
     ]
    }
   ],
   "source": [
    "import scipy.stats as stats\n",
    "\n",
    "for tt in dataset['sep_hour'].unique():\n",
    "    observed = learned_hour_vs_location[tt].as_matrix()\n",
    "    expected = hour_vs_location[tt].as_matrix()\n",
    "    print (stats.chisquare(f_obs = observed,\n",
    "                    f_exp = expected))"
   ]
  },
  {
   "cell_type": "code",
   "execution_count": 53,
   "metadata": {
    "collapsed": false
   },
   "outputs": [
    {
     "name": "stdout",
     "output_type": "stream",
     "text": [
      "0.16829336354118404 0.0032708905262347787\n",
      "0.11860692636148065 0.007887257262652436\n",
      "0.28591292180594846 0.004344532363777917\n",
      "0.15801150406040487 0.009265649043077818\n",
      "0.21399772650633989 0.010201341231078756\n",
      "0.15442831608614063 0.007117621783840813\n",
      "0.2571746398199008 0.0010024569082999132\n",
      "0.1321217501155423 5.792767048727818e-05\n",
      "0.2501490722801573 1.0536712127723509e-08\n",
      "0.1214262956136811 0.0007438924606613091\n",
      "0.1808691116101672 0.0010653002571719182\n",
      "0.1464590455184306 0.0008792873232578066\n",
      "0.13241676617131606 0.0003043223765526981\n",
      "0.2603758507975819 0.0005401020358222598\n",
      "0.13687512703744925 0.0005697130400147449\n",
      "0.10420060307993566 0.00020750042779338565\n",
      "0.17524695036330065 0.00033567964804894596\n",
      "0.19004867299256237 0.00044706529448972933\n",
      "0.22797669407302193 0.0007299530315038062\n",
      "0.3279173388062297 0.0012171310387629173\n",
      "0.20257046559972844 0.001376567434370712\n",
      "0.18643529933404918 0.0016851760634747034\n",
      "0.15931793144007103 0.0013185188604529852\n",
      "0.1975728496472236 0.0007442344108625868\n"
     ]
    }
   ],
   "source": [
    "\n",
    "import scipy.stats as stats\n",
    "\n",
    "for tt in dataset['sep_hour'].unique():\n",
    "    observed_1 = np.round((learned_params_1[tt]/np.sum(learned_params_1[tt])), 4)\n",
    "    expected_1 = np.round ((hour_vs_location[tt].as_matrix() / hour_vs_location[tt].sum()), 4 )\n",
    "    observed_2 = np.round((learned_params_2[tt]/np.sum(learned_params_2[tt])), 4)\n",
    "    expected_2 = np.round ((hour_vs_location[tt].as_matrix() / hour_vs_location[tt].sum()), 4 )\n",
    "    print (bhatta(observed_1, expected_1) , bhatta(observed_2, expected_2))"
   ]
  },
  {
   "cell_type": "code",
   "execution_count": 37,
   "metadata": {
    "collapsed": false
   },
   "outputs": [
    {
     "name": "stdout",
     "output_type": "stream",
     "text": [
      "10 [  7.40000000e-01   2.28000000e-02   2.22200000e-01   4.30000000e-03\n",
      "   1.20000000e-03   7.00000000e-04   8.30000000e-03   3.00000000e-04\n",
      "   0.00000000e+00   1.00000000e-04]\n",
      "inf\n",
      "1.0001\n"
     ]
    }
   ],
   "source": [
    "import scipy.stats as stats\n",
    "pk = np.round((learned_params[0]/np.sum(learned_params[0])), 4)\n",
    "qk = np.round ((hour_vs_location[0].as_matrix() / hour_vs_location[0].sum()), 4 )\n",
    "\n",
    "print (pk.size, qk)\n",
    "print (stats.entropy(pk, qk))\n",
    "print (bhatta(pk,pk))"
   ]
  },
  {
   "cell_type": "code",
   "execution_count": 52,
   "metadata": {
    "collapsed": true
   },
   "outputs": [],
   "source": [
    "def bhatta ( hist1,  hist2):\n",
    "    # calculate mean of hist1\n",
    "    h1_ = np.mean(hist1);\n",
    "\n",
    "    # calculate mean of hist2\n",
    "    h2_ = np.mean(hist2);\n",
    "    \n",
    "    size = hist1.size\n",
    "\n",
    "    # calculate score\n",
    "    score = 0;\n",
    "    for i in range(size):\n",
    "        score += np.math.sqrt( hist1[i] * hist2[i] );\n",
    "    # print h1_,h2_,score;\n",
    "    score = np.math.sqrt( 1 - ( 1 / np.math.sqrt(h1_*h2_*size*size) ) * score );\n",
    "    return score;"
   ]
  },
  {
   "cell_type": "code",
   "execution_count": 50,
   "metadata": {
    "collapsed": true
   },
   "outputs": [],
   "source": [
    "def bhatta ( hist1,  hist2):\n",
    "    if (hist1.size != hist2.size):\n",
    "        raise \"Histograms size dont match\"\n",
    "        return\n",
    "    \n",
    "    size = hist1.size\n",
    "    # calculate score\n",
    "    score = 0;\n",
    "    for i in range(size):\n",
    "        score += np.sqrt( hist1[i] * hist2[i] );\n",
    "    return score;"
   ]
  },
  {
   "cell_type": "code",
   "execution_count": 14,
   "metadata": {
    "collapsed": false
   },
   "outputs": [],
   "source": [
    "# dataanalysis for creatign data for JASP\n",
    "hour_based_locations = pd.DataFrame()\n",
    "hour_based_locations[0] = dataset[dataset['sep_hour'] == 0].location_name.values\n",
    "hour_based_locations[1] = dataset[dataset['sep_hour'] == 1].location_name.values\n",
    "hour_based_locations[16] = dataset[dataset['sep_hour'] == 16].location_name.values\n",
    "hour_based_locations.head()\n",
    "hour_based_locations.to_csv('hour_based_locations.csv')"
   ]
  },
  {
   "cell_type": "code",
   "execution_count": 54,
   "metadata": {
    "collapsed": false
   },
   "outputs": [
    {
     "data": {
      "text/plain": [
       "array([2])"
      ]
     },
     "execution_count": 54,
     "metadata": {},
     "output_type": "execute_result"
    }
   ],
   "source": [
    "locations.random()[23]"
   ]
  },
  {
   "cell_type": "code",
   "execution_count": 10,
   "metadata": {
    "collapsed": false
   },
   "outputs": [
    {
     "ename": "TypeError",
     "evalue": "create_model() got an unexpected keyword argument 'model_type'",
     "output_type": "error",
     "traceback": [
      "\u001b[1;31m---------------------------------------------------------------------------\u001b[0m",
      "\u001b[1;31mTypeError\u001b[0m                                 Traceback (most recent call last)",
      "\u001b[1;32m<ipython-input-10-52fa2ff8e373>\u001b[0m in \u001b[0;36m<module>\u001b[1;34m()\u001b[0m\n\u001b[0;32m      4\u001b[0m \u001b[0mtestdata\u001b[0m \u001b[1;33m=\u001b[0m \u001b[0mpd\u001b[0m\u001b[1;33m.\u001b[0m\u001b[0mDataFrame\u001b[0m\u001b[1;33m(\u001b[0m\u001b[1;33m[\u001b[0m\u001b[1;33m[\u001b[0m\u001b[1;36m1\u001b[0m\u001b[1;33m,\u001b[0m\u001b[1;36m1\u001b[0m\u001b[1;33m]\u001b[0m\u001b[1;33m,\u001b[0m\u001b[1;33m[\u001b[0m\u001b[1;36m2\u001b[0m\u001b[1;33m,\u001b[0m\u001b[1;36m2\u001b[0m\u001b[1;33m]\u001b[0m\u001b[1;33m,\u001b[0m\u001b[1;33m[\u001b[0m\u001b[1;36m0\u001b[0m\u001b[1;33m,\u001b[0m\u001b[1;36m0\u001b[0m\u001b[1;33m]\u001b[0m\u001b[1;33m]\u001b[0m\u001b[1;33m,\u001b[0m \u001b[0mcolumns\u001b[0m\u001b[1;33m=\u001b[0m\u001b[1;33m[\u001b[0m\u001b[1;34m'time'\u001b[0m\u001b[1;33m,\u001b[0m \u001b[1;34m'location'\u001b[0m\u001b[1;33m]\u001b[0m\u001b[1;33m)\u001b[0m\u001b[1;33m\u001b[0m\u001b[0m\n\u001b[0;32m      5\u001b[0m \u001b[0mmodel\u001b[0m \u001b[1;33m=\u001b[0m \u001b[0mHierarchicalDirichletCategorical\u001b[0m\u001b[1;33m.\u001b[0m\u001b[0mHierarchicalDirichletCategorical\u001b[0m\u001b[1;33m(\u001b[0m\u001b[0mtestdata\u001b[0m\u001b[1;33m)\u001b[0m\u001b[1;33m\u001b[0m\u001b[0m\n\u001b[1;32m----> 6\u001b[1;33m \u001b[0mmodel\u001b[0m\u001b[1;33m.\u001b[0m\u001b[0mcreate_model\u001b[0m\u001b[1;33m(\u001b[0m\u001b[0mmodel_type\u001b[0m\u001b[1;33m=\u001b[0m\u001b[1;34m'all'\u001b[0m\u001b[1;33m)\u001b[0m\u001b[1;33m\u001b[0m\u001b[0m\n\u001b[0m",
      "\u001b[1;31mTypeError\u001b[0m: create_model() got an unexpected keyword argument 'model_type'"
     ]
    }
   ],
   "source": [
    "import pandas as pd\n",
    "import HierarchicalDirichletCategorical\n",
    "\n",
    "testdata = pd.DataFrame([[1,1],[2,2],[0,0]], columns=['time', 'location'])\n",
    "model = HierarchicalDirichletCategorical.HierarchicalDirichletCategorical(testdata)\n",
    "model.create_model(model_type='all')"
   ]
  },
  {
   "cell_type": "markdown",
   "metadata": {},
   "source": [
    "# Search time "
   ]
  },
  {
   "cell_type": "code",
   "execution_count": 74,
   "metadata": {
    "collapsed": false
   },
   "outputs": [],
   "source": [
    "import glob\n",
    "import os\n",
    "#hdc_2fold_time_filename = '/data/dataDeebul/thesis/code/temporal_search/driber-aruba/results/hdc-2fold.csv.time'\n",
    "hdc_2fold_time_path = '/data/dataDeebul/thesis/code/temporal_search/driber-aruba/results'\n",
    "#hdc_2fold_time = pd.read_csv(hdc_2fold_time_filename,\n",
    "#                             names=['time'])\n",
    "%matplotlib inline\n",
    "#hdc_2fold_time.plot.box()\n",
    "\n",
    "all_files = glob.glob(os.path.join(hdc_2fold_time_path, \"*.time\"))     # advisable to use os.path.join as this makes concatenation OS independent\n",
    "df = pd.concat(pd.read_csv(f, names=[f.rsplit('/',1)[-1]]) for f in all_files)    # doesn't create a list, nor does it append to one"
   ]
  },
  {
   "cell_type": "code",
   "execution_count": 75,
   "metadata": {
    "collapsed": false
   },
   "outputs": [
    {
     "data": {
      "image/png": "[encoded data removed]",
      "text/plain": [
       "<matplotlib.figure.Figure at 0x7f52934f1518>"
      ]
     },
     "metadata": {},
     "output_type": "display_data"
    }
   ],
   "source": [
    "df.plot.box()\n",
    "plt.xticks(rotation=-90) \n",
    "plt.show()"
   ]
  },
  {
   "cell_type": "code",
   "execution_count": 68,
   "metadata": {
    "collapsed": false
   },
   "outputs": [
    {
     "data": {
      "text/plain": [
       "equal_probability.csv.time     75.222561\n",
       "equal_probability.res.time     75.222561\n",
       "hdc-2fold.csv.time             79.880994\n",
       "hdc-all.csv.time               84.775785\n",
       "hdc-week1.csv.time             81.472553\n",
       "hdc-week2.csv.time             87.295924\n",
       "hdc-week3.csv.time            104.822826\n",
       "hdc-week4.csv.time             84.775785\n",
       "static.res.time                87.277249\n",
       "dtype: float64"
      ]
     },
     "execution_count": 68,
     "metadata": {},
     "output_type": "execute_result"
    }
   ],
   "source": [
    "df.mean()"
   ]
  },
  {
   "cell_type": "code",
   "execution_count": null,
   "metadata": {
    "collapsed": true
   },
   "outputs": [],
   "source": []
  }
 ],
 "metadata": {
  "kernelspec": {
   "display_name": "Python 3",
   "language": "python",
   "name": "python3"
  },
  "language_info": {
   "codemirror_mode": {
    "name": "ipython",
    "version": 3
   },
   "file_extension": ".py",
   "mimetype": "text/x-python",
   "name": "python",
   "nbconvert_exporter": "python",
   "pygments_lexer": "ipython3",
   "version": "3.5.2"
  }
 },
 "nbformat": 4,
 "nbformat_minor": 0
}
