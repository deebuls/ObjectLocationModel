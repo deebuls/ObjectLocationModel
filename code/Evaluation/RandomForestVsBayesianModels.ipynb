{
 "cells": [
  {
   "cell_type": "code",
   "execution_count": 1,
   "metadata": {
    "collapsed": false
   },
   "outputs": [
    {
     "data": {
      "text/html": [
       "<div>\n",
       "<table border=\"1\" class=\"dataframe\">\n",
       "  <thead>\n",
       "    <tr style=\"text-align: right;\">\n",
       "      <th></th>\n",
       "      <th>location</th>\n",
       "      <th>time</th>\n",
       "      <th>day</th>\n",
       "      <th>hour</th>\n",
       "      <th>sep_hour</th>\n",
       "      <th>location_name</th>\n",
       "    </tr>\n",
       "  </thead>\n",
       "  <tbody>\n",
       "    <tr>\n",
       "      <th>0</th>\n",
       "      <td>0</td>\n",
       "      <td>00:00:00</td>\n",
       "      <td>0</td>\n",
       "      <td>0</td>\n",
       "      <td>0</td>\n",
       "      <td>Master bedroom</td>\n",
       "    </tr>\n",
       "    <tr>\n",
       "      <th>1</th>\n",
       "      <td>0</td>\n",
       "      <td>00:01:00</td>\n",
       "      <td>0</td>\n",
       "      <td>0</td>\n",
       "      <td>0</td>\n",
       "      <td>Master bedroom</td>\n",
       "    </tr>\n",
       "    <tr>\n",
       "      <th>2</th>\n",
       "      <td>0</td>\n",
       "      <td>00:02:00</td>\n",
       "      <td>0</td>\n",
       "      <td>0</td>\n",
       "      <td>0</td>\n",
       "      <td>Master bedroom</td>\n",
       "    </tr>\n",
       "    <tr>\n",
       "      <th>3</th>\n",
       "      <td>0</td>\n",
       "      <td>00:03:00</td>\n",
       "      <td>0</td>\n",
       "      <td>0</td>\n",
       "      <td>0</td>\n",
       "      <td>Master bedroom</td>\n",
       "    </tr>\n",
       "    <tr>\n",
       "      <th>4</th>\n",
       "      <td>0</td>\n",
       "      <td>00:04:00</td>\n",
       "      <td>0</td>\n",
       "      <td>0</td>\n",
       "      <td>0</td>\n",
       "      <td>Master bedroom</td>\n",
       "    </tr>\n",
       "  </tbody>\n",
       "</table>\n",
       "</div>"
      ],
      "text/plain": [
       "   location     time  day  hour  sep_hour   location_name\n",
       "0         0 00:00:00    0     0         0  Master bedroom\n",
       "1         0 00:01:00    0     0         0  Master bedroom\n",
       "2         0 00:02:00    0     0         0  Master bedroom\n",
       "3         0 00:03:00    0     0         0  Master bedroom\n",
       "4         0 00:04:00    0     0         0  Master bedroom"
      ]
     },
     "execution_count": 1,
     "metadata": {},
     "output_type": "execute_result"
    },
    {
     "data": {
      "image/png": "[encoded data removed]",
      "text/plain": [
       "<matplotlib.figure.Figure at 0x7f70448ee160>"
      ]
     },
     "metadata": {},
     "output_type": "display_data"
    }
   ],
   "source": [
    "%run LoadAndReduceData.py\n",
    "\n",
    "dataset.head()"
   ]
  },
  {
   "cell_type": "code",
   "execution_count": 10,
   "metadata": {
    "collapsed": false
   },
   "outputs": [
    {
     "name": "stdout",
     "output_type": "stream",
     "text": [
      "(161, 1) (161,)\n",
      "DecisionTreehas a score of 0.583134205153\n",
      "(161, 1) (161,)\n",
      "RandomForest with 30 estimatorshas a score of 0.596217702444\n",
      "(161, 1) (161,)\n",
      "ExtraTrees with 30 estimatorshas a score of 0.583134205153\n",
      "(161, 1) (161,)\n",
      "AdaBoost with 30 estimatorshas a score of 0.583134205153\n"
     ]
    }
   ],
   "source": [
    "import numpy as np\n",
    "import matplotlib.pyplot as plt\n",
    "\n",
    "from sklearn import clone\n",
    "from sklearn.datasets import load_iris\n",
    "from sklearn.ensemble import (RandomForestClassifier, ExtraTreesClassifier,\n",
    "                              AdaBoostClassifier)\n",
    "from sklearn.externals.six.moves import xrange\n",
    "from sklearn.tree import DecisionTreeClassifier\n",
    "from sklearn.cross_validation import train_test_split\n",
    "\n",
    "# Parameters\n",
    "n_classes = 3\n",
    "n_estimators = 30\n",
    "plot_colors = \"ryb\"\n",
    "cmap = plt.cm.RdYlBu\n",
    "plot_step = 0.02  # fine step width for decision surface contours\n",
    "plot_step_coarser = 0.5  # step widths for coarse classifier guesses\n",
    "RANDOM_SEED = 13  # fix the seed on each iteration\n",
    "\n",
    "# Load data\n",
    "iris = load_iris()\n",
    "\n",
    "plot_idx = 1\n",
    "\n",
    "models = [DecisionTreeClassifier(max_depth=None),\n",
    "          RandomForestClassifier(n_estimators=n_estimators),\n",
    "          ExtraTreesClassifier(n_estimators=n_estimators),\n",
    "          AdaBoostClassifier(DecisionTreeClassifier(max_depth=3),\n",
    "                             n_estimators=n_estimators)]\n",
    "\n",
    "for model in models:\n",
    "    # We only take the two corresponding features\n",
    "    X = dataset['sep_hour'].as_matrix()\n",
    "    y = dataset['location'].as_matrix()\n",
    "    \n",
    "\n",
    "    # Shuffle\n",
    "    idx = np.arange(X.shape[0])\n",
    "    np.random.seed(RANDOM_SEED)\n",
    "    np.random.shuffle(idx)\n",
    "    X = X[idx]\n",
    "    y = y[idx]\n",
    "\n",
    "    #Reshape as only single feature\n",
    "    X = X.reshape(-1,1)\n",
    "    # Standardize\n",
    "    #mean = X.mean(axis=0)\n",
    "    #std = X.std(axis=0)\n",
    "    #X = (X - mean) / std\n",
    "    \n",
    "    #split\n",
    "    X_train, X_test, y_train, y_test = train_test_split(X, y, test_size=.999)\n",
    "    print(X_train.shape, y_train.shape)\n",
    "\n",
    "    # Train\n",
    "    clf = clone(model)\n",
    "    clf = model.fit(X_train, y_train)\n",
    "\n",
    "    scores = clf.score(X_test, y_test)\n",
    "    # Create a title for each column and the console by using str() and\n",
    "    # slicing away useless parts of the string\n",
    "    model_title = str(type(model)).split(\".\")[-1][:-2][:-len(\"Classifier\")]\n",
    "    model_details = model_title\n",
    "    if hasattr(model, \"estimators_\"):\n",
    "        model_details += \" with {} estimators\".format(len(model.estimators_))\n",
    "    print( model_details + \"has a score of\", scores )\n",
    "\n"
   ]
  },
  {
   "cell_type": "code",
   "execution_count": 11,
   "metadata": {
    "collapsed": true
   },
   "outputs": [],
   "source": [
    "from bayespy import nodes \n",
    "from bayespy.inference import VB \n",
    "from scipy.stats import entropy\n",
    "import numpy as np \n",
    "import seaborn as sns\n",
    "from sklearn.preprocessing import normalize"
   ]
  },
  {
   "cell_type": "code",
   "execution_count": 12,
   "metadata": {
    "collapsed": true
   },
   "outputs": [],
   "source": [
    "class DirichletCategoricalModel(object):\n",
    "    \"\"\"Bayesian learning for Dirichlet-Categorical Model. \n",
    "    \n",
    "    Attributes:\n",
    "        \n",
    "    \"\"\"\n",
    "    def __init__(self):\n",
    "        #Some constants\n",
    "        self.n_locations = len(location_names.values())\n",
    "        self.n_timezones = 24 \n",
    "        \n",
    "        self.alpha = np.ones(self.n_locations)*0.01\n",
    "        self.p_theta = nodes.Dirichlet( self.alpha,\n",
    "                                   plates=(self.n_timezones,),\n",
    "                                   name='p_theta')\n",
    "        \n",
    "    def fit(self, X, y):\n",
    "\n",
    "\n",
    "        #Taking readings of sep_hour as we know the time in which the reading was taken\n",
    "        #Reshaing it meet th plates\n",
    "        recordings_time = X\n",
    "        self.locations = nodes.Mixture(recordings_time, nodes.Categorical, self.p_theta)\n",
    "        self.locations.observe(y.reshape(-1,1))\n",
    "        Q = VB(self.locations, self.p_theta)\n",
    "        Q.update(repeat=1000)\n",
    "        self.learned_params = np.array(self.p_theta.get_parameters()).reshape((24,10))\n",
    "      \n",
    "    def score(self, X, y):\n",
    "        df = pd.DataFrame({'sep_hour':X[:,0], 'location':y })\n",
    "        ct = pd.crosstab( df['location'] , df['sep_hour']).apply(lambda r: r/r.sum(), axis=0)\n",
    "        self.learned_params = normalize(self.learned_params, axis=1, norm='l1')\n",
    "        total_prediction = 0\n",
    "        for tt in np.arange(self.n_timezones):\n",
    "            #temp = pd.DataFrame(columns=['location','sep_hour'])\n",
    "            #temp['location'] = random.categorical(learned_params[tt], size= int(dataset.shape[0]/24))\n",
    "            #temp['location'] = random.categorical(self.learned_params[tt], size= 5000)\n",
    "            #temp['sep_hour'] = tt\n",
    "            #print (entropy(self.learned_params[tt],ct[tt]))\n",
    "            total_prediction += ((1 - np.sum(np.abs (self.learned_params[tt] - ct[tt])))*100)\n",
    "            \n",
    "        print(total_prediction/self.n_timezones)\n",
    "        sns.heatmap(self.learned_params.T, linewidths=.01)\n",
    "        return(np.argmax(self.learned_params, axis=1))"
   ]
  },
  {
   "cell_type": "code",
   "execution_count": 13,
   "metadata": {
    "collapsed": false
   },
   "outputs": [],
   "source": [
    "\n",
    "class HierarchicalAllDirichletCategoricalModel(object):\n",
    "    \"\"\"Bayesian learning for Dirichlet-Categorical Model. \n",
    "    \n",
    "    Attributes:\n",
    "        \n",
    "    \"\"\"\n",
    "    def __init__(self):\n",
    "        #Some constants\n",
    "        self.n_locations = len(location_names.values())\n",
    "        self.n_timezones = 24 \n",
    "        \n",
    "        self.p_conc = nodes.DirichletConcentration(10)\n",
    "        self.p_conc.initialize_from_value(np.ones(self.n_locations)*0.01)\n",
    "        self.p_theta = nodes.Dirichlet(self.p_conc,\n",
    "                                  plates=(self.n_timezones,),\n",
    "                                  name='p_theta')\n",
    "\n",
    "    def fit(self, X, y):\n",
    "\n",
    "\n",
    "        #Taking readings of sep_hour as we know the time in which the reading was taken\n",
    "        #Reshaing it meet th plates\n",
    "        recordings_time = X\n",
    "        self.locations = nodes.Mixture(recordings_time, nodes.Categorical, self.p_theta)\n",
    "        self.locations.observe(y.reshape(-1,1))\n",
    "        Q = VB(self.locations, self.p_theta, self.p_conc)\n",
    "        Q.update(repeat=1000)\n",
    "        self.learned_params = np.array(self.p_theta.get_parameters()).reshape((24,10))\n",
    "      \n",
    "    def score(self, X, y):\n",
    "        df = pd.DataFrame({'sep_hour':X[:,0], 'location':y })\n",
    "        ct = pd.crosstab( df['location'] , df['sep_hour']).apply(lambda r: r/r.sum(), axis=0)\n",
    "        self.learned_params = normalize(self.learned_params, axis=1, norm='l1')\n",
    "        total_prediction = 0\n",
    "        for tt in np.arange(self.n_timezones):\n",
    "            #temp = pd.DataFrame(columns=['location','sep_hour'])\n",
    "            #temp['location'] = random.categorical(learned_params[tt], size= int(dataset.shape[0]/24))\n",
    "            #temp['location'] = random.categorical(self.learned_params[tt], size= 5000)\n",
    "            #temp['sep_hour'] = tt\n",
    "            #print (entropy(self.learned_params[tt],ct[tt]))\n",
    "            total_prediction += ((1 - np.sum(np.abs (self.learned_params[tt] - ct[tt])))*100)\n",
    "            \n",
    "        print(total_prediction/self.n_timezones)\n",
    "        sns.heatmap(self.learned_params.T, linewidths=.01)\n",
    "        return(np.argmax(self.learned_params, axis=1))\n"
   ]
  },
  {
   "cell_type": "code",
   "execution_count": 14,
   "metadata": {
    "collapsed": false
   },
   "outputs": [
    {
     "name": "stdout",
     "output_type": "stream",
     "text": [
      "Iteration 1: loglike=-3.127354e+02 (0.003 seconds)\n",
      "Iteration 2: loglike=-3.127354e+02 (0.003 seconds)\n",
      "Converged at iteration 2.\n",
      "52.60128067916231\n",
      "[0 0 0 0 0 0 0 0 1 0 9 9 2 9 2 7 2 9 2 2 2 2 2 2]\n"
     ]
    },
    {
     "data": {
      "image/png": "[encoded data removed]",
      "text/plain": [
       "<matplotlib.figure.Figure at 0x7f703c4b14a8>"
      ]
     },
     "metadata": {},
     "output_type": "display_data"
    }
   ],
   "source": [
    "clf = DirichletCategoricalModel()\n",
    "clf.fit(X_train, y_train)\n",
    "timezone_max = clf.score(X_test, y_test)\n",
    "print (timezone_max)"
   ]
  },
  {
   "cell_type": "code",
   "execution_count": 15,
   "metadata": {
    "collapsed": false
   },
   "outputs": [
    {
     "name": "stdout",
     "output_type": "stream",
     "text": [
      "Iteration 1: loglike=-3.383354e+02 (0.011 seconds)\n",
      "Iteration 2: loglike=-3.135174e+02 (0.012 seconds)\n",
      "Iteration 3: loglike=-2.960698e+02 (0.013 seconds)\n",
      "Iteration 4: loglike=-2.835339e+02 (0.013 seconds)\n",
      "Iteration 5: loglike=-2.742673e+02 (0.012 seconds)\n",
      "Iteration 6: loglike=-2.674041e+02 (0.013 seconds)\n",
      "Iteration 7: loglike=-2.623668e+02 (0.013 seconds)\n",
      "Iteration 8: loglike=-2.586750e+02 (0.012 seconds)\n",
      "Iteration 9: loglike=-2.559374e+02 (0.012 seconds)\n",
      "Iteration 10: loglike=-2.538613e+02 (0.012 seconds)\n",
      "Iteration 11: loglike=-2.522427e+02 (0.012 seconds)\n",
      "Iteration 12: loglike=-2.509468e+02 (0.012 seconds)\n",
      "Iteration 13: loglike=-2.498863e+02 (0.012 seconds)\n",
      "Iteration 14: loglike=-2.490048e+02 (0.012 seconds)\n",
      "Iteration 15: loglike=-2.482647e+02 (0.012 seconds)\n",
      "Iteration 16: loglike=-2.476391e+02 (0.009 seconds)\n",
      "Iteration 17: loglike=-2.471082e+02 (0.007 seconds)\n",
      "Iteration 18: loglike=-2.466560e+02 (0.007 seconds)\n",
      "Iteration 19: loglike=-2.462693e+02 (0.010 seconds)\n",
      "Iteration 20: loglike=-2.459371e+02 (0.006 seconds)\n",
      "Iteration 21: loglike=-2.456501e+02 (0.008 seconds)\n",
      "Iteration 22: loglike=-2.454007e+02 (0.010 seconds)\n",
      "Iteration 23: loglike=-2.451823e+02 (0.011 seconds)\n",
      "Iteration 24: loglike=-2.449898e+02 (0.009 seconds)\n",
      "Iteration 25: loglike=-2.448189e+02 (0.007 seconds)\n",
      "Iteration 26: loglike=-2.446661e+02 (0.006 seconds)\n",
      "Iteration 27: loglike=-2.445288e+02 (0.008 seconds)\n",
      "Iteration 28: loglike=-2.444046e+02 (0.011 seconds)\n",
      "Iteration 29: loglike=-2.442918e+02 (0.012 seconds)\n",
      "Iteration 30: loglike=-2.441890e+02 (0.008 seconds)\n",
      "Iteration 31: loglike=-2.440950e+02 (0.007 seconds)\n",
      "Iteration 32: loglike=-2.440088e+02 (0.007 seconds)\n",
      "Iteration 33: loglike=-2.439297e+02 (0.009 seconds)\n",
      "Iteration 34: loglike=-2.438569e+02 (0.011 seconds)\n",
      "Iteration 35: loglike=-2.437898e+02 (0.009 seconds)\n",
      "Iteration 36: loglike=-2.437280e+02 (0.008 seconds)\n",
      "Iteration 37: loglike=-2.436710e+02 (0.007 seconds)\n",
      "Iteration 38: loglike=-2.436184e+02 (0.007 seconds)\n",
      "Iteration 39: loglike=-2.435698e+02 (0.010 seconds)\n",
      "Iteration 40: loglike=-2.435250e+02 (0.012 seconds)\n",
      "Iteration 41: loglike=-2.434836e+02 (0.009 seconds)\n",
      "Iteration 42: loglike=-2.434453e+02 (0.007 seconds)\n",
      "Iteration 43: loglike=-2.434100e+02 (0.007 seconds)\n",
      "Iteration 44: loglike=-2.433773e+02 (0.007 seconds)\n",
      "Iteration 45: loglike=-2.433471e+02 (0.009 seconds)\n",
      "Iteration 46: loglike=-2.433192e+02 (0.013 seconds)\n",
      "Iteration 47: loglike=-2.432933e+02 (0.007 seconds)\n",
      "Iteration 48: loglike=-2.432694e+02 (0.007 seconds)\n",
      "Iteration 49: loglike=-2.432473e+02 (0.007 seconds)\n",
      "Iteration 50: loglike=-2.432267e+02 (0.007 seconds)\n",
      "Iteration 51: loglike=-2.432077e+02 (0.007 seconds)\n",
      "Iteration 52: loglike=-2.431901e+02 (0.008 seconds)\n",
      "Iteration 53: loglike=-2.431737e+02 (0.012 seconds)\n",
      "Iteration 54: loglike=-2.431585e+02 (0.009 seconds)\n",
      "Iteration 55: loglike=-2.431443e+02 (0.007 seconds)\n",
      "Iteration 56: loglike=-2.431312e+02 (0.007 seconds)\n",
      "Iteration 57: loglike=-2.431190e+02 (0.007 seconds)\n",
      "Iteration 58: loglike=-2.431076e+02 (0.007 seconds)\n",
      "Iteration 59: loglike=-2.430970e+02 (0.009 seconds)\n",
      "Iteration 60: loglike=-2.430871e+02 (0.013 seconds)\n",
      "Iteration 61: loglike=-2.430779e+02 (0.007 seconds)\n",
      "Iteration 62: loglike=-2.430694e+02 (0.007 seconds)\n",
      "Iteration 63: loglike=-2.430614e+02 (0.007 seconds)\n",
      "Iteration 64: loglike=-2.430539e+02 (0.007 seconds)\n",
      "Iteration 65: loglike=-2.430469e+02 (0.007 seconds)\n",
      "Iteration 66: loglike=-2.430404e+02 (0.009 seconds)\n",
      "Iteration 67: loglike=-2.430343e+02 (0.013 seconds)\n",
      "Iteration 68: loglike=-2.430286e+02 (0.007 seconds)\n",
      "Iteration 69: loglike=-2.430233e+02 (0.007 seconds)\n",
      "Iteration 70: loglike=-2.430183e+02 (0.007 seconds)\n",
      "Iteration 71: loglike=-2.430137e+02 (0.007 seconds)\n",
      "Iteration 72: loglike=-2.430093e+02 (0.007 seconds)\n",
      "Iteration 73: loglike=-2.430052e+02 (0.009 seconds)\n",
      "Iteration 74: loglike=-2.430014e+02 (0.013 seconds)\n",
      "Iteration 75: loglike=-2.429978e+02 (0.007 seconds)\n",
      "Iteration 76: loglike=-2.429945e+02 (0.007 seconds)\n",
      "Iteration 77: loglike=-2.429914e+02 (0.007 seconds)\n",
      "Iteration 78: loglike=-2.429884e+02 (0.007 seconds)\n",
      "Iteration 79: loglike=-2.429857e+02 (0.007 seconds)\n",
      "Iteration 80: loglike=-2.429831e+02 (0.009 seconds)\n",
      "Iteration 81: loglike=-2.429807e+02 (0.013 seconds)\n",
      "Converged at iteration 81.\n",
      "51.42005816177695\n"
     ]
    },
    {
     "data": {
      "image/png": "[encoded data removed]",
      "text/plain": [
       "<matplotlib.figure.Figure at 0x7f703c461518>"
      ]
     },
     "metadata": {},
     "output_type": "display_data"
    }
   ],
   "source": [
    "\n",
    "clf = HierarchicalAllDirichletCategoricalModel()\n",
    "clf.fit(X_train, y_train)\n",
    "timezone_max = clf.score(X_test, y_test)"
   ]
  },
  {
   "cell_type": "code",
   "execution_count": 9,
   "metadata": {
    "collapsed": false
   },
   "outputs": [
    {
     "name": "stdout",
     "output_type": "stream",
     "text": [
      "[ 6 15 12 ..., 14  1  1]\n",
      "sep_hour        0         1         2         3         4         5   \\\n",
      "location                                                               \n",
      "0         0.740018  0.917126  0.972727  0.975119  0.972396  0.952516   \n",
      "1         0.022795  0.003875  0.001341  0.003427  0.007162  0.013588   \n",
      "2         0.222139  0.067372  0.010730  0.000149  0.000000  0.004480   \n",
      "3         0.004321  0.000298  0.000149  0.000149  0.000298  0.007317   \n",
      "4         0.001192  0.000596  0.000000  0.000000  0.000000  0.000000   \n",
      "5         0.000745  0.001491  0.003279  0.007598  0.007460  0.008511   \n",
      "6         0.008343  0.009092  0.009687  0.013558  0.012683  0.012991   \n",
      "7         0.000298  0.000149  0.000149  0.000000  0.000000  0.000000   \n",
      "8         0.000000  0.000000  0.000000  0.000000  0.000000  0.000597   \n",
      "9         0.000149  0.000000  0.001937  0.000000  0.000000  0.000000   \n",
      "\n",
      "sep_hour        6         7         8         9     ...           14  \\\n",
      "location                                            ...                \n",
      "0         0.778357  0.598359  0.314000  0.090272    ...     0.034287   \n",
      "1         0.032941  0.112304  0.086477  0.089227    ...     0.015802   \n",
      "2         0.093755  0.144519  0.294767  0.404208    ...     0.426506   \n",
      "3         0.047399  0.065623  0.102728  0.089973    ...     0.073792   \n",
      "4         0.001341  0.002983  0.005368  0.005372    ...     0.009839   \n",
      "5         0.001491  0.007010  0.005815  0.004029    ...     0.006261   \n",
      "6         0.037114  0.046085  0.056657  0.051776    ...     0.057692   \n",
      "7         0.000894  0.002386  0.011928  0.006565    ...     0.031306   \n",
      "8         0.000298  0.000597  0.003429  0.001194    ...     0.002832   \n",
      "9         0.006409  0.020134  0.118831  0.257386    ...     0.341682   \n",
      "\n",
      "sep_hour        15        16        17        18        19        20  \\\n",
      "location                                                               \n",
      "0         0.039397  0.052145  0.029355  0.025825  0.016997  0.018325   \n",
      "1         0.008506  0.018027  0.010580  0.011793  0.004473  0.009237   \n",
      "2         0.460678  0.488826  0.522128  0.588745  0.708961  0.816448   \n",
      "3         0.104611  0.114422  0.122783  0.105687  0.089906  0.036651   \n",
      "4         0.010148  0.007598  0.009239  0.006717  0.004920  0.003576   \n",
      "5         0.011640  0.008194  0.008792  0.004926  0.003131  0.002980   \n",
      "6         0.074466  0.106526  0.075250  0.056277  0.046966  0.041269   \n",
      "7         0.065662  0.073897  0.054835  0.040454  0.026092  0.018176   \n",
      "8         0.003880  0.005066  0.004023  0.002388  0.001342  0.000745   \n",
      "9         0.221012  0.125298  0.163016  0.157188  0.097212  0.052592   \n",
      "\n",
      "sep_hour        21        22        23  \n",
      "location                                \n",
      "0         0.037142  0.111741  0.297644  \n",
      "1         0.010442  0.021632  0.031763  \n",
      "2         0.842631  0.778010  0.628094  \n",
      "3         0.022822  0.011338  0.011482  \n",
      "4         0.003878  0.002536  0.002386  \n",
      "5         0.001342  0.001343  0.001789  \n",
      "6         0.029385  0.030882  0.011482  \n",
      "7         0.010889  0.014173  0.012228  \n",
      "8         0.000746  0.000597  0.000298  \n",
      "9         0.040722  0.027749  0.002833  \n",
      "\n",
      "[10 rows x 24 columns]\n",
      "[0 0 0 0 0 0 0 0 2 2 9 9 9 9 2 7 2 2 2 2 2 2 2 2]\n"
     ]
    },
    {
     "ename": "KeyError",
     "evalue": "'All'",
     "output_type": "error",
     "traceback": [
      "\u001b[1;31m---------------------------------------------------------------------------\u001b[0m",
      "\u001b[1;31mTypeError\u001b[0m                                 Traceback (most recent call last)",
      "\u001b[1;32mpandas/index.pyx\u001b[0m in \u001b[0;36mpandas.index.IndexEngine.get_loc (pandas/index.c:3891)\u001b[1;34m()\u001b[0m\n",
      "\u001b[1;32mpandas/hashtable.pyx\u001b[0m in \u001b[0;36mpandas.hashtable.Int64HashTable.get_item (pandas/hashtable.c:6503)\u001b[1;34m()\u001b[0m\n",
      "\u001b[1;31mTypeError\u001b[0m: an integer is required",
      "\nDuring handling of the above exception, another exception occurred:\n",
      "\u001b[1;31mKeyError\u001b[0m                                  Traceback (most recent call last)",
      "\u001b[1;32m<ipython-input-9-7781ea309059>\u001b[0m in \u001b[0;36m<module>\u001b[1;34m()\u001b[0m\n\u001b[0;32m     10\u001b[0m \u001b[1;32mfor\u001b[0m \u001b[0mtimezone\u001b[0m\u001b[1;33m,\u001b[0m \u001b[0mmaxInTime\u001b[0m \u001b[1;32min\u001b[0m \u001b[0menumerate\u001b[0m\u001b[1;33m(\u001b[0m\u001b[0mtimezone_max\u001b[0m\u001b[1;33m)\u001b[0m\u001b[1;33m:\u001b[0m\u001b[1;33m\u001b[0m\u001b[0m\n\u001b[0;32m     11\u001b[0m     print (ct[timezone][maxInTime],\n\u001b[1;32m---> 12\u001b[1;33m            \u001b[0mct\u001b[0m\u001b[1;33m[\u001b[0m\u001b[0mtimezone\u001b[0m\u001b[1;33m]\u001b[0m\u001b[1;33m[\u001b[0m\u001b[1;34m'All'\u001b[0m\u001b[1;33m]\u001b[0m\u001b[1;33m,\u001b[0m\u001b[1;33m\u001b[0m\u001b[0m\n\u001b[0m\u001b[0;32m     13\u001b[0m            ct[timezone][maxInTime]/ ct[timezone]['All'])\n\u001b[0;32m     14\u001b[0m     \u001b[0mtotal_prediction\u001b[0m \u001b[1;33m+=\u001b[0m \u001b[1;33m(\u001b[0m\u001b[0mct\u001b[0m\u001b[1;33m[\u001b[0m\u001b[0mtimezone\u001b[0m\u001b[1;33m]\u001b[0m\u001b[1;33m[\u001b[0m\u001b[0mmaxInTime\u001b[0m\u001b[1;33m]\u001b[0m\u001b[1;33m/\u001b[0m \u001b[0mct\u001b[0m\u001b[1;33m[\u001b[0m\u001b[0mtimezone\u001b[0m\u001b[1;33m]\u001b[0m\u001b[1;33m[\u001b[0m\u001b[1;34m'All'\u001b[0m\u001b[1;33m]\u001b[0m\u001b[1;33m)\u001b[0m\u001b[1;33m\u001b[0m\u001b[0m\n",
      "\u001b[1;32m/home/deebuls/anaconda3/lib/python3.5/site-packages/pandas/core/series.py\u001b[0m in \u001b[0;36m__getitem__\u001b[1;34m(self, key)\u001b[0m\n\u001b[0;32m    558\u001b[0m     \u001b[1;32mdef\u001b[0m \u001b[0m__getitem__\u001b[0m\u001b[1;33m(\u001b[0m\u001b[0mself\u001b[0m\u001b[1;33m,\u001b[0m \u001b[0mkey\u001b[0m\u001b[1;33m)\u001b[0m\u001b[1;33m:\u001b[0m\u001b[1;33m\u001b[0m\u001b[0m\n\u001b[0;32m    559\u001b[0m         \u001b[1;32mtry\u001b[0m\u001b[1;33m:\u001b[0m\u001b[1;33m\u001b[0m\u001b[0m\n\u001b[1;32m--> 560\u001b[1;33m             \u001b[0mresult\u001b[0m \u001b[1;33m=\u001b[0m \u001b[0mself\u001b[0m\u001b[1;33m.\u001b[0m\u001b[0mindex\u001b[0m\u001b[1;33m.\u001b[0m\u001b[0mget_value\u001b[0m\u001b[1;33m(\u001b[0m\u001b[0mself\u001b[0m\u001b[1;33m,\u001b[0m \u001b[0mkey\u001b[0m\u001b[1;33m)\u001b[0m\u001b[1;33m\u001b[0m\u001b[0m\n\u001b[0m\u001b[0;32m    561\u001b[0m \u001b[1;33m\u001b[0m\u001b[0m\n\u001b[0;32m    562\u001b[0m             \u001b[1;32mif\u001b[0m \u001b[1;32mnot\u001b[0m \u001b[0mlib\u001b[0m\u001b[1;33m.\u001b[0m\u001b[0misscalar\u001b[0m\u001b[1;33m(\u001b[0m\u001b[0mresult\u001b[0m\u001b[1;33m)\u001b[0m\u001b[1;33m:\u001b[0m\u001b[1;33m\u001b[0m\u001b[0m\n",
      "\u001b[1;32m/home/deebuls/anaconda3/lib/python3.5/site-packages/pandas/indexes/base.py\u001b[0m in \u001b[0;36mget_value\u001b[1;34m(self, series, key)\u001b[0m\n\u001b[0;32m   1909\u001b[0m         \u001b[1;32mtry\u001b[0m\u001b[1;33m:\u001b[0m\u001b[1;33m\u001b[0m\u001b[0m\n\u001b[0;32m   1910\u001b[0m             return self._engine.get_value(s, k,\n\u001b[1;32m-> 1911\u001b[1;33m                                           tz=getattr(series.dtype, 'tz', None))\n\u001b[0m\u001b[0;32m   1912\u001b[0m         \u001b[1;32mexcept\u001b[0m \u001b[0mKeyError\u001b[0m \u001b[1;32mas\u001b[0m \u001b[0me1\u001b[0m\u001b[1;33m:\u001b[0m\u001b[1;33m\u001b[0m\u001b[0m\n\u001b[0;32m   1913\u001b[0m             \u001b[1;32mif\u001b[0m \u001b[0mlen\u001b[0m\u001b[1;33m(\u001b[0m\u001b[0mself\u001b[0m\u001b[1;33m)\u001b[0m \u001b[1;33m>\u001b[0m \u001b[1;36m0\u001b[0m \u001b[1;32mand\u001b[0m \u001b[0mself\u001b[0m\u001b[1;33m.\u001b[0m\u001b[0minferred_type\u001b[0m \u001b[1;32min\u001b[0m \u001b[1;33m[\u001b[0m\u001b[1;34m'integer'\u001b[0m\u001b[1;33m,\u001b[0m \u001b[1;34m'boolean'\u001b[0m\u001b[1;33m]\u001b[0m\u001b[1;33m:\u001b[0m\u001b[1;33m\u001b[0m\u001b[0m\n",
      "\u001b[1;32mpandas/index.pyx\u001b[0m in \u001b[0;36mpandas.index.IndexEngine.get_value (pandas/index.c:3234)\u001b[1;34m()\u001b[0m\n",
      "\u001b[1;32mpandas/index.pyx\u001b[0m in \u001b[0;36mpandas.index.IndexEngine.get_value (pandas/index.c:2931)\u001b[1;34m()\u001b[0m\n",
      "\u001b[1;32mpandas/index.pyx\u001b[0m in \u001b[0;36mpandas.index.IndexEngine.get_loc (pandas/index.c:3956)\u001b[1;34m()\u001b[0m\n",
      "\u001b[1;31mKeyError\u001b[0m: 'All'"
     ]
    }
   ],
   "source": [
    "print (X_test[:,0])\n",
    "\n",
    "df = pd.DataFrame({'sep_hour':X_test[:,0],\n",
    "                   'location':y_test })\n",
    "ct = pd.crosstab( df['location'] , df['sep_hour']).apply(lambda r: r/r.sum(), axis=0)\n",
    "print (ct)\n",
    "print (timezone_max)\n",
    "\n",
    "total_prediction = 0\n",
    "for timezone, maxInTime in enumerate(timezone_max):\n",
    "    print (ct[timezone][maxInTime],\n",
    "           ct[timezone]['All'], \n",
    "           ct[timezone][maxInTime]/ ct[timezone]['All'])\n",
    "    total_prediction += (ct[timezone][maxInTime]/ ct[timezone]['All'])\n",
    "\n",
    "print (total_prediction/len(timezone_max))"
   ]
  },
  {
   "cell_type": "code",
   "execution_count": 18,
   "metadata": {
    "collapsed": false
   },
   "outputs": [
    {
     "data": {
      "image/png": "[encoded data removed]",
      "text/plain": [
       "<matplotlib.figure.Figure at 0x7f0f7e4122e8>"
      ]
     },
     "metadata": {},
     "output_type": "display_data"
    }
   ],
   "source": [
    "import seaborn as sns\n",
    "import matplotlib.pyplot as plt\n",
    "import numpy as np\n",
    "%matplotlib inline\n",
    "sns.set_color_codes()\n",
    "data_usage = [50, 40, 30, 20, 10]\n",
    "random_forest = [0.79, 0.72, 0.64, 0.58, 0.53]\n",
    "svm = [0.74, 0.70, 0.63, 0.56, 0.53]\n",
    "model_based = [0.78, 0.72, 0.69, 0.68, 0.64]\n",
    "\n",
    "N = 5\n",
    "ind = np.arange(N)  # the x locations for the groups\n",
    "width = 0.27       # the width of the bars\n",
    "\n",
    "fig = plt.figure(figsize=(10,5))\n",
    "ax = fig.add_subplot(111)\n",
    "\n",
    "yvals = [4, 9, 2]\n",
    "rects1 = ax.bar(ind, random_forest, width, color='salmon')\n",
    "zvals = [1,2,3]\n",
    "rects2 = ax.bar(ind+width, svm, width, color='c')\n",
    "kvals = [11,12,13]\n",
    "rects3 = ax.bar(ind+width*2, model_based, width, color='purple')\n",
    "\n",
    "ax.set_ylim([0,1])\n",
    "ax.set_ylabel('Scores')\n",
    "ax.set_xlabel('Data Reduction')\n",
    "ax.set_xticks(ind+width)\n",
    "ax.set_xticklabels( ('50%', '40%', '30%', '20%', '10%') )\n",
    "ax.legend( (rects1[0], rects2[0], rects3[0]), ('Random Forest', 'SVM', 'Model Based') )\n",
    "\n",
    "def autolabel(rects):\n",
    "    for rect in rects:\n",
    "        h = rect.get_height()\n",
    "        ax.text(rect.get_x()+rect.get_width()/2., 1.05*h, '%d'%int(h),\n",
    "                ha='center', va='bottom')\n",
    "\n",
    "#autolabel(rects1)\n",
    "#autolabel(rects2)\n",
    "#autolabel(rects3)\n",
    "\n",
    "plt.show()"
   ]
  },
  {
   "cell_type": "code",
   "execution_count": null,
   "metadata": {
    "collapsed": true
   },
   "outputs": [],
   "source": []
  }
 ],
 "metadata": {
  "kernelspec": {
   "display_name": "Python 3",
   "language": "python",
   "name": "python3"
  },
  "language_info": {
   "codemirror_mode": {
    "name": "ipython",
    "version": 3
   },
   "file_extension": ".py",
   "mimetype": "text/x-python",
   "name": "python",
   "nbconvert_exporter": "python",
   "pygments_lexer": "ipython3",
   "version": "3.5.1"
  }
 },
 "nbformat": 4,
 "nbformat_minor": 0
}
