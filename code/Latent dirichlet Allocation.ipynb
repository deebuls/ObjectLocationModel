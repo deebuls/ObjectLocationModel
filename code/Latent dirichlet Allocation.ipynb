{
 "cells": [
  {
   "cell_type": "code",
   "execution_count": 1,
   "metadata": {
    "collapsed": true
   },
   "outputs": [],
   "source": [
    "import numpy as np\n",
    "from bayespy import nodes"
   ]
  },
  {
   "cell_type": "code",
   "execution_count": 3,
   "metadata": {
    "collapsed": true
   },
   "outputs": [],
   "source": [
    "n_documents = 10\n",
    "n_words = 10000\n",
    "n_vocabulary = 100\n",
    "n_topics = 5"
   ]
  },
  {
   "cell_type": "code",
   "execution_count": 6,
   "metadata": {
    "collapsed": false
   },
   "outputs": [
    {
     "name": "stdout",
     "output_type": "stream",
     "text": [
      "(10000,)\n",
      "(10000,)\n"
     ]
    }
   ],
   "source": [
    "word_documents = nodes.Categorical(np.ones(n_documents)/n_documents,\n",
    "                                   plates=(n_words,)).random()\n",
    "\n",
    "p_topic = nodes.Dirichlet(1e-1*np.ones(n_topics),\n",
    "                           plates=(n_documents,)).random()\n",
    "\n",
    "p_word = nodes.Dirichlet(1e-1*np.ones(n_vocabulary),\n",
    "                          plates=(n_topics,)).random()\n",
    "topic = nodes.Categorical(p_topic[word_documents],\n",
    "                           plates=(n_words,)).random()\n",
    "\n",
    "corpus = nodes.Categorical(p_word[topic],\n",
    "                            plates=(n_words,)).random()\n",
    "\n",
    "print(topic.shape)\n",
    "print(corpus.shape)"
   ]
  },
  {
   "cell_type": "code",
   "execution_count": 7,
   "metadata": {
    "collapsed": false
   },
   "outputs": [
    {
     "data": {
      "image/png": "[encoded data removed]",
      "text/plain": [
       "<matplotlib.figure.Figure at 0x7f721cd19940>"
      ]
     },
     "metadata": {},
     "output_type": "display_data"
    }
   ],
   "source": [
    "%matplotlib inline\n",
    "import bayespy.plot as bpplt\n",
    "bpplt.hinton(p_topic)\n",
    "bpplt.pyplot.show()"
   ]
  }
 ],
 "metadata": {
  "kernelspec": {
   "display_name": "Python 3",
   "language": "python",
   "name": "python3"
  },
  "language_info": {
   "codemirror_mode": {
    "name": "ipython",
    "version": 3
   },
   "file_extension": ".py",
   "mimetype": "text/x-python",
   "name": "python",
   "nbconvert_exporter": "python",
   "pygments_lexer": "ipython3",
   "version": "3.5.1"
  }
 },
 "nbformat": 4,
 "nbformat_minor": 0
}
