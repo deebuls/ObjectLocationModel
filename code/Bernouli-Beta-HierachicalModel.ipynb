{
 "cells": [
  {
   "cell_type": "code",
   "execution_count": null,
   "metadata": {
    "collapsed": true
   },
   "outputs": [],
   "source": [
    "# from bayespy.nodes import Bernoulli, Beta, DirichletConcentration, Dirichlet\n",
    "from bayespy.nodes import Mixture\n",
    "from numpy import array\n",
    "from bayespy.inference import VB\n",
    "\n",
    "\n",
    "C = DirichletConcentration(2)\n",
    "C.initialize_from_value([0.1, 0.1])\n",
    "#P = Beta([0.5,0.5], plates=(3,), name='P')\n",
    "#P = Beta(C, plates=(3,), name='P')\n",
    "P = Dirichlet([1,1,1], name='P')\n",
    "data = array([[0,True],[0,True],[0,True],[0,False],[1,True],[1,True]])\n",
    "print(data[:,0], data[:,1])\n",
    "Z = Mixture(data[:,0], Bernoulli, P)\n",
    "Z.observe(data[:,1])\n",
    "# Creating inference engine\n",
    "#Q = VB(Z,P,C)\n",
    "Q = VB(Z,P)\n",
    "Q.update(repeat=1000)\n",
    "print(P.get_parameters())"
   ]
  },
  {
   "cell_type": "code",
   "execution_count": 35,
   "metadata": {
    "collapsed": false
   },
   "outputs": [
    {
     "data": {
      "text/plain": [
       "[array([[-0.18395744, -1.79751879],\n",
       "        [-0.18021895, -1.81663558],\n",
       "        [-0.18209196, -1.8072045 ]])]"
      ]
     },
     "execution_count": 35,
     "metadata": {},
     "output_type": "execute_result"
    }
   ],
   "source": [
    "P.get_moments()"
   ]
  },
  {
   "cell_type": "code",
   "execution_count": 30,
   "metadata": {
    "collapsed": false
   },
   "outputs": [
    {
     "data": {
      "image/png": "[encoded data removed]",
      "text/plain": [
       "<matplotlib.figure.Figure at 0x7f74890852e8>"
      ]
     },
     "metadata": {},
     "output_type": "display_data"
    }
   ],
   "source": [
    "%matplotlib inline\n",
    "import bayespy.plot as bpplt\n",
    "bpplt.hinton(P)\n",
    "bpplt.pyplot.title(\"Learned Distribution \")\n",
    "bpplt.pyplot.show()"
   ]
  },
  {
   "cell_type": "code",
   "execution_count": 28,
   "metadata": {
    "collapsed": false
   },
   "outputs": [
    {
     "name": "stdout",
     "output_type": "stream",
     "text": [
      "[0 0 0 0 1 1] [1 1 1 0 1 1]\n"
     ]
    },
    {
     "ename": "TypeError",
     "evalue": "unsupported operand type(s) for -: 'int' and 'Beta'",
     "output_type": "error",
     "traceback": [
      "\u001b[1;31m---------------------------------------------------------------------------\u001b[0m",
      "\u001b[1;31mTypeError\u001b[0m                                 Traceback (most recent call last)",
      "\u001b[1;32m<ipython-input-28-123cfccf0330>\u001b[0m in \u001b[0;36m<module>\u001b[1;34m()\u001b[0m\n\u001b[0;32m     14\u001b[0m \u001b[1;33m\u001b[0m\u001b[0m\n\u001b[0;32m     15\u001b[0m \u001b[0mz2data\u001b[0m \u001b[1;33m=\u001b[0m \u001b[0marray\u001b[0m\u001b[1;33m(\u001b[0m\u001b[1;33m[\u001b[0m\u001b[1;32mTrue\u001b[0m\u001b[1;33m,\u001b[0m \u001b[1;32mFalse\u001b[0m\u001b[1;33m]\u001b[0m\u001b[1;33m)\u001b[0m\u001b[1;33m\u001b[0m\u001b[0m\n\u001b[1;32m---> 16\u001b[1;33m \u001b[0mZ2\u001b[0m \u001b[1;33m=\u001b[0m \u001b[0mBernoulli\u001b[0m\u001b[1;33m(\u001b[0m\u001b[1;36m1\u001b[0m\u001b[1;33m-\u001b[0m\u001b[0mP\u001b[0m\u001b[1;33m,\u001b[0m\u001b[0mplates\u001b[0m\u001b[1;33m=\u001b[0m\u001b[1;33m(\u001b[0m\u001b[1;36m2\u001b[0m\u001b[1;33m,\u001b[0m\u001b[1;33m)\u001b[0m\u001b[1;33m,\u001b[0m \u001b[0mname\u001b[0m\u001b[1;33m=\u001b[0m\u001b[1;34m'Z2'\u001b[0m\u001b[1;33m)\u001b[0m\u001b[1;33m\u001b[0m\u001b[0m\n\u001b[0m\u001b[0;32m     17\u001b[0m \u001b[0mZ2\u001b[0m\u001b[1;33m.\u001b[0m\u001b[0mobserve\u001b[0m\u001b[1;33m(\u001b[0m\u001b[0mz2data\u001b[0m\u001b[1;33m)\u001b[0m\u001b[1;33m\u001b[0m\u001b[0m\n\u001b[0;32m     18\u001b[0m \u001b[1;33m\u001b[0m\u001b[0m\n",
      "\u001b[1;31mTypeError\u001b[0m: unsupported operand type(s) for -: 'int' and 'Beta'"
     ]
    }
   ],
   "source": [
    "from bayespy.nodes import Bernoulli, Beta, DirichletConcentration\n",
    "from bayespy.nodes import Mixture\n",
    "from numpy import array\n",
    "from bayespy.inference import VB\n",
    "\n",
    "P = Beta([0.5,0.5], plates=(1,), name='P')\n",
    "\n",
    "data = array([[0,True],[0,True],[0,True],[0,False],[1,True],[1,True]])\n",
    "print(data[:,0], data[:,1])\n",
    "\n",
    "z1data = array([True, True, True, True, True, True, True, True, True, False])\n",
    "Z1 = Bernoulli(P,plates=(10,), name='Z1')\n",
    "Z1.observe(z1data)\n",
    "\n",
    "z2data = array([True, False])\n",
    "Z2 = Bernoulli(1-P,plates=(2,), name='Z2')\n",
    "Z2.observe(z2data)\n",
    "\n",
    "z3data = array([False])\n",
    "Z3 = Bernoulli(1-P,plates=(1,), name='Z3')\n",
    "Z3.observe(z3data)\n",
    "\n",
    "# Creating inference engine\n",
    "Q = VB(Z1, Z2, Z3,P)\n",
    "Q.update(repeat=1000)\n",
    "%matplotlib inline\n",
    "import bayespy.plot as bpplt\n",
    "bpplt.hinton(P)\n",
    "bpplt.pyplot.title(\"Learned Distribution \")\n",
    "bpplt.pyplot.show()\n",
    "\n",
    "from bayespy.nodes import Bernoulli, Beta\n",
    ">>> p = Beta([1e-3, 1e-3])\n",
    ">>> z = Bernoulli(p, plates=(10,))\n",
    ">>> z.observe([0, 1, 1, 1, 0, 1, 1, 1, 0, 1])\n",
    ">>> p.update()\n",
    ">>> import bayespy.plot as bpplt\n",
    ">>> import numpy as np\n",
    ">>> bpplt.pdf(p, np.linspace(0, 1, num=100))"
   ]
  },
  {
   "cell_type": "code",
   "execution_count": 6,
   "metadata": {
    "collapsed": false
   },
   "outputs": [
    {
     "name": "stdout",
     "output_type": "stream",
     "text": [
      "Iteration 1: loglike=-6.040255e+00 (0.010 seconds)\n",
      "Iteration 2: loglike=-5.947403e+00 (0.010 seconds)\n",
      "Iteration 3: loglike=-5.905029e+00 (0.000 seconds)\n",
      "Iteration 4: loglike=-5.885717e+00 (0.000 seconds)\n",
      "Iteration 5: loglike=-5.877010e+00 (0.000 seconds)\n",
      "Iteration 6: loglike=-5.873131e+00 (0.000 seconds)\n",
      "Iteration 7: loglike=-5.871422e+00 (0.010 seconds)\n",
      "Iteration 8: loglike=-5.870674e+00 (0.000 seconds)\n",
      "Iteration 9: loglike=-5.870350e+00 (0.000 seconds)\n",
      "Iteration 10: loglike=-5.870209e+00 (0.000 seconds)\n",
      " ~ Dirichlet(alpha)\n",
      "  alpha =\n",
      "[ 1.          4.94483965  2.05516035]\n",
      " ~ Categorical(p)\n",
      "  p = \n",
      "[[ 0.          0.73620991  0.26379009]\n",
      " [ 0.          0.73620991  0.26379009]\n",
      " [ 0.          0.73620991  0.26379009]\n",
      " [ 0.          0.73620991  0.26379009]\n",
      " [ 0.          1.          0.        ]]\n",
      "\n"
     ]
    },
    {
     "name": "stderr",
     "output_type": "stream",
     "text": [
      "/home/deebuls/anaconda3/lib/python3.5/site-packages/bayespy/inference/vmp/nodes/dirichlet.py:91: RuntimeWarning: divide by zero encountered in log\n",
      "  logp = np.log(p)\n"
     ]
    },
    {
     "data": {
      "image/png": "[encoded data removed]",
      "text/plain": [
       "<matplotlib.figure.Figure at 0x7f677ce3d588>"
      ]
     },
     "metadata": {},
     "output_type": "display_data"
    }
   ],
   "source": [
    "\n",
    "import bayespy as bp\n",
    "p = bp.nodes.Dirichlet([1, 1, 1])\n",
    "locations = bp.nodes.Categorical(p, plates=(5,))\n",
    "observations = bp.nodes.Mixture(\n",
    "    locations,\n",
    "    bp.nodes.Bernoulli,\n",
    "    [\n",
    "        [0.0, 0.5, 0.5],\n",
    "        [0.0, 0.5, 0.5],\n",
    "        [0.0, 0.5, 0.5],\n",
    "        [0.0, 0.5, 0.5],\n",
    "        [0.0, 0.5, 0.0],\n",
    "    ]\n",
    ")\n",
    "observations.observe([True, True, True, True, True])\n",
    "Q = bp.inference.VB(observations, locations, p)\n",
    "Q.update(repeat=10)\n",
    "print(p)\n",
    "print(locations)\n",
    "\n",
    "%matplotlib inline\n",
    "import bayespy.plot as bpplt\n",
    "bpplt.hinton(p)\n",
    "bpplt.pyplot.title(\"Learned Distribution \")\n",
    "bpplt.pyplot.show()"
   ]
  },
  {
   "cell_type": "code",
   "execution_count": null,
   "metadata": {
    "collapsed": true
   },
   "outputs": [],
   "source": []
  }
 ],
 "metadata": {
  "kernelspec": {
   "display_name": "Python 3",
   "language": "python",
   "name": "python3"
  },
  "language_info": {
   "codemirror_mode": {
    "name": "ipython",
    "version": 3
   },
   "file_extension": ".py",
   "mimetype": "text/x-python",
   "name": "python",
   "nbconvert_exporter": "python",
   "pygments_lexer": "ipython3",
   "version": "3.5.1"
  }
 },
 "nbformat": 4,
 "nbformat_minor": 0
}
