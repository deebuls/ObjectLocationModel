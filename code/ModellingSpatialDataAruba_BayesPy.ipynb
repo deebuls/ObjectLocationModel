{
 "cells": [
  {
   "cell_type": "code",
   "execution_count": 1,
   "metadata": {
    "collapsed": false
   },
   "outputs": [
    {
     "name": "stdout",
     "output_type": "stream",
     "text": [
      "{0: 'Master bedroom', 1: 'Master bathroom', 2: 'Living room', 3: 'Kitchen', 4: 'Center', 5: 'Corridor', 6: 'Second bedroom', 7: 'Office', 8: 'Second bathroom', 9: 'Outside'}\n"
     ]
    }
   ],
   "source": [
    "import pandas as pd\n",
    "import numpy as np\n",
    "aruba_dataset_path = '/data/dataDeebul/thesis/dataset/strands/aruba/locations.names'\n",
    "\n",
    "location_names = {}\n",
    "count = 0\n",
    "with open(aruba_dataset_path, 'r') as content_file:\n",
    "    content = content_file.read()\n",
    "    content = str.splitlines(content)\n",
    "for count,location in enumerate(content):\n",
    "    location_names[count] = location\n",
    "print(location_names)\n",
    "\n",
    "\n",
    "aruba_dataset_path = '/data/dataDeebul/thesis/dataset/strands/aruba/locations.min'\n",
    "\n",
    "dataset = pd.read_csv(aruba_dataset_path, names=['location', 'time'])\n",
    "dataset['time'] = dataset.index\n",
    "dataset['time'] = pd.to_timedelta(dataset['time'], unit='m')\n",
    "dataset['minute'] = (dataset['time']/ np.timedelta64(1, 'm')).astype(int)\n",
    "\n",
    "\n",
    "#Renaming location number with their names\n",
    "for key,value in location_names.items():\n",
    "    dataset.ix[dataset.location ==key, 'location_name'] = value\n",
    "    \n",
    "def mod_for_minute(row):\n",
    "    return row['minute'] % 1440\n",
    "dataset['sep_minute'] = dataset.apply(mod_for_minute, axis=1)"
   ]
  },
  {
   "cell_type": "code",
   "execution_count": 2,
   "metadata": {
    "collapsed": true
   },
   "outputs": [],
   "source": [
    "living_room_data = dataset[dataset['location_name'].isin(['Living room'])]\n",
    "kitchen_data = dataset[dataset['location_name'].isin(['Kitchen'])]"
   ]
  },
  {
   "cell_type": "code",
   "execution_count": 6,
   "metadata": {
    "collapsed": true
   },
   "outputs": [],
   "source": [
    "%matplotlib inline\n",
    "plt.style.use('bmh')\n",
    "colors = ['#348ABD', '#A60628', '#7A68A6', '#467821', '#D55E00', \n",
    "          '#CC79A7', '#56B4E9', '#009E73', '#F0E442', '#0072B2']"
   ]
  },
  {
   "cell_type": "code",
   "execution_count": 62,
   "metadata": {
    "collapsed": false
   },
   "outputs": [
    {
     "name": "stdout",
     "output_type": "stream",
     "text": [
      "(200,)\n"
     ]
    },
    {
     "data": {
      "image/png": "[encoded data removed]",
      "text/plain": [
       "<matplotlib.figure.Figure at 0x7f920b6c4438>"
      ]
     },
     "metadata": {},
     "output_type": "display_data"
    }
   ],
   "source": [
    "import numpy as np\n",
    "import matplotlib.pyplot as plt\n",
    "y0 = np.random.normal(1 , 0.2, size=50)\n",
    "y1 = np.random.normal(1 , 0.2, size=50)\n",
    "y2 = np.random.normal(3 , 0.3, size=50)\n",
    "y3 = np.random.normal(3 , 0.9, size=50)\n",
    "y = np.hstack([y0, y1, y2, y3])\n",
    "print (y.shape)\n",
    "\n",
    "fig = plt.figure(figsize=(5,3))\n",
    "_ = plt.title('Frequency of human presence in Living room by time of day')\n",
    "_ = plt.hist(y)\n"
   ]
  },
  {
   "cell_type": "code",
   "execution_count": 63,
   "metadata": {
    "collapsed": false
   },
   "outputs": [
    {
     "name": "stdout",
     "output_type": "stream",
     "text": [
      "Iteration 1: loglike=-5.182647e+02 (0.030 seconds)\n",
      "Iteration 2: loglike=-4.641052e+02 (0.026 seconds)\n",
      "Iteration 3: loglike=-4.617648e+02 (0.023 seconds)\n",
      "Iteration 4: loglike=-4.532791e+02 (0.021 seconds)\n",
      "Iteration 5: loglike=-4.232238e+02 (0.022 seconds)\n",
      "Iteration 6: loglike=-3.880144e+02 (0.020 seconds)\n",
      "Iteration 7: loglike=-3.716561e+02 (0.019 seconds)\n",
      "Iteration 8: loglike=-3.633484e+02 (0.021 seconds)\n",
      "Iteration 9: loglike=-3.586977e+02 (0.019 seconds)\n",
      "Iteration 10: loglike=-3.561635e+02 (0.020 seconds)\n",
      "Iteration 11: loglike=-3.547912e+02 (0.021 seconds)\n",
      "Iteration 12: loglike=-3.539149e+02 (0.019 seconds)\n",
      "Iteration 13: loglike=-3.531175e+02 (0.019 seconds)\n",
      "Iteration 14: loglike=-3.521242e+02 (0.021 seconds)\n",
      "Iteration 15: loglike=-3.506220e+02 (0.019 seconds)\n",
      "Iteration 16: loglike=-3.481929e+02 (0.019 seconds)\n",
      "Iteration 17: loglike=-3.453151e+02 (0.021 seconds)\n",
      "Iteration 18: loglike=-3.344446e+02 (0.019 seconds)\n",
      "Iteration 19: loglike=-3.317996e+02 (0.019 seconds)\n",
      "Iteration 20: loglike=-3.216767e+02 (0.021 seconds)\n",
      "Iteration 21: loglike=-3.194041e+02 (0.019 seconds)\n",
      "Iteration 22: loglike=-3.156540e+02 (0.019 seconds)\n",
      "Iteration 23: loglike=-3.117935e+02 (0.021 seconds)\n",
      "Iteration 24: loglike=-2.937271e+02 (0.019 seconds)\n",
      "Iteration 25: loglike=-2.904064e+02 (0.019 seconds)\n",
      "Iteration 26: loglike=-2.877776e+02 (0.021 seconds)\n",
      "Iteration 27: loglike=-2.793321e+02 (0.019 seconds)\n",
      "Iteration 28: loglike=-2.751687e+02 (0.019 seconds)\n",
      "Iteration 29: loglike=-2.671779e+02 (0.021 seconds)\n",
      "Iteration 30: loglike=-2.671699e+02 (0.019 seconds)\n",
      "Iteration 31: loglike=-2.671619e+02 (0.019 seconds)\n",
      "Iteration 32: loglike=-2.671535e+02 (0.021 seconds)\n",
      "Iteration 33: loglike=-2.671446e+02 (0.019 seconds)\n",
      "Iteration 34: loglike=-2.671349e+02 (0.019 seconds)\n",
      "Iteration 35: loglike=-2.671243e+02 (0.021 seconds)\n",
      "Iteration 36: loglike=-2.671126e+02 (0.020 seconds)\n",
      "Iteration 37: loglike=-2.670995e+02 (0.020 seconds)\n",
      "Iteration 38: loglike=-2.670849e+02 (0.021 seconds)\n",
      "Iteration 39: loglike=-2.670684e+02 (0.020 seconds)\n",
      "Iteration 40: loglike=-2.670499e+02 (0.021 seconds)\n",
      "Iteration 41: loglike=-2.670291e+02 (0.020 seconds)\n",
      "Iteration 42: loglike=-2.670055e+02 (0.020 seconds)\n",
      "Iteration 43: loglike=-2.669788e+02 (0.020 seconds)\n",
      "Iteration 44: loglike=-2.669485e+02 (0.021 seconds)\n",
      "Iteration 45: loglike=-2.669141e+02 (0.019 seconds)\n",
      "Iteration 46: loglike=-2.668748e+02 (0.020 seconds)\n",
      "Iteration 47: loglike=-2.668300e+02 (0.020 seconds)\n",
      "Iteration 48: loglike=-2.667787e+02 (0.020 seconds)\n",
      "Iteration 49: loglike=-2.667198e+02 (0.019 seconds)\n",
      "Iteration 50: loglike=-2.666518e+02 (0.021 seconds)\n",
      "Iteration 51: loglike=-2.665730e+02 (0.019 seconds)\n",
      "Iteration 52: loglike=-2.664811e+02 (0.019 seconds)\n",
      "Iteration 53: loglike=-2.663733e+02 (0.020 seconds)\n",
      "Iteration 54: loglike=-2.662456e+02 (0.019 seconds)\n",
      "Iteration 55: loglike=-2.660928e+02 (0.019 seconds)\n",
      "Iteration 56: loglike=-2.659075e+02 (0.021 seconds)\n",
      "Iteration 57: loglike=-2.656787e+02 (0.019 seconds)\n",
      "Iteration 58: loglike=-2.653894e+02 (0.019 seconds)\n",
      "Iteration 59: loglike=-2.650117e+02 (0.020 seconds)\n",
      "Iteration 60: loglike=-2.644952e+02 (0.019 seconds)\n",
      "Iteration 61: loglike=-2.637393e+02 (0.019 seconds)\n",
      "Iteration 62: loglike=-2.625182e+02 (0.020 seconds)\n",
      "Iteration 63: loglike=-2.608262e+02 (0.019 seconds)\n",
      "Iteration 64: loglike=-2.588096e+02 (0.019 seconds)\n",
      "Iteration 65: loglike=-2.508205e+02 (0.020 seconds)\n",
      "Iteration 66: loglike=-2.507644e+02 (0.019 seconds)\n",
      "Iteration 67: loglike=-2.507046e+02 (0.018 seconds)\n",
      "Iteration 68: loglike=-2.506412e+02 (0.020 seconds)\n",
      "Iteration 69: loglike=-2.505746e+02 (0.019 seconds)\n",
      "Iteration 70: loglike=-2.505051e+02 (0.019 seconds)\n",
      "Iteration 71: loglike=-2.504334e+02 (0.021 seconds)\n",
      "Iteration 72: loglike=-2.503598e+02 (0.021 seconds)\n",
      "Iteration 73: loglike=-2.502852e+02 (0.019 seconds)\n",
      "Iteration 74: loglike=-2.502101e+02 (0.020 seconds)\n",
      "Iteration 75: loglike=-2.501352e+02 (0.019 seconds)\n",
      "Iteration 76: loglike=-2.500612e+02 (0.019 seconds)\n",
      "Iteration 77: loglike=-2.499886e+02 (0.020 seconds)\n",
      "Iteration 78: loglike=-2.499179e+02 (0.019 seconds)\n",
      "Iteration 79: loglike=-2.498496e+02 (0.019 seconds)\n",
      "Iteration 80: loglike=-2.497840e+02 (0.020 seconds)\n",
      "Iteration 81: loglike=-2.497213e+02 (0.020 seconds)\n",
      "Iteration 82: loglike=-2.496617e+02 (0.021 seconds)\n",
      "Iteration 83: loglike=-2.496052e+02 (0.021 seconds)\n",
      "Iteration 84: loglike=-2.495519e+02 (0.020 seconds)\n",
      "Iteration 85: loglike=-2.495017e+02 (0.020 seconds)\n",
      "Iteration 86: loglike=-2.494545e+02 (0.020 seconds)\n",
      "Iteration 87: loglike=-2.494102e+02 (0.020 seconds)\n",
      "Iteration 88: loglike=-2.493687e+02 (0.020 seconds)\n",
      "Iteration 89: loglike=-2.493298e+02 (0.020 seconds)\n",
      "Iteration 90: loglike=-2.492934e+02 (0.020 seconds)\n",
      "Iteration 91: loglike=-2.492592e+02 (0.020 seconds)\n",
      "Iteration 92: loglike=-2.492272e+02 (0.020 seconds)\n",
      "Iteration 93: loglike=-2.491972e+02 (0.019 seconds)\n",
      "Iteration 94: loglike=-2.491689e+02 (0.019 seconds)\n",
      "Iteration 95: loglike=-2.491424e+02 (0.020 seconds)\n",
      "Iteration 96: loglike=-2.491174e+02 (0.019 seconds)\n",
      "Iteration 97: loglike=-2.490938e+02 (0.019 seconds)\n",
      "Iteration 98: loglike=-2.490715e+02 (0.020 seconds)\n",
      "Iteration 99: loglike=-2.490504e+02 (0.019 seconds)\n",
      "Iteration 100: loglike=-2.490303e+02 (0.019 seconds)\n",
      "Iteration 101: loglike=-2.490113e+02 (0.020 seconds)\n",
      "Iteration 102: loglike=-2.489931e+02 (0.019 seconds)\n",
      "Iteration 103: loglike=-2.489758e+02 (0.019 seconds)\n",
      "Iteration 104: loglike=-2.489592e+02 (0.020 seconds)\n",
      "Iteration 105: loglike=-2.489433e+02 (0.019 seconds)\n",
      "Iteration 106: loglike=-2.489281e+02 (0.020 seconds)\n",
      "Iteration 107: loglike=-2.489134e+02 (0.020 seconds)\n",
      "Iteration 108: loglike=-2.488992e+02 (0.019 seconds)\n",
      "Iteration 109: loglike=-2.488855e+02 (0.019 seconds)\n",
      "Iteration 110: loglike=-2.488722e+02 (0.020 seconds)\n",
      "Iteration 111: loglike=-2.488593e+02 (0.019 seconds)\n",
      "Iteration 112: loglike=-2.488468e+02 (0.019 seconds)\n",
      "Iteration 113: loglike=-2.488346e+02 (0.021 seconds)\n",
      "Iteration 114: loglike=-2.488227e+02 (0.020 seconds)\n",
      "Iteration 115: loglike=-2.488111e+02 (0.021 seconds)\n",
      "Iteration 116: loglike=-2.487997e+02 (0.021 seconds)\n",
      "Iteration 117: loglike=-2.487886e+02 (0.020 seconds)\n",
      "Iteration 118: loglike=-2.487776e+02 (0.020 seconds)\n",
      "Iteration 119: loglike=-2.487668e+02 (0.020 seconds)\n",
      "Iteration 120: loglike=-2.487562e+02 (0.020 seconds)\n",
      "Iteration 121: loglike=-2.487457e+02 (0.019 seconds)\n",
      "Iteration 122: loglike=-2.487353e+02 (0.020 seconds)\n",
      "Iteration 123: loglike=-2.487250e+02 (0.016 seconds)\n",
      "Iteration 124: loglike=-2.487147e+02 (0.010 seconds)\n",
      "Iteration 125: loglike=-2.487045e+02 (0.010 seconds)\n",
      "Iteration 126: loglike=-2.486943e+02 (0.010 seconds)\n",
      "Iteration 127: loglike=-2.486841e+02 (0.010 seconds)\n",
      "Iteration 128: loglike=-2.486738e+02 (0.012 seconds)\n",
      "Iteration 129: loglike=-2.486635e+02 (0.010 seconds)\n",
      "Iteration 130: loglike=-2.486531e+02 (0.010 seconds)\n",
      "Iteration 131: loglike=-2.486424e+02 (0.010 seconds)\n",
      "Iteration 132: loglike=-2.486316e+02 (0.010 seconds)\n",
      "Iteration 133: loglike=-2.486206e+02 (0.010 seconds)\n",
      "Iteration 134: loglike=-2.486092e+02 (0.009 seconds)\n",
      "Iteration 135: loglike=-2.485974e+02 (0.009 seconds)\n",
      "Iteration 136: loglike=-2.485851e+02 (0.009 seconds)\n",
      "Iteration 137: loglike=-2.485722e+02 (0.010 seconds)\n",
      "Iteration 138: loglike=-2.485585e+02 (0.010 seconds)\n",
      "Iteration 139: loglike=-2.485440e+02 (0.010 seconds)\n",
      "Iteration 140: loglike=-2.485284e+02 (0.009 seconds)\n",
      "Iteration 141: loglike=-2.485114e+02 (0.009 seconds)\n",
      "Iteration 142: loglike=-2.484927e+02 (0.009 seconds)\n",
      "Iteration 143: loglike=-2.484719e+02 (0.010 seconds)\n",
      "Iteration 144: loglike=-2.484483e+02 (0.010 seconds)\n",
      "Iteration 145: loglike=-2.484211e+02 (0.010 seconds)\n",
      "Iteration 146: loglike=-2.483893e+02 (0.009 seconds)\n",
      "Iteration 147: loglike=-2.483511e+02 (0.009 seconds)\n",
      "Iteration 148: loglike=-2.483041e+02 (0.009 seconds)\n",
      "Iteration 149: loglike=-2.482443e+02 (0.010 seconds)\n",
      "Iteration 150: loglike=-2.481656e+02 (0.010 seconds)\n",
      "Iteration 151: loglike=-2.480571e+02 (0.010 seconds)\n",
      "Iteration 152: loglike=-2.478992e+02 (0.010 seconds)\n",
      "Iteration 153: loglike=-2.476531e+02 (0.010 seconds)\n",
      "Iteration 154: loglike=-2.472348e+02 (0.009 seconds)\n",
      "Iteration 155: loglike=-2.464445e+02 (0.010 seconds)\n",
      "Iteration 156: loglike=-2.449715e+02 (0.010 seconds)\n",
      "Iteration 157: loglike=-2.435059e+02 (0.010 seconds)\n",
      "Iteration 158: loglike=-2.347862e+02 (0.010 seconds)\n",
      "Iteration 159: loglike=-2.346865e+02 (0.010 seconds)\n",
      "Iteration 160: loglike=-2.346865e+02 (0.010 seconds)\n",
      "Converged at iteration 160.\n"
     ]
    }
   ],
   "source": [
    "N = 200\n",
    "D = 1\n",
    "K = 10\n",
    "\n",
    "from bayespy.nodes import Dirichlet, Categorical\n",
    "alpha = Dirichlet(0.1*np.ones(K),\n",
    "                   name='alpha')\n",
    "Z = Categorical(alpha,\n",
    "                 plates=(N,),\n",
    "                 name='z')\n",
    "\n",
    "from bayespy.nodes import Gaussian, Wishart\n",
    "mu = Gaussian(np.zeros(D), 1e-5*np.identity(D),\n",
    "               plates=(K,),\n",
    "               name='mu')\n",
    "Lambda = Wishart(D, 1e-5*np.identity(D),\n",
    "                  plates=(K,),\n",
    "                  name='Lambda')\n",
    "\n",
    "from bayespy.nodes import Mixture\n",
    "Y = Mixture(Z, Gaussian, mu, Lambda,\n",
    "             name='Y')\n",
    "\n",
    "Z.initialize_from_random()\n",
    "from bayespy.inference import VB\n",
    "Q = VB(Y, mu, Lambda, Z, alpha)\n",
    "y = y.reshape((N,1))\n",
    "Y.observe(y)\n",
    "\n",
    "Q.update(repeat=1000)"
   ]
  },
  {
   "cell_type": "code",
   "execution_count": 64,
   "metadata": {
    "collapsed": false
   },
   "outputs": [
    {
     "data": {
      "image/png": "[encoded data removed]",
      "text/plain": [
       "<matplotlib.figure.Figure at 0x7f920b6be780>"
      ]
     },
     "metadata": {},
     "output_type": "display_data"
    }
   ],
   "source": [
    "import bayespy.plot as bplot\n",
    "\n",
    "bplot.hinton(alpha)"
   ]
  },
  {
   "cell_type": "code",
   "execution_count": 105,
   "metadata": {
    "collapsed": false
   },
   "outputs": [
    {
     "name": "stdout",
     "output_type": "stream",
     "text": [
      "Iteration 1: loglike=-5.723340e+01 (0.009 seconds)\n",
      "Iteration 2: loglike=-4.979318e+01 (0.008 seconds)\n",
      "Iteration 3: loglike=-4.979118e+01 (0.009 seconds)\n",
      "Iteration 4: loglike=-4.979117e+01 (0.007 seconds)\n",
      "Converged at iteration 4.\n"
     ]
    }
   ],
   "source": [
    "N = 10\n",
    "D = 1\n",
    "data = np.random.normal(5, 10, size=(N,))\n",
    "\n",
    "from bayespy.nodes import Gaussian, Wishart\n",
    "mu = Gaussian(np.zeros(D), 1e-5*np.identity(D),\n",
    "               name='mu')\n",
    "Lambda = Wishart(D, 1e-5*np.identity(D),\n",
    "                  name='Lambda')\n",
    "\n",
    "Y = Gaussian(mu, Lambda, plates=(N,), name='Y')\n",
    "from bayespy.inference import VB\n",
    "Q = VB(Y, mu, Lambda)\n",
    "data = data.reshape((N,1))\n",
    "Y.observe(data)\n",
    "\n",
    "Q.update(repeat=1000)"
   ]
  },
  {
   "cell_type": "code",
   "execution_count": 127,
   "metadata": {
    "collapsed": false
   },
   "outputs": [
    {
     "name": "stdout",
     "output_type": "stream",
     "text": [
      "[array([[ 0.01203485]]), array(-4.513603208091812)]\n"
     ]
    },
    {
     "data": {
      "image/png": "[encoded data removed]",
      "text/plain": [
       "<matplotlib.figure.Figure at 0x7f92119bd080>"
      ]
     },
     "metadata": {},
     "output_type": "display_data"
    }
   ],
   "source": [
    "print (Lambda.get_moments())\n",
    "posterior_data = np.random.normal(mu.get_moments()[0], Lambda.get_moments()[0], size=(100))\n",
    "fig = plt.figure(figsize=(5,3))\n",
    "_ = plt.title('Frequency of human presence in Living room by time of day')\n",
    "_ = plt.hist(posterior_data, range)\n"
   ]
  },
  {
   "cell_type": "code",
   "execution_count": 101,
   "metadata": {
    "collapsed": false
   },
   "outputs": [
    {
     "name": "stdout",
     "output_type": "stream",
     "text": [
      "Iteration 1: loglike=-5.871958e+01 (0.008 seconds)\n",
      "Iteration 2: loglike=-5.686317e+01 (0.007 seconds)\n",
      "Iteration 3: loglike=-5.686081e+01 (0.007 seconds)\n",
      "Iteration 4: loglike=-5.686079e+01 (0.007 seconds)\n",
      "Converged at iteration 4.\n"
     ]
    }
   ],
   "source": [
    "data = np.random.normal(5, 10, size=(10,))\n",
    "\n",
    "from bayespy.nodes import GaussianARD, Gamma\n",
    "mu = GaussianARD(0, 1e-6)\n",
    "tau = Gamma(1e-6, 1e-6)\n",
    "y = GaussianARD(mu, tau, plates=(10,))\n",
    "y.observe(data)\n",
    "\n",
    "from bayespy.inference import VB\n",
    "Q = VB(y, mu, tau)\n",
    "Q.update(repeat=20)"
   ]
  },
  {
   "cell_type": "code",
   "execution_count": 102,
   "metadata": {
    "collapsed": false
   },
   "outputs": [
    {
     "data": {
      "text/plain": [
       "[array(8.295353564187677), array(80.49559604730806)]"
      ]
     },
     "execution_count": 102,
     "metadata": {},
     "output_type": "execute_result"
    }
   ],
   "source": [
    "mu.get_moments()"
   ]
  },
  {
   "cell_type": "code",
   "execution_count": 103,
   "metadata": {
    "collapsed": false
   },
   "outputs": [
    {
     "data": {
      "image/png": "[encoded data removed]",
      "text/plain": [
       "<matplotlib.figure.Figure at 0x7f9211b8b5c0>"
      ]
     },
     "metadata": {},
     "output_type": "display_data"
    }
   ],
   "source": [
    "import bayespy.plot as bpplt\n",
    "bpplt.pyplot.subplot(2, 1, 1)\n",
    "bpplt.pdf(mu, np.linspace(-5, 5, num=N), color='k', name=r'\\mu')\n",
    "bpplt.pyplot.subplot(2, 1, 2)\n",
    "bpplt.pdf(tau, np.linspace(1e-6, 0.08, num=N), color='k', name=r'\\tau')\n",
    "bpplt.pyplot.tight_layout()\n",
    "bpplt.pyplot.show()"
   ]
  }
 ],
 "metadata": {
  "kernelspec": {
   "display_name": "Python 3",
   "language": "python",
   "name": "python3"
  },
  "language_info": {
   "codemirror_mode": {
    "name": "ipython",
    "version": 3
   },
   "file_extension": ".py",
   "mimetype": "text/x-python",
   "name": "python",
   "nbconvert_exporter": "python",
   "pygments_lexer": "ipython3",
   "version": "3.5.1"
  }
 },
 "nbformat": 4,
 "nbformat_minor": 0
}
