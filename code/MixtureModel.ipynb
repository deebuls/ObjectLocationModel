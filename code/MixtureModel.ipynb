{
 "cells": [
  {
   "cell_type": "markdown",
   "metadata": {},
   "source": [
    "# Mixture Model\n",
    "\n",
    "We continue with the same example of ball and the urn.\n",
    "So there are some urns and each urn has a distribution of colourful balls. Each time the user selects a urn and checks the color in it. \n",
    "In hierarchical modelling we knew from which urn the ball was taken and the only task was to learn the distribution of the color in each urn.\n",
    "\n",
    "Suppose we dont know from which urn the ball was taken. We only know the color of the balls.\n",
    "In such scenario we all need to determine how many urns were present and then the distribution in each urn.\n",
    "\n",
    "Mixture models can be used in such scenarios. Here we will model this using mixture model and categorical distribution\n"
   ]
  },
  {
   "cell_type": "markdown",
   "metadata": {},
   "source": [
    "# Constants"
   ]
  },
  {
   "cell_type": "code",
   "execution_count": 2,
   "metadata": {
    "collapsed": true
   },
   "outputs": [],
   "source": [
    "# Som constants\n",
    "N = 1000 # number of trials\n",
    "n_colors = 5 # Dimension of data\n",
    "n_clusters = 10 # the number of clusters \n",
    "n_bags = 3"
   ]
  },
  {
   "cell_type": "markdown",
   "metadata": {},
   "source": [
    "# Data Generation"
   ]
  },
  {
   "cell_type": "code",
   "execution_count": 83,
   "metadata": {
    "collapsed": false
   },
   "outputs": [],
   "source": [
    "from bayespy.utils import random\n",
    "from bayespy import nodes\n",
    "import numpy as np\n",
    "\n",
    "p = nodes.Dirichlet(0.1 * np.ones(n_colors),\n",
    "                   plates=(n_bags,)).random()\n",
    "z = random.categorical([1/n_bags, 1/n_bags, 1/n_bags], size=N)\n",
    "x = random.categorical(p[z])\n",
    "x = x.reshape(N,1)"
   ]
  },
  {
   "cell_type": "code",
   "execution_count": 84,
   "metadata": {
    "collapsed": false
   },
   "outputs": [
    {
     "data": {
      "text/plain": [
       "<matplotlib.text.Text at 0x7ff574ba3a90>"
      ]
     },
     "execution_count": 84,
     "metadata": {},
     "output_type": "execute_result"
    },
    {
     "data": {
      "image/png": "[encoded data removed]",
      "text/plain": [
       "<matplotlib.figure.Figure at 0x7ff574b62630>"
      ]
     },
     "metadata": {},
     "output_type": "display_data"
    }
   ],
   "source": [
    "%matplotlib inline\n",
    "import bayespy.plot as bpplt\n",
    "bpplt.hinton(p)\n",
    "bpplt.pyplot.title(\"Original distribution of color in each bags\")\n"
   ]
  },
  {
   "cell_type": "markdown",
   "metadata": {},
   "source": [
    "# Model\n",
    "\n",
    "$\\beta = <1 1 1 1 1 1 1 1 1 1> $ \n",
    "\n",
    "$ R \\mid \\beta \\sim Dirichlet $ \n",
    "\n",
    "$ Z \\mid R  \\sim Categorical $ \n",
    "\n",
    "\n",
    "$ \\gamma = <1 1 1 1 1> $ \n",
    "\n",
    "$ P \\mid \\gamma \\sim Dirichlet $ \n",
    "\n",
    "$ X \\mid P,Z \\sim Mixture $\n",
    "\n",
    "\n",
    "![Mixture Model](images/mixturemodel.png)\n"
   ]
  },
  {
   "cell_type": "code",
   "execution_count": 85,
   "metadata": {
    "collapsed": false
   },
   "outputs": [],
   "source": [
    "from bayespy import nodes\n",
    "\n",
    "beta = n_clusters*[0.01]\n",
    "R = nodes.Dirichlet(beta,\n",
    "                   name='R')\n",
    "Z = nodes.Categorical(R,\n",
    "                     plates=(N,1))"
   ]
  },
  {
   "cell_type": "code",
   "execution_count": 86,
   "metadata": {
    "collapsed": false
   },
   "outputs": [
    {
     "data": {
      "text/plain": [
       "(10,)"
      ]
     },
     "execution_count": 86,
     "metadata": {},
     "output_type": "execute_result"
    }
   ],
   "source": [
    "gamma = n_colors *[0.01]\n",
    "P = nodes.Dirichlet(gamma,\n",
    "              plates=(n_clusters,))\n",
    "P.plates"
   ]
  },
  {
   "cell_type": "code",
   "execution_count": 87,
   "metadata": {
    "collapsed": false
   },
   "outputs": [
    {
     "data": {
      "text/plain": [
       "(1000, 1)"
      ]
     },
     "execution_count": 87,
     "metadata": {},
     "output_type": "execute_result"
    }
   ],
   "source": [
    "from bayespy.nodes import Mixture, Bernoulli, Categorical\n",
    "X = Mixture(Z, Categorical, P)\n",
    "\n",
    "X.plates"
   ]
  },
  {
   "cell_type": "code",
   "execution_count": 88,
   "metadata": {
    "collapsed": true
   },
   "outputs": [],
   "source": [
    "from bayespy.inference import VB\n",
    "Q = VB(Z, R, X, P)"
   ]
  },
  {
   "cell_type": "code",
   "execution_count": 100,
   "metadata": {
    "collapsed": false
   },
   "outputs": [
    {
     "name": "stdout",
     "output_type": "stream",
     "text": [
      "[ 0.14175759  0.25859118  0.07622825  0.05064966  0.02877419  0.03350897\n",
      "  0.13240184  0.13571358  0.11063389  0.03174085]\n"
     ]
    }
   ],
   "source": [
    "from bayespy.utils import random\n",
    "temp = random.dirichlet(np.ones(P.plates))\n",
    "print(temp)\n",
    "P.initialize_from_random()\n",
    "#P.initialize_from_value(random.dirichlet(np.ones(P.plates)))"
   ]
  },
  {
   "cell_type": "code",
   "execution_count": 101,
   "metadata": {
    "collapsed": false
   },
   "outputs": [],
   "source": [
    "X.observe(x)"
   ]
  },
  {
   "cell_type": "code",
   "execution_count": 102,
   "metadata": {
    "collapsed": false
   },
   "outputs": [
    {
     "name": "stdout",
     "output_type": "stream",
     "text": [
      "Iteration 54: loglike=-1.189773e+03 (0.008 seconds)\n",
      "Iteration 55: loglike=-1.187572e+03 (0.007 seconds)\n",
      "Iteration 56: loglike=-1.185582e+03 (0.007 seconds)\n",
      "Iteration 57: loglike=-1.185578e+03 (0.007 seconds)\n",
      "Converged at iteration 57.\n"
     ]
    }
   ],
   "source": [
    "Q.update(repeat=1000)"
   ]
  },
  {
   "cell_type": "code",
   "execution_count": 103,
   "metadata": {
    "collapsed": false
   },
   "outputs": [
    {
     "data": {
      "image/png": "[encoded data removed]",
      "text/plain": [
       "<matplotlib.figure.Figure at 0x7ff574b9b8d0>"
      ]
     },
     "metadata": {},
     "output_type": "display_data"
    }
   ],
   "source": [
    "%matplotlib inline\n",
    "import bayespy.plot as bpplt\n",
    "bpplt.hinton(R)\n"
   ]
  },
  {
   "cell_type": "code",
   "execution_count": 104,
   "metadata": {
    "collapsed": false
   },
   "outputs": [
    {
     "data": {
      "image/png": "[encoded data removed]",
      "text/plain": [
       "<matplotlib.figure.Figure at 0x7ff5748ae048>"
      ]
     },
     "metadata": {},
     "output_type": "display_data"
    }
   ],
   "source": [
    "bpplt.hinton(P)\n"
   ]
  },
  {
   "cell_type": "code",
   "execution_count": null,
   "metadata": {
    "collapsed": true
   },
   "outputs": [],
   "source": []
  }
 ],
 "metadata": {
  "kernelspec": {
   "display_name": "Python 3",
   "language": "python",
   "name": "python3"
  },
  "language_info": {
   "codemirror_mode": {
    "name": "ipython",
    "version": 3
   },
   "file_extension": ".py",
   "mimetype": "text/x-python",
   "name": "python",
   "nbconvert_exporter": "python",
   "pygments_lexer": "ipython3",
   "version": "3.5.1"
  }
 },
 "nbformat": 4,
 "nbformat_minor": 0
}
