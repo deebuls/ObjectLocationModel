{
 "cells": [
  {
   "cell_type": "markdown",
   "metadata": {},
   "source": [
    "# Mixture Model\n",
    "\n",
    "We continue with the same example of ball and the urn.\n",
    "So there are some urns and each urn has a distribution of colourful balls. Each time the user selects a urn and checks the color in it. \n",
    "In hierarchical modelling we knew from which urn the ball was taken and the only task was to learn the distribution of the color in each urn.\n",
    "\n",
    "Suppose we dont know from which urn the ball was taken. We only know the color of the balls.\n",
    "In such scenario we all need to determine how many urns were present and then the distribution in each urn.\n",
    "\n",
    "Mixture models can be used in such scenarios. Here we will model this using mixture model and categorical distribution\n"
   ]
  },
  {
   "cell_type": "markdown",
   "metadata": {},
   "source": [
    "# Constants"
   ]
  },
  {
   "cell_type": "code",
   "execution_count": 32,
   "metadata": {
    "collapsed": true
   },
   "outputs": [],
   "source": [
    "# Som constants\n",
    "N = 1000 # number of trials\n",
    "n_colors = 5 # Dimension of data\n",
    "n_clusters = 10 # the number of clusters \n",
    "n_bags = 3"
   ]
  },
  {
   "cell_type": "markdown",
   "metadata": {},
   "source": [
    "# Data Generation"
   ]
  },
  {
   "cell_type": "code",
   "execution_count": 33,
   "metadata": {
    "collapsed": false
   },
   "outputs": [],
   "source": [
    "from bayespy.utils import random\n",
    "from bayespy import nodes\n",
    "import numpy as np\n",
    "\n",
    "p = nodes.Dirichlet(np.ones(n_colors),\n",
    "                   plates=(n_bags,)).random()\n",
    "z = random.categorical([1/n_bags, 1/n_bags, 1/n_bags], size=N)\n",
    "x = random.categorical(p[z])\n",
    "x = x.reshape(N,1)"
   ]
  },
  {
   "cell_type": "code",
   "execution_count": 34,
   "metadata": {
    "collapsed": false
   },
   "outputs": [
    {
     "data": {
      "text/plain": [
       "<matplotlib.text.Text at 0x7f8d2fdd3978>"
      ]
     },
     "execution_count": 34,
     "metadata": {},
     "output_type": "execute_result"
    },
    {
     "data": {
      "image/png": "[encoded data removed]",
      "text/plain": [
       "<matplotlib.figure.Figure at 0x7f8d5c6aada0>"
      ]
     },
     "metadata": {},
     "output_type": "display_data"
    }
   ],
   "source": [
    "%matplotlib inline\n",
    "import bayespy.plot as bpplt\n",
    "bpplt.hinton(p)\n",
    "bpplt.pyplot.title(\"Original distribution of color in each bags\")\n"
   ]
  },
  {
   "cell_type": "markdown",
   "metadata": {},
   "source": [
    "# Model\n",
    "\n",
    "$\\beta = <1 1 1 1 1 1 1 1 1 1> $ \n",
    "\n",
    "$ R \\mid \\beta \\sim Dirichlet $ \n",
    "\n",
    "$ Z \\mid R  \\sim Categorical $ \n",
    "\n",
    "\n",
    "$ \\gamma = <1 1 1 1 1> $ \n",
    "\n",
    "$ P \\mid \\gamma \\sim Dirichlet $ \n",
    "\n",
    "$ X \\mid P,Z \\sim Mixture $\n",
    "\n",
    "\n",
    "![Mixture Model](images/mixturemodel.png)\n"
   ]
  },
  {
   "cell_type": "code",
   "execution_count": 35,
   "metadata": {
    "collapsed": false
   },
   "outputs": [],
   "source": [
    "from bayespy import nodes\n",
    "\n",
    "beta = n_clusters*[1e-5]\n",
    "R = nodes.Dirichlet(beta,\n",
    "                   name='R')\n",
    "Z = nodes.Categorical(R,\n",
    "                     plates=(N,1))"
   ]
  },
  {
   "cell_type": "code",
   "execution_count": 36,
   "metadata": {
    "collapsed": false
   },
   "outputs": [
    {
     "data": {
      "text/plain": [
       "(10,)"
      ]
     },
     "execution_count": 36,
     "metadata": {},
     "output_type": "execute_result"
    }
   ],
   "source": [
    "gamma = n_colors *[0.1]\n",
    "P = nodes.Dirichlet(gamma,\n",
    "              plates=(n_clusters,))\n",
    "P.plates"
   ]
  },
  {
   "cell_type": "code",
   "execution_count": 37,
   "metadata": {
    "collapsed": false
   },
   "outputs": [
    {
     "data": {
      "text/plain": [
       "(1000, 1)"
      ]
     },
     "execution_count": 37,
     "metadata": {},
     "output_type": "execute_result"
    }
   ],
   "source": [
    "from bayespy.nodes import Mixture, Bernoulli, Categorical\n",
    "X = Mixture(Z, Categorical, P)\n",
    "\n",
    "X.plates"
   ]
  },
  {
   "cell_type": "code",
   "execution_count": 38,
   "metadata": {
    "collapsed": true
   },
   "outputs": [],
   "source": [
    "from bayespy.inference import VB\n",
    "Q = VB(Z, R, X, P)"
   ]
  },
  {
   "cell_type": "code",
   "execution_count": 47,
   "metadata": {
    "collapsed": false
   },
   "outputs": [
    {
     "name": "stdout",
     "output_type": "stream",
     "text": [
      "[ 0.06623917  0.37055722  0.2292964   0.01293591  0.10252211  0.05493757\n",
      "  0.00551687  0.08282227  0.03193171  0.04324078]\n"
     ]
    },
    {
     "ename": "TypeError",
     "evalue": "not enough arguments for format string",
     "output_type": "error",
     "traceback": [
      "\u001b[1;31m---------------------------------------------------------------------------\u001b[0m",
      "\u001b[1;31mTypeError\u001b[0m                                 Traceback (most recent call last)",
      "\u001b[1;32m<ipython-input-47-b2c95a5f0caa>\u001b[0m in \u001b[0;36m<module>\u001b[1;34m()\u001b[0m\n\u001b[0;32m      3\u001b[0m \u001b[0mprint\u001b[0m\u001b[1;33m(\u001b[0m\u001b[0mtemp\u001b[0m\u001b[1;33m)\u001b[0m\u001b[1;33m\u001b[0m\u001b[0m\n\u001b[0;32m      4\u001b[0m \u001b[1;31m#P.initialize_from_random()\u001b[0m\u001b[1;33m\u001b[0m\u001b[1;33m\u001b[0m\u001b[0m\n\u001b[1;32m----> 5\u001b[1;33m \u001b[0mP\u001b[0m\u001b[1;33m.\u001b[0m\u001b[0minitialize_from_value\u001b[0m\u001b[1;33m(\u001b[0m\u001b[0mrandom\u001b[0m\u001b[1;33m.\u001b[0m\u001b[0mdirichlet\u001b[0m\u001b[1;33m(\u001b[0m\u001b[0mnp\u001b[0m\u001b[1;33m.\u001b[0m\u001b[0mones\u001b[0m\u001b[1;33m(\u001b[0m\u001b[0mP\u001b[0m\u001b[1;33m.\u001b[0m\u001b[0mplates\u001b[0m\u001b[1;33m)\u001b[0m\u001b[1;33m)\u001b[0m\u001b[1;33m)\u001b[0m\u001b[1;33m\u001b[0m\u001b[0m\n\u001b[0m",
      "\u001b[1;32m/home/deebuls/anaconda3/lib/python3.5/site-packages/bayespy/inference/vmp/nodes/expfamily.py\u001b[0m in \u001b[0;36minitialize_from_value\u001b[1;34m(self, x, *args)\u001b[0m\n\u001b[0;32m    196\u001b[0m                 \u001b[1;32mif\u001b[0m \u001b[0mnp\u001b[0m\u001b[1;33m.\u001b[0m\u001b[0mshape\u001b[0m\u001b[1;33m(\u001b[0m\u001b[0mu\u001b[0m\u001b[1;33m[\u001b[0m\u001b[0mi\u001b[0m\u001b[1;33m]\u001b[0m\u001b[1;33m)\u001b[0m\u001b[1;33m[\u001b[0m\u001b[1;33m-\u001b[0m\u001b[0mndim\u001b[0m\u001b[1;33m:\u001b[0m\u001b[1;33m]\u001b[0m \u001b[1;33m!=\u001b[0m \u001b[0mself\u001b[0m\u001b[1;33m.\u001b[0m\u001b[0mdims\u001b[0m\u001b[1;33m[\u001b[0m\u001b[0mi\u001b[0m\u001b[1;33m]\u001b[0m\u001b[1;33m:\u001b[0m\u001b[1;33m\u001b[0m\u001b[0m\n\u001b[0;32m    197\u001b[0m                     raise ValueError(\"The initial value for node %s has invalid shape %s.\"\n\u001b[1;32m--> 198\u001b[1;33m                                      % (np.shape(x)))\n\u001b[0m\u001b[0;32m    199\u001b[0m         \u001b[0mself\u001b[0m\u001b[1;33m.\u001b[0m\u001b[0m_set_moments_and_cgf\u001b[0m\u001b[1;33m(\u001b[0m\u001b[0mu\u001b[0m\u001b[1;33m,\u001b[0m \u001b[0mnp\u001b[0m\u001b[1;33m.\u001b[0m\u001b[0minf\u001b[0m\u001b[1;33m,\u001b[0m \u001b[0mmask\u001b[0m\u001b[1;33m=\u001b[0m\u001b[0mmask\u001b[0m\u001b[1;33m)\u001b[0m\u001b[1;33m\u001b[0m\u001b[0m\n\u001b[0;32m    200\u001b[0m \u001b[1;33m\u001b[0m\u001b[0m\n",
      "\u001b[1;31mTypeError\u001b[0m: not enough arguments for format string"
     ]
    }
   ],
   "source": [
    "from bayespy.utils import random\n",
    "temp = random.dirichlet(np.ones(P.plates))\n",
    "print(temp)\n",
    "#P.initialize_from_random()\n",
    "P.initialize_from_value(random.dirichlet(np.ones(P.plates)))"
   ]
  },
  {
   "cell_type": "code",
   "execution_count": 40,
   "metadata": {
    "collapsed": false
   },
   "outputs": [],
   "source": [
    "X.observe(x)"
   ]
  },
  {
   "cell_type": "code",
   "execution_count": 41,
   "metadata": {
    "collapsed": false
   },
   "outputs": [
    {
     "name": "stdout",
     "output_type": "stream",
     "text": [
      "Iteration 1: loglike=-1.728752e+03 (0.000 seconds)\n",
      "Iteration 2: loglike=-1.727102e+03 (0.010 seconds)\n",
      "Iteration 3: loglike=-1.725958e+03 (0.000 seconds)\n",
      "Iteration 4: loglike=-1.724460e+03 (0.010 seconds)\n",
      "Iteration 5: loglike=-1.723439e+03 (0.000 seconds)\n",
      "Iteration 6: loglike=-1.722779e+03 (0.000 seconds)\n",
      "Iteration 7: loglike=-1.722325e+03 (0.010 seconds)\n",
      "Iteration 8: loglike=-1.721698e+03 (0.000 seconds)\n",
      "Iteration 9: loglike=-1.720854e+03 (0.000 seconds)\n",
      "Iteration 10: loglike=-1.720223e+03 (0.010 seconds)\n",
      "Iteration 11: loglike=-1.719562e+03 (0.000 seconds)\n",
      "Iteration 12: loglike=-1.719214e+03 (0.010 seconds)\n",
      "Iteration 13: loglike=-1.719000e+03 (0.000 seconds)\n",
      "Iteration 14: loglike=-1.718750e+03 (0.000 seconds)\n",
      "Iteration 15: loglike=-1.718447e+03 (0.000 seconds)\n",
      "Iteration 16: loglike=-1.718058e+03 (0.000 seconds)\n",
      "Iteration 17: loglike=-1.717520e+03 (0.000 seconds)\n",
      "Iteration 18: loglike=-1.716695e+03 (0.010 seconds)\n",
      "Iteration 19: loglike=-1.715633e+03 (0.000 seconds)\n",
      "Iteration 20: loglike=-1.715280e+03 (0.000 seconds)\n",
      "Iteration 21: loglike=-1.715162e+03 (0.010 seconds)\n",
      "Iteration 22: loglike=-1.715030e+03 (0.000 seconds)\n",
      "Iteration 23: loglike=-1.714880e+03 (0.000 seconds)\n",
      "Iteration 24: loglike=-1.714704e+03 (0.010 seconds)\n",
      "Iteration 25: loglike=-1.714494e+03 (0.000 seconds)\n",
      "Iteration 26: loglike=-1.714231e+03 (0.000 seconds)\n",
      "Iteration 27: loglike=-1.713882e+03 (0.010 seconds)\n",
      "Iteration 28: loglike=-1.713374e+03 (0.000 seconds)\n",
      "Iteration 29: loglike=-1.712575e+03 (0.000 seconds)\n",
      "Iteration 30: loglike=-1.711672e+03 (0.010 seconds)\n",
      "Iteration 31: loglike=-1.711398e+03 (0.000 seconds)\n",
      "Iteration 32: loglike=-1.711361e+03 (0.010 seconds)\n",
      "Iteration 33: loglike=-1.711324e+03 (0.000 seconds)\n",
      "Iteration 34: loglike=-1.711286e+03 (0.000 seconds)\n",
      "Iteration 35: loglike=-1.711245e+03 (0.010 seconds)\n",
      "Iteration 36: loglike=-1.711201e+03 (0.000 seconds)\n",
      "Iteration 37: loglike=-1.711155e+03 (0.000 seconds)\n",
      "Iteration 38: loglike=-1.711106e+03 (0.010 seconds)\n",
      "Iteration 39: loglike=-1.711054e+03 (0.000 seconds)\n",
      "Iteration 40: loglike=-1.710997e+03 (0.000 seconds)\n",
      "Iteration 41: loglike=-1.710935e+03 (0.010 seconds)\n",
      "Iteration 42: loglike=-1.710868e+03 (0.000 seconds)\n",
      "Iteration 43: loglike=-1.710793e+03 (0.000 seconds)\n",
      "Iteration 44: loglike=-1.710710e+03 (0.010 seconds)\n",
      "Iteration 45: loglike=-1.710615e+03 (0.000 seconds)\n",
      "Iteration 46: loglike=-1.710504e+03 (0.000 seconds)\n",
      "Iteration 47: loglike=-1.710370e+03 (0.010 seconds)\n",
      "Iteration 48: loglike=-1.710200e+03 (0.000 seconds)\n",
      "Iteration 49: loglike=-1.709968e+03 (0.000 seconds)\n",
      "Iteration 50: loglike=-1.709617e+03 (0.010 seconds)\n",
      "Iteration 51: loglike=-1.709095e+03 (0.000 seconds)\n",
      "Iteration 52: loglike=-1.708832e+03 (0.000 seconds)\n",
      "Iteration 53: loglike=-1.708795e+03 (0.010 seconds)\n",
      "Iteration 54: loglike=-1.708759e+03 (0.000 seconds)\n",
      "Iteration 55: loglike=-1.708720e+03 (0.000 seconds)\n",
      "Iteration 56: loglike=-1.708678e+03 (0.010 seconds)\n",
      "Iteration 57: loglike=-1.708635e+03 (0.000 seconds)\n",
      "Iteration 58: loglike=-1.708588e+03 (0.000 seconds)\n",
      "Iteration 59: loglike=-1.708537e+03 (0.010 seconds)\n",
      "Iteration 60: loglike=-1.708483e+03 (0.000 seconds)\n",
      "Iteration 61: loglike=-1.708424e+03 (0.000 seconds)\n",
      "Iteration 62: loglike=-1.708360e+03 (0.010 seconds)\n",
      "Iteration 63: loglike=-1.708289e+03 (0.000 seconds)\n",
      "Iteration 64: loglike=-1.708209e+03 (0.010 seconds)\n",
      "Iteration 65: loglike=-1.708119e+03 (0.000 seconds)\n",
      "Iteration 66: loglike=-1.708015e+03 (0.000 seconds)\n",
      "Iteration 67: loglike=-1.707891e+03 (0.010 seconds)\n",
      "Iteration 68: loglike=-1.707736e+03 (0.000 seconds)\n",
      "Iteration 69: loglike=-1.707532e+03 (0.000 seconds)\n",
      "Iteration 70: loglike=-1.707234e+03 (0.010 seconds)\n",
      "Iteration 71: loglike=-1.706767e+03 (0.000 seconds)\n",
      "Iteration 72: loglike=-1.706320e+03 (0.000 seconds)\n",
      "Iteration 73: loglike=-1.706244e+03 (0.010 seconds)\n",
      "Iteration 74: loglike=-1.706194e+03 (0.000 seconds)\n",
      "Iteration 75: loglike=-1.706141e+03 (0.000 seconds)\n",
      "Iteration 76: loglike=-1.706086e+03 (0.010 seconds)\n",
      "Iteration 77: loglike=-1.706029e+03 (0.000 seconds)\n",
      "Iteration 78: loglike=-1.705968e+03 (0.010 seconds)\n",
      "Iteration 79: loglike=-1.705905e+03 (0.000 seconds)\n",
      "Iteration 80: loglike=-1.705838e+03 (0.000 seconds)\n",
      "Iteration 81: loglike=-1.705768e+03 (0.010 seconds)\n",
      "Iteration 82: loglike=-1.705693e+03 (0.000 seconds)\n",
      "Iteration 83: loglike=-1.705614e+03 (0.000 seconds)\n",
      "Iteration 84: loglike=-1.705530e+03 (0.010 seconds)\n",
      "Iteration 85: loglike=-1.705441e+03 (0.000 seconds)\n",
      "Iteration 86: loglike=-1.705345e+03 (0.000 seconds)\n",
      "Iteration 87: loglike=-1.705243e+03 (0.010 seconds)\n",
      "Iteration 88: loglike=-1.705132e+03 (0.000 seconds)\n",
      "Iteration 89: loglike=-1.705012e+03 (0.000 seconds)\n",
      "Iteration 90: loglike=-1.704881e+03 (0.010 seconds)\n",
      "Iteration 91: loglike=-1.704737e+03 (0.000 seconds)\n",
      "Iteration 92: loglike=-1.704576e+03 (0.010 seconds)\n",
      "Iteration 93: loglike=-1.704393e+03 (0.000 seconds)\n",
      "Iteration 94: loglike=-1.704180e+03 (0.000 seconds)\n",
      "Iteration 95: loglike=-1.703923e+03 (0.010 seconds)\n",
      "Iteration 96: loglike=-1.703595e+03 (0.000 seconds)\n",
      "Iteration 97: loglike=-1.703136e+03 (0.000 seconds)\n",
      "Iteration 98: loglike=-1.702498e+03 (0.010 seconds)\n",
      "Iteration 99: loglike=-1.702131e+03 (0.000 seconds)\n",
      "Iteration 100: loglike=-1.701962e+03 (0.000 seconds)\n",
      "Iteration 101: loglike=-1.701769e+03 (0.010 seconds)\n",
      "Iteration 102: loglike=-1.701541e+03 (0.000 seconds)\n",
      "Iteration 103: loglike=-1.701256e+03 (0.000 seconds)\n",
      "Iteration 104: loglike=-1.700874e+03 (0.010 seconds)\n",
      "Iteration 105: loglike=-1.700316e+03 (0.000 seconds)\n",
      "Iteration 106: loglike=-1.699717e+03 (0.000 seconds)\n",
      "Iteration 107: loglike=-1.699487e+03 (0.010 seconds)\n",
      "Iteration 108: loglike=-1.699268e+03 (0.000 seconds)\n",
      "Iteration 109: loglike=-1.699005e+03 (0.000 seconds)\n",
      "Iteration 110: loglike=-1.698671e+03 (0.010 seconds)\n",
      "Iteration 111: loglike=-1.698214e+03 (0.000 seconds)\n",
      "Iteration 112: loglike=-1.697485e+03 (0.010 seconds)\n",
      "Iteration 113: loglike=-1.695882e+03 (0.000 seconds)\n",
      "Iteration 114: loglike=-1.689486e+03 (0.000 seconds)\n",
      "Iteration 115: loglike=-1.685420e+03 (0.000 seconds)\n",
      "Iteration 116: loglike=-1.685338e+03 (0.010 seconds)\n",
      "Iteration 117: loglike=-1.685252e+03 (0.000 seconds)\n",
      "Iteration 118: loglike=-1.685160e+03 (0.000 seconds)\n",
      "Iteration 119: loglike=-1.685062e+03 (0.010 seconds)\n",
      "Iteration 120: loglike=-1.684956e+03 (0.000 seconds)\n",
      "Iteration 121: loglike=-1.684840e+03 (0.010 seconds)\n",
      "Iteration 122: loglike=-1.684713e+03 (0.000 seconds)\n",
      "Iteration 123: loglike=-1.684569e+03 (0.000 seconds)\n",
      "Iteration 124: loglike=-1.684402e+03 (0.010 seconds)\n",
      "Iteration 125: loglike=-1.684201e+03 (0.000 seconds)\n",
      "Iteration 126: loglike=-1.683943e+03 (0.000 seconds)\n",
      "Iteration 127: loglike=-1.683576e+03 (0.010 seconds)\n",
      "Iteration 128: loglike=-1.683032e+03 (0.000 seconds)\n",
      "Iteration 129: loglike=-1.682660e+03 (0.000 seconds)\n",
      "Iteration 130: loglike=-1.682582e+03 (0.010 seconds)\n",
      "Iteration 131: loglike=-1.682508e+03 (0.000 seconds)\n",
      "Iteration 132: loglike=-1.682432e+03 (0.000 seconds)\n",
      "Iteration 133: loglike=-1.682353e+03 (0.010 seconds)\n",
      "Iteration 134: loglike=-1.682270e+03 (0.000 seconds)\n",
      "Iteration 135: loglike=-1.682185e+03 (0.000 seconds)\n",
      "Iteration 136: loglike=-1.682095e+03 (0.010 seconds)\n",
      "Iteration 137: loglike=-1.682002e+03 (0.000 seconds)\n",
      "Iteration 138: loglike=-1.681905e+03 (0.010 seconds)\n",
      "Iteration 139: loglike=-1.681804e+03 (0.000 seconds)\n",
      "Iteration 140: loglike=-1.681698e+03 (0.000 seconds)\n",
      "Iteration 141: loglike=-1.681587e+03 (0.010 seconds)\n",
      "Iteration 142: loglike=-1.681470e+03 (0.000 seconds)\n",
      "Iteration 143: loglike=-1.681348e+03 (0.000 seconds)\n",
      "Iteration 144: loglike=-1.681219e+03 (0.010 seconds)\n",
      "Iteration 145: loglike=-1.681083e+03 (0.000 seconds)\n",
      "Iteration 146: loglike=-1.680939e+03 (0.000 seconds)\n",
      "Iteration 147: loglike=-1.680786e+03 (0.010 seconds)\n",
      "Iteration 148: loglike=-1.680623e+03 (0.000 seconds)\n",
      "Iteration 149: loglike=-1.680450e+03 (0.000 seconds)\n",
      "Iteration 150: loglike=-1.680263e+03 (0.010 seconds)\n",
      "Iteration 151: loglike=-1.680063e+03 (0.000 seconds)\n",
      "Iteration 152: loglike=-1.679845e+03 (0.000 seconds)\n",
      "Iteration 153: loglike=-1.679607e+03 (0.010 seconds)\n",
      "Iteration 154: loglike=-1.679345e+03 (0.000 seconds)\n",
      "Iteration 155: loglike=-1.679052e+03 (0.000 seconds)\n",
      "Iteration 156: loglike=-1.678720e+03 (0.010 seconds)\n",
      "Iteration 157: loglike=-1.678334e+03 (0.000 seconds)\n",
      "Iteration 158: loglike=-1.677869e+03 (0.000 seconds)\n",
      "Iteration 159: loglike=-1.677277e+03 (0.010 seconds)\n",
      "Iteration 160: loglike=-1.676430e+03 (0.000 seconds)\n",
      "Iteration 161: loglike=-1.674861e+03 (0.000 seconds)\n",
      "Iteration 162: loglike=-1.669876e+03 (0.010 seconds)\n",
      "Iteration 163: loglike=-1.663465e+03 (0.000 seconds)\n",
      "Iteration 164: loglike=-1.662987e+03 (0.000 seconds)\n",
      "Iteration 165: loglike=-1.662320e+03 (0.010 seconds)\n",
      "Iteration 166: loglike=-1.661175e+03 (0.000 seconds)\n",
      "Iteration 167: loglike=-1.658055e+03 (0.000 seconds)\n",
      "Iteration 168: loglike=-1.649534e+03 (0.010 seconds)\n",
      "Iteration 169: loglike=-1.649301e+03 (0.000 seconds)\n",
      "Iteration 170: loglike=-1.649034e+03 (0.000 seconds)\n",
      "Iteration 171: loglike=-1.648719e+03 (0.010 seconds)\n",
      "Iteration 172: loglike=-1.648332e+03 (0.000 seconds)\n",
      "Iteration 173: loglike=-1.647822e+03 (0.000 seconds)\n",
      "Iteration 174: loglike=-1.647089e+03 (0.010 seconds)\n",
      "Iteration 175: loglike=-1.646129e+03 (0.000 seconds)\n",
      "Iteration 176: loglike=-1.645418e+03 (0.000 seconds)\n",
      "Iteration 177: loglike=-1.645128e+03 (0.010 seconds)\n",
      "Iteration 178: loglike=-1.644980e+03 (0.000 seconds)\n",
      "Iteration 179: loglike=-1.644819e+03 (0.000 seconds)\n",
      "Iteration 180: loglike=-1.644639e+03 (0.010 seconds)\n",
      "Iteration 181: loglike=-1.644438e+03 (0.000 seconds)\n",
      "Iteration 182: loglike=-1.644209e+03 (0.000 seconds)\n",
      "Iteration 183: loglike=-1.643943e+03 (0.010 seconds)\n",
      "Iteration 184: loglike=-1.643626e+03 (0.000 seconds)\n",
      "Iteration 185: loglike=-1.643232e+03 (0.000 seconds)\n",
      "Iteration 186: loglike=-1.642716e+03 (0.010 seconds)\n",
      "Iteration 187: loglike=-1.641976e+03 (0.000 seconds)\n",
      "Iteration 188: loglike=-1.640771e+03 (0.000 seconds)\n",
      "Iteration 189: loglike=-1.638589e+03 (0.010 seconds)\n",
      "Iteration 190: loglike=-1.630738e+03 (0.000 seconds)\n",
      "Iteration 191: loglike=-1.628391e+03 (0.000 seconds)\n",
      "Iteration 192: loglike=-1.628316e+03 (0.010 seconds)\n",
      "Iteration 193: loglike=-1.628233e+03 (0.000 seconds)\n",
      "Iteration 194: loglike=-1.628141e+03 (0.000 seconds)\n",
      "Iteration 195: loglike=-1.628038e+03 (0.010 seconds)\n",
      "Iteration 196: loglike=-1.627922e+03 (0.000 seconds)\n",
      "Iteration 197: loglike=-1.627787e+03 (0.000 seconds)\n",
      "Iteration 198: loglike=-1.627629e+03 (0.010 seconds)\n",
      "Iteration 199: loglike=-1.627437e+03 (0.000 seconds)\n",
      "Iteration 200: loglike=-1.627195e+03 (0.000 seconds)\n",
      "Iteration 201: loglike=-1.626872e+03 (0.010 seconds)\n",
      "Iteration 202: loglike=-1.626393e+03 (0.000 seconds)\n",
      "Iteration 203: loglike=-1.625527e+03 (0.000 seconds)\n",
      "Iteration 204: loglike=-1.623154e+03 (0.010 seconds)\n",
      "Iteration 205: loglike=-1.614051e+03 (0.000 seconds)\n",
      "Iteration 206: loglike=-1.614047e+03 (0.000 seconds)\n",
      "Converged at iteration 206.\n"
     ]
    }
   ],
   "source": [
    "Q.update(repeat=1000)"
   ]
  },
  {
   "cell_type": "code",
   "execution_count": 42,
   "metadata": {
    "collapsed": false
   },
   "outputs": [
    {
     "data": {
      "image/png": "[encoded data removed]",
      "text/plain": [
       "<matplotlib.figure.Figure at 0x7f8d2fdc9630>"
      ]
     },
     "metadata": {},
     "output_type": "display_data"
    }
   ],
   "source": [
    "%matplotlib inline\n",
    "import bayespy.plot as bpplt\n",
    "bpplt.hinton(R)\n"
   ]
  },
  {
   "cell_type": "code",
   "execution_count": 43,
   "metadata": {
    "collapsed": false
   },
   "outputs": [
    {
     "data": {
      "image/png": "[encoded data removed]",
      "text/plain": [
       "<matplotlib.figure.Figure at 0x7f8d2fd2d2b0>"
      ]
     },
     "metadata": {},
     "output_type": "display_data"
    }
   ],
   "source": [
    "bpplt.hinton(P)\n"
   ]
  },
  {
   "cell_type": "code",
   "execution_count": null,
   "metadata": {
    "collapsed": true
   },
   "outputs": [],
   "source": []
  }
 ],
 "metadata": {
  "kernelspec": {
   "display_name": "Python 3",
   "language": "python",
   "name": "python3"
  },
  "language_info": {
   "codemirror_mode": {
    "name": "ipython",
    "version": 3
   },
   "file_extension": ".py",
   "mimetype": "text/x-python",
   "name": "python",
   "nbconvert_exporter": "python",
   "pygments_lexer": "ipython3",
   "version": "3.5.1"
  }
 },
 "nbformat": 4,
 "nbformat_minor": 0
}
