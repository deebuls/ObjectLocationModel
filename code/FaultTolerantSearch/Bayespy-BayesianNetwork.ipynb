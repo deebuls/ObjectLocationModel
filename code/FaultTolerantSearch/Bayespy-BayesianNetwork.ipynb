{
 "cells": [
  {
   "cell_type": "markdown",
   "metadata": {},
   "source": [
    "# Example from here \n",
    "https://github.com/bayespy/bayespy/issues/23"
   ]
  },
  {
   "cell_type": "code",
   "execution_count": 1,
   "metadata": {
    "collapsed": true
   },
   "outputs": [],
   "source": [
    "import numpy as np\n",
    "\n",
    "from bayespy.nodes import Categorical, Mixture\n",
    "from bayespy.inference import VB\n",
    "\n"
   ]
  },
  {
   "cell_type": "code",
   "execution_count": 42,
   "metadata": {
    "collapsed": false
   },
   "outputs": [
    {
     "name": "stdout",
     "output_type": "stream",
     "text": [
      "Iteration 1: loglike=-2.131932e-01 (0.001 seconds)\n",
      "Iteration 2: loglike=-2.131932e-01 (0.001 seconds)\n",
      "Converged at iteration 2.\n",
      "Iteration 1: loglike=-2.132054e-01 (0.002 seconds)\n",
      "Iteration 2: loglike=-2.132054e-01 (0.002 seconds)\n",
      "Converged at iteration 2.\n",
      "Iteration 1: loglike=-2.132417e-01 (0.002 seconds)\n",
      "Iteration 2: loglike=-2.132417e-01 (0.001 seconds)\n",
      "Converged at iteration 2.\n",
      "P(object_presence): 0.194103793971\n",
      "P(detection_probability): 0.0\n"
     ]
    }
   ],
   "source": [
    "# NOTE: Python's built-in booleans don't work nicely for indexing, thus define\n",
    "# own variables:\n",
    "FALSE = 0\n",
    "TRUE = 1\n",
    "\n",
    "object_presence = Categorical([0.8, 0.2])\n",
    "detection_probability = Mixture(object_presence, Categorical, [[0.81, 0.19], [0.8, 0.2]])\n",
    "\n",
    "detection_probability.observe(FALSE)\n",
    "Q = VB( detection_probability, object_presence)\n",
    "Q.update(repeat=100)\n",
    "\n",
    "detection_probability = Mixture(object_presence, Categorical, [[0.81, 0.19], [0.8, 0.2]])\n",
    "detection_probability.observe(FALSE)\n",
    "Q = VB( detection_probability, object_presence)\n",
    "Q.update(repeat=100)\n",
    "detection_probability = Mixture(object_presence, Categorical, [[0.81, 0.19], [0.8, 0.2]])\n",
    "detection_probability.observe(FALSE)\n",
    "Q = VB( detection_probability, object_presence)\n",
    "Q.update(repeat=100)\n",
    "# Show results\n",
    "print(\"P(object_presence):\", object_presence.get_moments()[0][TRUE])\n",
    "print(\"P(detection_probability):\", detection_probability.get_moments()[0][TRUE])"
   ]
  },
  {
   "cell_type": "code",
   "execution_count": 21,
   "metadata": {
    "collapsed": false
   },
   "outputs": [
    {
     "name": "stdout",
     "output_type": "stream",
     "text": [
      "Iteration 1: loglike=-1.109316e-01 (0.002 seconds)\n",
      "Iteration 2: loglike=-1.109316e-01 (0.001 seconds)\n",
      "Converged at iteration 2.\n",
      "P(asia): 0.446927374302\n",
      "P(tuberculosis): 0.0\n"
     ]
    }
   ],
   "source": [
    "asia = Categorical([0.5, 0.5])\n",
    "\n",
    "tuberculosis = Mixture(asia, Categorical, [[0.99, 0.01], [0.8, 0.2]])\n",
    "\n",
    "# Mark observations\n",
    "tuberculosis.observe(FALSE)\n",
    "\n",
    "# Run inference\n",
    "Q = VB(tuberculosis, asia)\n",
    "Q.update(repeat=100)\n",
    "\n",
    "# Show results\n",
    "print(\"P(asia):\", asia.get_moments()[0][TRUE])\n",
    "print(\"P(tuberculosis):\", tuberculosis.get_moments()[0][TRUE])"
   ]
  },
  {
   "cell_type": "markdown",
   "metadata": {},
   "source": [
    "# pymc bayesian model\n",
    "\n",
    "https://healthyalgorithms.com/2011/11/23/causal-modeling-in-python-bayesian-networks-in-pymc/\n",
    "\n",
    "\n",
    "Didnt understand anyhting . Dont know what lambda is "
   ]
  },
  {
   "cell_type": "code",
   "execution_count": 44,
   "metadata": {
    "collapsed": true
   },
   "outputs": [],
   "source": [
    "import pylab as pl\n",
    "import pymc as mc\n",
    " \n",
    "G_obs = [1.]\n",
    "N = len(G_obs)\n",
    " \n",
    "R = mc.Bernoulli('R', .2, value=pl.ones(N))\n",
    " \n",
    "p_S = mc.Lambda('p_S', lambda R=R: pl.where(R, .01, .4),\n",
    "                doc='Pr[S|R]')\n",
    "S = mc.Bernoulli('S', p_S, value=pl.ones(N))\n",
    " \n",
    "p_G = mc.Lambda('p_G', lambda S=S, R=R:\n",
    "                pl.where(S, pl.where(R, .99, .9), pl.where(R, .8, 0.)),\n",
    "                doc='Pr[G|S,R]')\n",
    "G = mc.Bernoulli('G', p_G, value=G_obs, observed=True)"
   ]
  },
  {
   "cell_type": "markdown",
   "metadata": {},
   "source": [
    "# again Bayespy\n",
    "\n",
    "Using the example from the Dirichlet-Categorical-Bernouli example "
   ]
  },
  {
   "cell_type": "code",
   "execution_count": 56,
   "metadata": {
    "collapsed": false
   },
   "outputs": [
    {
     "name": "stdout",
     "output_type": "stream",
     "text": [
      "Iteration 1: loglike=-2.067864e+00 (0.002 seconds)\n",
      "Iteration 2: loglike=-2.067860e+00 (0.002 seconds)\n",
      "Converged at iteration 2.\n",
      " ~ Categorical(p)\n",
      "  p = \n",
      "[[ 0.84216465  0.07891767  0.07891767]]\n",
      "\n",
      "Iteration 1: loglike=-2.037021e+00 (0.002 seconds)\n",
      "Iteration 2: loglike=-1.944622e+00 (0.002 seconds)\n",
      "Iteration 3: loglike=-1.968142e+00 (0.002 seconds)\n",
      "Converged at iteration 3.\n",
      " ~ Categorical(p)\n",
      "  p = \n",
      "[[ 0.05477229  0.47261385  0.47261385]]\n",
      "\n",
      "Iteration 1: loglike=-2.030486e+00 (0.002 seconds)\n",
      "Iteration 2: loglike=-2.034439e+00 (0.003 seconds)\n",
      "Converged at iteration 2.\n",
      " ~ Categorical(p)\n",
      "  p = \n",
      "[[ 0.00584818  0.49707591  0.49707591]]\n",
      "\n",
      "Iteration 1: loglike=-2.048906e+00 (0.003 seconds)\n",
      "Iteration 2: loglike=-2.049038e+00 (0.002 seconds)\n",
      "Converged at iteration 2.\n",
      " ~ Categorical(p)\n",
      "  p = \n",
      "[[ 0.00142585  0.49928708  0.49928708]]\n",
      "\n"
     ]
    },
    {
     "name": "stderr",
     "output_type": "stream",
     "text": [
      "/home/deebuls/anaconda3/lib/python3.5/site-packages/bayespy/inference/vmp/vmp.py:734: UserWarning: Lower bound decreased 2.352017e-02! Bug somewhere or numerical inaccuracy?\n",
      "  \"numerical inaccuracy?\" % L_diff)\n",
      "/home/deebuls/anaconda3/lib/python3.5/site-packages/bayespy/inference/vmp/vmp.py:734: UserWarning: Lower bound decreased 3.952753e-03! Bug somewhere or numerical inaccuracy?\n",
      "  \"numerical inaccuracy?\" % L_diff)\n",
      "/home/deebuls/anaconda3/lib/python3.5/site-packages/bayespy/inference/vmp/vmp.py:734: UserWarning: Lower bound decreased 1.316867e-04! Bug somewhere or numerical inaccuracy?\n",
      "  \"numerical inaccuracy?\" % L_diff)\n"
     ]
    }
   ],
   "source": [
    "import bayespy as bp\n",
    "\n",
    "\n",
    "# Concentration parameter\n",
    "# adding parameter to share information between the different timezones\n",
    "p = bp.nodes.Dirichlet([0.6,0.2,0.2]) # wito\n",
    "locations = bp.nodes.Categorical(p, plates=(1,))\n",
    "observations = bp.nodes.Mixture(\n",
    "    locations,\n",
    "    bp.nodes.Bernoulli,\n",
    "    [\n",
    "        [0.2, 0.8, 0.8],\n",
    "    ]\n",
    ")\n",
    "observations.observe([True])\n",
    "Q = bp.inference.VB(observations, locations, p)\n",
    "Q.update(repeat=10)\n",
    "print(locations)\n",
    "\n",
    "observations = bp.nodes.Mixture(\n",
    "    locations,\n",
    "    bp.nodes.Bernoulli,\n",
    "    [\n",
    "        [0.2, 0.8, 0.8],\n",
    "    ]\n",
    ")\n",
    "observations.observe([True])\n",
    "Q = bp.inference.VB(observations, locations, p)\n",
    "Q.update(repeat=10)\n",
    "print(locations)\n",
    "\n",
    "observations = bp.nodes.Mixture(\n",
    "    locations,\n",
    "    bp.nodes.Bernoulli,\n",
    "    [\n",
    "        [0.2, 0.8, 0.8],\n",
    "    ]\n",
    ")\n",
    "observations.observe([True])\n",
    "Q = bp.inference.VB(observations, locations, p)\n",
    "Q.update(repeat=10)\n",
    "print(locations)\n",
    "\n",
    "observations = bp.nodes.Mixture(\n",
    "    locations,\n",
    "    bp.nodes.Bernoulli,\n",
    "    [\n",
    "        [0.2, 0.8, 0.8],\n",
    "    ]\n",
    ")\n",
    "observations.observe([True])\n",
    "Q = bp.inference.VB(observations, locations, p)\n",
    "Q.update(repeat=10)\n",
    "print(locations)"
   ]
  },
  {
   "cell_type": "markdown",
   "metadata": {},
   "source": [
    "# Code \n",
    "\n",
    "Modelling from the statistics for spatio temporal data -> page 25\n"
   ]
  },
  {
   "cell_type": "code",
   "execution_count": 103,
   "metadata": {
    "collapsed": false
   },
   "outputs": [],
   "source": [
    "class fault_tolerant_probabilistic_search:\n",
    "    \n",
    "    def __init__(self, occurrence_probability, detection_probability):\n",
    "        \n",
    "        assert (0.0 <= detection_probability <= 1.0) , \\\n",
    "            \"Detection probability is not in range [0.0 - 1.0]\"\n",
    "        assert (0.99 <= sum(occurrence_probability) <= 1.01 ), \\\n",
    "            \"Probabilities dont add up to 1\"\n",
    "            \n",
    "        self.occurrence_probability = occurrence_probability\n",
    "        self.detection_probability = detection_probability\n",
    "        \n",
    "        self.first = True\n",
    "        \n",
    "    def show(self):\n",
    "        \n",
    "        print (\"Probabilities : \", self.occurrence_probability)\n",
    "        \n",
    "    def next_location_to_search(self):\n",
    "        if self.first:\n",
    "            #do nothing in first\n",
    "            self.first = False\n",
    "        else :\n",
    "            # Previous location search failed\n",
    "            # updating probabilities\n",
    "            max_value = max(self.occurrence_probability)\n",
    "            max_index = self.occurrence_probability.index(max_value)\n",
    "            for index, value in enumerate(self.occurrence_probability):\n",
    "                if max_index == index:\n",
    "                    new_prob = ((1 - self.detection_probability) * max_value) / \\\n",
    "                                    (1 - max_value*self.detection_probability)\n",
    "                else:\n",
    "                    #TODO : is it max_value(i.e. old max prob ) or new prob\n",
    "                    new_prob = value / (1 - self.detection_probability*max_value)\n",
    "                    \n",
    "                self.occurrence_probability[index] = new_prob\n",
    "                    \n",
    "            \n",
    "        max_value = max(self.occurrence_probability)\n",
    "        max_index = self.occurrence_probability.index(max_value)\n",
    "        self.show()\n",
    "        return (max_index)\n"
   ]
  },
  {
   "cell_type": "code",
   "execution_count": 105,
   "metadata": {
    "collapsed": false
   },
   "outputs": [
    {
     "name": "stdout",
     "output_type": "stream",
     "text": [
      "Probabilities :  [0.33, 0.33, 0.33]\n",
      "0\n",
      "Probabilities :  [0.08967391304347824, 0.44836956521739135, 0.44836956521739135]\n",
      "1\n",
      "Probabilities :  [0.13983050847457626, 0.13983050847457626, 0.6991525423728815]\n",
      "2\n",
      "Probabilities :  [0.3173076923076924, 0.3173076923076924, 0.3173076923076924]\n",
      "0\n",
      "Probabilities :  [0.08505154639175261, 0.42525773195876304, 0.42525773195876304]\n",
      "1\n",
      "Probabilities :  [0.12890625000000008, 0.12890625000000006, 0.6445312500000003]\n",
      "2\n",
      "Probabilities :  [0.2661290322580649, 0.26612903225806483, 0.2661290322580648]\n",
      "0\n"
     ]
    }
   ],
   "source": [
    "a = fault_tolerant_probabilistic_search([0.33, 0.33, 0.33], 0.8)\n",
    "#a = fault_tolerant_probabilistic_search([1, 2, 2], 0.5)\n",
    "#a = fault_tolerant_probabilistic_search([0.33, 0.33, 0.33], 1.5)\n",
    "print (a.next_location_to_search())\n",
    "print (a.next_location_to_search())\n",
    "print (a.next_location_to_search())\n",
    "print (a.next_location_to_search())\n",
    "print (a.next_location_to_search())\n",
    "print (a.next_location_to_search())\n",
    "print (a.next_location_to_search())"
   ]
  },
  {
   "cell_type": "code",
   "execution_count": 106,
   "metadata": {
    "collapsed": false
   },
   "outputs": [
    {
     "name": "stdout",
     "output_type": "stream",
     "text": [
      "Probabilities :  [0.8, 0.1, 0.1]\n",
      "0\n",
      "Probabilities :  [0.44444444444444453, 0.2777777777777779, 0.2777777777777779]\n",
      "0\n",
      "Probabilities :  [0.13793103448275865, 0.43103448275862094, 0.43103448275862094]\n",
      "1\n",
      "Probabilities :  [0.2105263157894738, 0.13157894736842116, 0.6578947368421059]\n",
      "2\n",
      "Probabilities :  [0.4444444444444452, 0.2777777777777783, 0.2777777777777783]\n",
      "0\n",
      "Probabilities :  [0.13793103448275895, 0.4310344827586219, 0.4310344827586219]\n",
      "1\n",
      "Probabilities :  [0.21052631578947448, 0.13157894736842157, 0.657894736842108]\n",
      "2\n"
     ]
    }
   ],
   "source": [
    "\n",
    "a = fault_tolerant_probabilistic_search([0.8, 0.1, 0.1], 0.8)\n",
    "a = fault_tolerant_probabilistic_search([0.33, 0.33, 0.33], 0.8)\n",
    "#a = fault_tolerant_probabilistic_search([1, 2, 2], 0.5)\n",
    "#a = fault_tolerant_probabilistic_search([0.33, 0.33, 0.33], 1.5)\n",
    "print (a.next_location_to_search())\n",
    "print (a.next_location_to_search())\n",
    "print (a.next_location_to_search())\n",
    "print (a.next_location_to_search())\n",
    "print (a.next_location_to_search())\n",
    "print (a.next_location_to_search())\n",
    "print (a.next_location_to_search())\n",
    "#a = fault_tolerant_probabilistic_search([1, 2, 2], 0.5)\n",
    "#a = fault_tolerant_probabilistic_search([0.33, 0.33, 0.33], 1.5)\n",
    "print (a.next_location_to_search())\n",
    "print (a.next_location_to_search())\n",
    "print (a.next_location_to_search())\n",
    "print (a.next_location_to_search())\n",
    "print (a.next_location_to_search())\n",
    "print (a.next_location_to_search())\n",
    "print (a.next_location_to_search())"
   ]
  }
 ],
 "metadata": {
  "kernelspec": {
   "display_name": "Python 3",
   "language": "python",
   "name": "python3"
  },
  "language_info": {
   "codemirror_mode": {
    "name": "ipython",
    "version": 3
   },
   "file_extension": ".py",
   "mimetype": "text/x-python",
   "name": "python",
   "nbconvert_exporter": "python",
   "pygments_lexer": "ipython3",
   "version": "3.5.2"
  }
 },
 "nbformat": 4,
 "nbformat_minor": 0
}
