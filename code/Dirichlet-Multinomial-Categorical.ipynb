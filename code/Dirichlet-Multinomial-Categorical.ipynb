{
 "cells": [
  {
   "cell_type": "markdown",
   "metadata": {},
   "source": [
    "# Hierarchical Models\n",
    "\n",
    "Human knowledge is arranged hierarchically. The more organized the knowledge is more easy it is for us to retrieve and \n",
    "infer . Here we will look into an example of building an hierarchical model. In hierarchical model the distribution is present in each level. Based on the decisions of the distribution of the higher level affect the lower levels. The below example is taken from https://probmods.org/hierarchical-models.html\n",
    "\n",
    "\n",
    "## Bag of Marbles\n",
    "\n",
    "There are several bags of marbles each containing some colors of marbles. Marbles are drawn at random from each bags. We need to predict the distribution of the marbles in each bags \n",
    "\n",
    "Hierarchical Models can be used to model this problem. \n",
    "Kemp et. al (2007) hierarchical model for Bag of Marbles\n",
    "\n",
    "$\\beta = <1,1,1,1,1>$ \n",
    "\n",
    "$\\theta|\\beta \\sim Dirichlet(\\beta) $\n",
    "\n",
    "$y|\\theta \\sim Multinomial(\\theta)$\n",
    "\n",
    "The graphical model of the model can be drawn as below\n",
    "![Hierarchical Model](images/hierarchicalmodel.png)"
   ]
  },
  {
   "cell_type": "markdown",
   "metadata": {},
   "source": [
    "# Sample Set Generation"
   ]
  },
  {
   "cell_type": "code",
   "execution_count": 1,
   "metadata": {
    "collapsed": true
   },
   "outputs": [],
   "source": [
    "# Some constatnts we will be using \n",
    "\n",
    "n_colors = 5 #Number of colors in each bag\n",
    "n_bags = 3 # Number of bags\n",
    "n_trials = 10"
   ]
  },
  {
   "cell_type": "code",
   "execution_count": 2,
   "metadata": {
    "collapsed": false
   },
   "outputs": [
    {
     "data": {
      "text/plain": [
       "array([[ 0,  0,  0,  0, 10],\n",
       "       [ 0,  0,  0, 10,  0],\n",
       "       [ 3,  0,  0,  0,  7]])"
      ]
     },
     "execution_count": 2,
     "metadata": {},
     "output_type": "execute_result"
    }
   ],
   "source": [
    "from bayespy import nodes\n",
    "import numpy as np\n",
    "\n",
    "beta = 1e-1 * np.ones(n_colors)\n",
    "#Generate some random distributions for the color distribution inside each bags\n",
    "p_color = nodes.Dirichlet(beta,\n",
    "                          plates = (n_bags,)).random()\n",
    "\n",
    "#The marbles drawn based on the distribution for 10 trials\n",
    "draw_marbles = nodes.Multinomial(n_trials,\n",
    "                                 p_color).random()\n",
    "#draw_marbles = nodes.Categorical(p_color,plates=(10,n_bags)).random()\n",
    "draw_marbles"
   ]
  },
  {
   "cell_type": "code",
   "execution_count": 3,
   "metadata": {
    "collapsed": false
   },
   "outputs": [
    {
     "data": {
      "image/png": "[encoded data removed]",
      "text/plain": [
       "<matplotlib.figure.Figure at 0x7f1491d85198>"
      ]
     },
     "metadata": {},
     "output_type": "display_data"
    }
   ],
   "source": [
    "%matplotlib inline\n",
    "import bayespy.plot as bpplt\n",
    "#bpplt.pdf(p_theta.pdf, np.linspace(-10, 20, num=100), color='k', name=r'\\mu')\n",
    "bpplt.hinton(p_color)\n",
    "bpplt.pyplot.title(\"Original Distribution of colors using Multinomial Distribution\")\n",
    "bpplt.pyplot.show()"
   ]
  },
  {
   "cell_type": "markdown",
   "metadata": {},
   "source": [
    "# Model"
   ]
  },
  {
   "cell_type": "code",
   "execution_count": 4,
   "metadata": {
    "collapsed": false
   },
   "outputs": [
    {
     "data": {
      "text/plain": [
       "(3,)"
      ]
     },
     "execution_count": 4,
     "metadata": {},
     "output_type": "execute_result"
    }
   ],
   "source": [
    "from bayespy import nodes\n",
    "import numpy as np\n",
    "\n",
    "p_theta = nodes.Dirichlet(np.ones(n_colors),\n",
    "                          plates=(n_bags,),\n",
    "                          name='p_theta')\n",
    "\n",
    "bag_model = nodes.Multinomial(n_trials,\n",
    "                        p_theta,\n",
    "                        name='bag_model')\n",
    "bag_model.plates"
   ]
  },
  {
   "cell_type": "code",
   "execution_count": 5,
   "metadata": {
    "collapsed": false
   },
   "outputs": [],
   "source": [
    "bag_model.observe(draw_marbles)"
   ]
  },
  {
   "cell_type": "markdown",
   "metadata": {},
   "source": [
    "# Performing Inference"
   ]
  },
  {
   "cell_type": "code",
   "execution_count": 6,
   "metadata": {
    "collapsed": true
   },
   "outputs": [],
   "source": [
    "from bayespy.inference import VB\n",
    "Q = VB(bag_model, p_theta)"
   ]
  },
  {
   "cell_type": "code",
   "execution_count": 7,
   "metadata": {
    "collapsed": false
   },
   "outputs": [
    {
     "name": "stdout",
     "output_type": "stream",
     "text": [
      "Iteration 1: loglike=-2.072626e+01 (0.000 seconds)\n",
      "Iteration 2: loglike=-2.072626e+01 (0.000 seconds)\n",
      "Converged at iteration 2.\n"
     ]
    }
   ],
   "source": [
    "Q.update(repeat=1000)"
   ]
  },
  {
   "cell_type": "code",
   "execution_count": 8,
   "metadata": {
    "collapsed": false
   },
   "outputs": [
    {
     "data": {
      "image/png": "[encoded data removed]",
      "text/plain": [
       "<matplotlib.figure.Figure at 0x7f14980256a0>"
      ]
     },
     "metadata": {},
     "output_type": "display_data"
    }
   ],
   "source": [
    "%matplotlib inline\n",
    "import bayespy.plot as bpplt\n",
    "#bpplt.pdf(p_theta.pdf, np.linspace(-10, 20, num=100), color='k', name=r'\\mu')\n",
    "bpplt.hinton(p_theta)\n",
    "bpplt.pyplot.title(\"Learned Distribution of colors using Multinomial Distribution\")\n",
    "bpplt.pyplot.show()"
   ]
  },
  {
   "cell_type": "markdown",
   "metadata": {},
   "source": [
    "# Using Categorical Distribution\n",
    "\n",
    "The same problem can be solved with categorical distirbution. Categorical distribution is similar to the Multinomical distribution expect for the output it produces.\n",
    "\n",
    "Multinomial and Categorical infer the number of colors from the size of the probability vector (p_theta)\n",
    "Categorical data is in a form where the value tells the index of the color that was picked in a trial. so if n_colors=5, Categorical data could be [4, 4, 0, 1, 1, 2, 4] if the number of trials was 7. \n",
    "\n",
    "multinomial data is such that you have a vector where each element tells how many times that color was picked, for instance, [3, 0, 4] if you have 7 trials.\n",
    "\n",
    "So there is significant difference in Multinomial and Categorical data . Depending on the data you have the choice of the Distribution has to be made.\n",
    "\n",
    "Now we can see an example of Hierarchical model usign categorical data generator and model"
   ]
  },
  {
   "cell_type": "code",
   "execution_count": 9,
   "metadata": {
    "collapsed": true
   },
   "outputs": [],
   "source": [
    "# Some constatnts we will be using \n",
    "\n",
    "n_colors = 5 #Number of colors in each bag\n",
    "n_bags = 3 # Number of bags\n",
    "n_trials = 10"
   ]
  },
  {
   "cell_type": "code",
   "execution_count": 10,
   "metadata": {
    "collapsed": false
   },
   "outputs": [
    {
     "data": {
      "text/plain": [
       "array([[4, 3, 4],\n",
       "       [4, 3, 0],\n",
       "       [4, 3, 0],\n",
       "       [4, 3, 0],\n",
       "       [4, 3, 0],\n",
       "       [4, 3, 4],\n",
       "       [4, 3, 4],\n",
       "       [4, 3, 0],\n",
       "       [4, 3, 0],\n",
       "       [4, 3, 4]])"
      ]
     },
     "execution_count": 10,
     "metadata": {},
     "output_type": "execute_result"
    }
   ],
   "source": [
    "from bayespy import nodes\n",
    "import numpy as np\n",
    "\n",
    "#The marbles drawn based on the distribution for 10 trials\n",
    "# Using same p_color distribution as in the above example\n",
    "draw_marbles = nodes.Categorical(p_color,\n",
    "                                 plates=(n_trials, n_bags)).random()\n",
    "draw_marbles"
   ]
  },
  {
   "cell_type": "markdown",
   "metadata": {},
   "source": [
    "# Model with Categorical Distribution"
   ]
  },
  {
   "cell_type": "code",
   "execution_count": 11,
   "metadata": {
    "collapsed": false
   },
   "outputs": [
    {
     "data": {
      "text/plain": [
       "(10, 3)"
      ]
     },
     "execution_count": 11,
     "metadata": {},
     "output_type": "execute_result"
    }
   ],
   "source": [
    "from bayespy import nodes\n",
    "import numpy as np\n",
    "\n",
    "p_theta = nodes.Dirichlet(np.ones(n_colors),\n",
    "                          plates=(n_bags,),\n",
    "                          name='p_theta')\n",
    "\n",
    "bag_model = nodes.Categorical(p_theta,\n",
    "                        plates=(n_trials, n_bags),\n",
    "                        name='bag_model')\n",
    "bag_model.plates"
   ]
  },
  {
   "cell_type": "markdown",
   "metadata": {},
   "source": [
    "# Observing the data"
   ]
  },
  {
   "cell_type": "code",
   "execution_count": 12,
   "metadata": {
    "collapsed": true
   },
   "outputs": [],
   "source": [
    "bag_model.observe(draw_marbles)"
   ]
  },
  {
   "cell_type": "markdown",
   "metadata": {},
   "source": [
    "# Inference"
   ]
  },
  {
   "cell_type": "code",
   "execution_count": 13,
   "metadata": {
    "collapsed": true
   },
   "outputs": [],
   "source": [
    "from bayespy.inference import VB\n",
    "Q = VB(bag_model, p_theta)"
   ]
  },
  {
   "cell_type": "code",
   "execution_count": 14,
   "metadata": {
    "collapsed": false
   },
   "outputs": [
    {
     "name": "stdout",
     "output_type": "stream",
     "text": [
      "Iteration 1: loglike=-2.607337e+01 (0.000 seconds)\n",
      "Iteration 2: loglike=-2.607337e+01 (0.000 seconds)\n",
      "Converged at iteration 2.\n"
     ]
    }
   ],
   "source": [
    "Q.update(repeat=1000)"
   ]
  },
  {
   "cell_type": "code",
   "execution_count": 15,
   "metadata": {
    "collapsed": false
   },
   "outputs": [
    {
     "data": {
      "image/png": "[encoded data removed]",
      "text/plain": [
       "<matplotlib.figure.Figure at 0x7f1490916c18>"
      ]
     },
     "metadata": {},
     "output_type": "display_data"
    }
   ],
   "source": [
    "%matplotlib inline\n",
    "import bayespy.plot as bpplt\n",
    "bpplt.hinton(p_theta)\n",
    "bpplt.pyplot.tight_layout()\n",
    "bpplt.pyplot.title(\"Learned Distribution of colors using Categorical Distribution\")\n",
    "bpplt.pyplot.show()"
   ]
  },
  {
   "cell_type": "markdown",
   "metadata": {},
   "source": [
    "# Hierarchical Model "
   ]
  },
  {
   "cell_type": "code",
   "execution_count": 34,
   "metadata": {
    "collapsed": false
   },
   "outputs": [
    {
     "data": {
      "text/plain": [
       "(10, 3)"
      ]
     },
     "execution_count": 34,
     "metadata": {},
     "output_type": "execute_result"
    }
   ],
   "source": [
    "from bayespy.nodes import DirichletConcentration\n",
    "\n",
    "from bayespy import nodes\n",
    "import numpy as np\n",
    "\n",
    "p_conc = DirichletConcentration(n_colors)\n",
    "p_conc.initialize_from_value(np.ones(n_colors))\n",
    "p_theta = nodes.Dirichlet(p_conc,\n",
    "                          plates=(n_bags,),\n",
    "                          name='p_theta')\n",
    "\n",
    "bag_model = nodes.Categorical(p_theta,\n",
    "                        plates=(n_trials, n_bags),\n",
    "                        name='bag_model')\n",
    "bag_model.plates"
   ]
  },
  {
   "cell_type": "code",
   "execution_count": 35,
   "metadata": {
    "collapsed": false
   },
   "outputs": [
    {
     "name": "stdout",
     "output_type": "stream",
     "text": [
      "[array([[ 1.,  1.,  1.,  1.,  1.]])]\n",
      "[array([ 1.,  1.,  1.,  1.,  1.]), 3.1780538303479458]\n"
     ]
    }
   ],
   "source": [
    "print(p_theta.get_parameters())\n",
    "print(p_conc.get_moments())"
   ]
  },
  {
   "cell_type": "code",
   "execution_count": 36,
   "metadata": {
    "collapsed": false
   },
   "outputs": [
    {
     "name": "stdout",
     "output_type": "stream",
     "text": [
      "Iteration 1: loglike=-2.328490e+01 (0.010 seconds)\n",
      "Iteration 2: loglike=-1.963016e+01 (0.000 seconds)\n",
      "Iteration 3: loglike=-1.770218e+01 (0.010 seconds)\n",
      "Iteration 4: loglike=-1.651061e+01 (0.000 seconds)\n",
      "Iteration 5: loglike=-1.571798e+01 (0.010 seconds)\n",
      "Iteration 6: loglike=-1.516744e+01 (0.000 seconds)\n",
      "Iteration 7: loglike=-1.477132e+01 (0.000 seconds)\n",
      "Iteration 8: loglike=-1.447727e+01 (0.010 seconds)\n",
      "Iteration 9: loglike=-1.425291e+01 (0.000 seconds)\n",
      "Iteration 10: loglike=-1.407758e+01 (0.010 seconds)\n",
      "Iteration 11: loglike=-1.393768e+01 (0.000 seconds)\n",
      "Iteration 12: loglike=-1.382402e+01 (0.010 seconds)\n",
      "Iteration 13: loglike=-1.373023e+01 (0.000 seconds)\n",
      "Iteration 14: loglike=-1.365177e+01 (0.010 seconds)\n",
      "Iteration 15: loglike=-1.358533e+01 (0.000 seconds)\n",
      "Iteration 16: loglike=-1.352847e+01 (0.010 seconds)\n",
      "Iteration 17: loglike=-1.347936e+01 (0.000 seconds)\n",
      "Iteration 18: loglike=-1.343657e+01 (0.000 seconds)\n",
      "Iteration 19: loglike=-1.339901e+01 (0.010 seconds)\n",
      "Iteration 20: loglike=-1.336582e+01 (0.000 seconds)\n",
      "Iteration 21: loglike=-1.333630e+01 (0.010 seconds)\n",
      "Iteration 22: loglike=-1.330990e+01 (0.000 seconds)\n",
      "Iteration 23: loglike=-1.328617e+01 (0.010 seconds)\n",
      "Iteration 24: loglike=-1.326474e+01 (0.000 seconds)\n",
      "Iteration 25: loglike=-1.324531e+01 (0.010 seconds)\n",
      "Iteration 26: loglike=-1.322761e+01 (0.000 seconds)\n",
      "Iteration 27: loglike=-1.321143e+01 (0.000 seconds)\n",
      "Iteration 28: loglike=-1.319660e+01 (0.010 seconds)\n",
      "Iteration 29: loglike=-1.318295e+01 (0.000 seconds)\n",
      "Iteration 30: loglike=-1.317036e+01 (0.010 seconds)\n",
      "Iteration 31: loglike=-1.315871e+01 (0.000 seconds)\n",
      "Iteration 32: loglike=-1.314790e+01 (0.010 seconds)\n",
      "Iteration 33: loglike=-1.313785e+01 (0.000 seconds)\n",
      "Iteration 34: loglike=-1.312848e+01 (0.000 seconds)\n",
      "Iteration 35: loglike=-1.311973e+01 (0.010 seconds)\n",
      "Iteration 36: loglike=-1.311154e+01 (0.000 seconds)\n",
      "Iteration 37: loglike=-1.310386e+01 (0.010 seconds)\n",
      "Iteration 38: loglike=-1.309665e+01 (0.000 seconds)\n",
      "Iteration 39: loglike=-1.308986e+01 (0.010 seconds)\n",
      "Iteration 40: loglike=-1.308346e+01 (0.000 seconds)\n",
      "Iteration 41: loglike=-1.307742e+01 (0.010 seconds)\n",
      "Iteration 42: loglike=-1.307171e+01 (0.000 seconds)\n",
      "Iteration 43: loglike=-1.306630e+01 (0.000 seconds)\n",
      "Iteration 44: loglike=-1.306117e+01 (0.010 seconds)\n",
      "Iteration 45: loglike=-1.305631e+01 (0.000 seconds)\n",
      "Iteration 46: loglike=-1.305169e+01 (0.010 seconds)\n",
      "Iteration 47: loglike=-1.304729e+01 (0.000 seconds)\n",
      "Iteration 48: loglike=-1.304310e+01 (0.000 seconds)\n",
      "Iteration 49: loglike=-1.303910e+01 (0.010 seconds)\n",
      "Iteration 50: loglike=-1.303529e+01 (0.000 seconds)\n",
      "Iteration 51: loglike=-1.303164e+01 (0.010 seconds)\n",
      "Iteration 52: loglike=-1.302816e+01 (0.000 seconds)\n",
      "Iteration 53: loglike=-1.302483e+01 (0.010 seconds)\n",
      "Iteration 54: loglike=-1.302163e+01 (0.000 seconds)\n",
      "Iteration 55: loglike=-1.301857e+01 (0.000 seconds)\n",
      "Iteration 56: loglike=-1.301563e+01 (0.010 seconds)\n",
      "Iteration 57: loglike=-1.301280e+01 (0.000 seconds)\n",
      "Iteration 58: loglike=-1.301009e+01 (0.010 seconds)\n",
      "Iteration 59: loglike=-1.300748e+01 (0.000 seconds)\n",
      "Iteration 60: loglike=-1.300497e+01 (0.000 seconds)\n",
      "Iteration 61: loglike=-1.300255e+01 (0.010 seconds)\n",
      "Iteration 62: loglike=-1.300022e+01 (0.000 seconds)\n",
      "Iteration 63: loglike=-1.299798e+01 (0.010 seconds)\n",
      "Iteration 64: loglike=-1.299581e+01 (0.000 seconds)\n",
      "Iteration 65: loglike=-1.299371e+01 (0.000 seconds)\n",
      "Iteration 66: loglike=-1.299169e+01 (0.010 seconds)\n",
      "Iteration 67: loglike=-1.298974e+01 (0.000 seconds)\n",
      "Iteration 68: loglike=-1.298785e+01 (0.010 seconds)\n",
      "Iteration 69: loglike=-1.298602e+01 (0.000 seconds)\n",
      "Iteration 70: loglike=-1.298425e+01 (0.000 seconds)\n",
      "Iteration 71: loglike=-1.298253e+01 (0.010 seconds)\n",
      "Iteration 72: loglike=-1.298087e+01 (0.000 seconds)\n",
      "Iteration 73: loglike=-1.297926e+01 (0.010 seconds)\n",
      "Iteration 74: loglike=-1.297770e+01 (0.000 seconds)\n",
      "Iteration 75: loglike=-1.297618e+01 (0.000 seconds)\n",
      "Iteration 76: loglike=-1.297471e+01 (0.000 seconds)\n",
      "Iteration 77: loglike=-1.297328e+01 (0.000 seconds)\n",
      "Iteration 78: loglike=-1.297190e+01 (0.010 seconds)\n",
      "Iteration 79: loglike=-1.297055e+01 (0.000 seconds)\n",
      "Iteration 80: loglike=-1.296924e+01 (0.010 seconds)\n",
      "Iteration 81: loglike=-1.296796e+01 (0.000 seconds)\n",
      "Iteration 82: loglike=-1.296672e+01 (0.010 seconds)\n",
      "Iteration 83: loglike=-1.296551e+01 (0.000 seconds)\n",
      "Iteration 84: loglike=-1.296434e+01 (0.000 seconds)\n",
      "Iteration 85: loglike=-1.296319e+01 (0.010 seconds)\n",
      "Iteration 86: loglike=-1.296208e+01 (0.000 seconds)\n",
      "Iteration 87: loglike=-1.296099e+01 (0.010 seconds)\n",
      "Iteration 88: loglike=-1.295993e+01 (0.000 seconds)\n",
      "Iteration 89: loglike=-1.295890e+01 (0.010 seconds)\n",
      "Iteration 90: loglike=-1.295789e+01 (0.000 seconds)\n",
      "Iteration 91: loglike=-1.295690e+01 (0.010 seconds)\n",
      "Iteration 92: loglike=-1.295594e+01 (0.000 seconds)\n",
      "Iteration 93: loglike=-1.295501e+01 (0.000 seconds)\n",
      "Iteration 94: loglike=-1.295409e+01 (0.010 seconds)\n",
      "Iteration 95: loglike=-1.295320e+01 (0.000 seconds)\n",
      "Iteration 96: loglike=-1.295232e+01 (0.010 seconds)\n",
      "Iteration 97: loglike=-1.295147e+01 (0.000 seconds)\n",
      "Iteration 98: loglike=-1.295063e+01 (0.010 seconds)\n",
      "Iteration 99: loglike=-1.294982e+01 (0.000 seconds)\n",
      "Iteration 100: loglike=-1.294902e+01 (0.000 seconds)\n",
      "Iteration 101: loglike=-1.294824e+01 (0.010 seconds)\n",
      "Iteration 102: loglike=-1.294747e+01 (0.000 seconds)\n",
      "Iteration 103: loglike=-1.294672e+01 (0.010 seconds)\n",
      "Iteration 104: loglike=-1.294599e+01 (0.000 seconds)\n",
      "Iteration 105: loglike=-1.294528e+01 (0.010 seconds)\n",
      "Iteration 106: loglike=-1.294457e+01 (0.000 seconds)\n",
      "Iteration 107: loglike=-1.294389e+01 (0.010 seconds)\n",
      "Iteration 108: loglike=-1.294321e+01 (0.000 seconds)\n",
      "Iteration 109: loglike=-1.294255e+01 (0.000 seconds)\n",
      "Iteration 110: loglike=-1.294190e+01 (0.010 seconds)\n",
      "Iteration 111: loglike=-1.294127e+01 (0.000 seconds)\n",
      "Iteration 112: loglike=-1.294065e+01 (0.010 seconds)\n",
      "Iteration 113: loglike=-1.294004e+01 (0.000 seconds)\n",
      "Iteration 114: loglike=-1.293944e+01 (0.010 seconds)\n",
      "Iteration 115: loglike=-1.293885e+01 (0.000 seconds)\n",
      "Iteration 116: loglike=-1.293828e+01 (0.010 seconds)\n",
      "Iteration 117: loglike=-1.293771e+01 (0.000 seconds)\n",
      "Iteration 118: loglike=-1.293716e+01 (0.000 seconds)\n",
      "Iteration 119: loglike=-1.293661e+01 (0.010 seconds)\n",
      "Iteration 120: loglike=-1.293608e+01 (0.000 seconds)\n",
      "Iteration 121: loglike=-1.293555e+01 (0.010 seconds)\n",
      "Iteration 122: loglike=-1.293504e+01 (0.000 seconds)\n",
      "Iteration 123: loglike=-1.293453e+01 (0.000 seconds)\n",
      "Iteration 124: loglike=-1.293403e+01 (0.010 seconds)\n",
      "Iteration 125: loglike=-1.293354e+01 (0.000 seconds)\n",
      "Iteration 126: loglike=-1.293306e+01 (0.010 seconds)\n",
      "Iteration 127: loglike=-1.293259e+01 (0.000 seconds)\n",
      "Iteration 128: loglike=-1.293212e+01 (0.010 seconds)\n",
      "Iteration 129: loglike=-1.293167e+01 (0.000 seconds)\n",
      "Iteration 130: loglike=-1.293122e+01 (0.010 seconds)\n",
      "Iteration 131: loglike=-1.293078e+01 (0.000 seconds)\n",
      "Iteration 132: loglike=-1.293034e+01 (0.010 seconds)\n",
      "Iteration 133: loglike=-1.292991e+01 (0.000 seconds)\n",
      "Iteration 134: loglike=-1.292949e+01 (0.000 seconds)\n",
      "Iteration 135: loglike=-1.292908e+01 (0.010 seconds)\n",
      "Iteration 136: loglike=-1.292867e+01 (0.000 seconds)\n",
      "Iteration 137: loglike=-1.292827e+01 (0.010 seconds)\n",
      "Iteration 138: loglike=-1.292788e+01 (0.000 seconds)\n",
      "Iteration 139: loglike=-1.292749e+01 (0.010 seconds)\n",
      "Iteration 140: loglike=-1.292711e+01 (0.000 seconds)\n",
      "Iteration 141: loglike=-1.292673e+01 (0.010 seconds)\n",
      "Iteration 142: loglike=-1.292636e+01 (0.000 seconds)\n",
      "Iteration 143: loglike=-1.292599e+01 (0.000 seconds)\n",
      "Iteration 144: loglike=-1.292563e+01 (0.010 seconds)\n",
      "Iteration 145: loglike=-1.292528e+01 (0.000 seconds)\n",
      "Iteration 146: loglike=-1.292493e+01 (0.010 seconds)\n",
      "Iteration 147: loglike=-1.292459e+01 (0.000 seconds)\n",
      "Iteration 148: loglike=-1.292425e+01 (0.010 seconds)\n",
      "Iteration 149: loglike=-1.292391e+01 (0.000 seconds)\n",
      "Iteration 150: loglike=-1.292358e+01 (0.000 seconds)\n",
      "Iteration 151: loglike=-1.292326e+01 (0.010 seconds)\n",
      "Iteration 152: loglike=-1.292294e+01 (0.000 seconds)\n",
      "Iteration 153: loglike=-1.292262e+01 (0.010 seconds)\n",
      "Iteration 154: loglike=-1.292231e+01 (0.000 seconds)\n",
      "Iteration 155: loglike=-1.292201e+01 (0.010 seconds)\n",
      "Iteration 156: loglike=-1.292170e+01 (0.000 seconds)\n",
      "Iteration 157: loglike=-1.292140e+01 (0.010 seconds)\n",
      "Iteration 158: loglike=-1.292111e+01 (0.000 seconds)\n",
      "Iteration 159: loglike=-1.292082e+01 (0.000 seconds)\n",
      "Iteration 160: loglike=-1.292053e+01 (0.010 seconds)\n",
      "Iteration 161: loglike=-1.292025e+01 (0.000 seconds)\n",
      "Iteration 162: loglike=-1.291997e+01 (0.010 seconds)\n",
      "Iteration 163: loglike=-1.291970e+01 (0.000 seconds)\n",
      "Iteration 164: loglike=-1.291942e+01 (0.010 seconds)\n",
      "Iteration 165: loglike=-1.291916e+01 (0.000 seconds)\n",
      "Iteration 166: loglike=-1.291889e+01 (0.010 seconds)\n",
      "Iteration 167: loglike=-1.291863e+01 (0.000 seconds)\n",
      "Iteration 168: loglike=-1.291837e+01 (0.000 seconds)\n",
      "Iteration 169: loglike=-1.291812e+01 (0.010 seconds)\n",
      "Iteration 170: loglike=-1.291787e+01 (0.000 seconds)\n",
      "Iteration 171: loglike=-1.291762e+01 (0.010 seconds)\n",
      "Iteration 172: loglike=-1.291737e+01 (0.000 seconds)\n",
      "Iteration 173: loglike=-1.291713e+01 (0.010 seconds)\n",
      "Iteration 174: loglike=-1.291689e+01 (0.000 seconds)\n",
      "Iteration 175: loglike=-1.291665e+01 (0.000 seconds)\n",
      "Iteration 176: loglike=-1.291642e+01 (0.010 seconds)\n",
      "Iteration 177: loglike=-1.291619e+01 (0.000 seconds)\n",
      "Iteration 178: loglike=-1.291596e+01 (0.010 seconds)\n",
      "Iteration 179: loglike=-1.291574e+01 (0.000 seconds)\n",
      "Iteration 180: loglike=-1.291551e+01 (0.010 seconds)\n",
      "Iteration 181: loglike=-1.291529e+01 (0.000 seconds)\n",
      "Iteration 182: loglike=-1.291508e+01 (0.000 seconds)\n",
      "Iteration 183: loglike=-1.291486e+01 (0.010 seconds)\n",
      "Iteration 184: loglike=-1.291465e+01 (0.000 seconds)\n",
      "Iteration 185: loglike=-1.291444e+01 (0.010 seconds)\n",
      "Iteration 186: loglike=-1.291423e+01 (0.000 seconds)\n",
      "Iteration 187: loglike=-1.291403e+01 (0.010 seconds)\n",
      "Iteration 188: loglike=-1.291382e+01 (0.000 seconds)\n",
      "Iteration 189: loglike=-1.291362e+01 (0.010 seconds)\n",
      "Iteration 190: loglike=-1.291343e+01 (0.000 seconds)\n",
      "Iteration 191: loglike=-1.291323e+01 (0.000 seconds)\n",
      "Iteration 192: loglike=-1.291304e+01 (0.010 seconds)\n",
      "Iteration 193: loglike=-1.291284e+01 (0.000 seconds)\n",
      "Iteration 194: loglike=-1.291265e+01 (0.010 seconds)\n",
      "Iteration 195: loglike=-1.291247e+01 (0.000 seconds)\n",
      "Iteration 196: loglike=-1.291228e+01 (0.010 seconds)\n",
      "Iteration 197: loglike=-1.291210e+01 (0.000 seconds)\n",
      "Iteration 198: loglike=-1.291192e+01 (0.010 seconds)\n",
      "Iteration 199: loglike=-1.291174e+01 (0.000 seconds)\n",
      "Iteration 200: loglike=-1.291156e+01 (0.000 seconds)\n",
      "Iteration 201: loglike=-1.291138e+01 (0.010 seconds)\n",
      "Iteration 202: loglike=-1.291121e+01 (0.000 seconds)\n",
      "Iteration 203: loglike=-1.291104e+01 (0.010 seconds)\n",
      "Iteration 204: loglike=-1.291087e+01 (0.000 seconds)\n",
      "Iteration 205: loglike=-1.291070e+01 (0.010 seconds)\n",
      "Iteration 206: loglike=-1.291053e+01 (0.000 seconds)\n",
      "Iteration 207: loglike=-1.291037e+01 (0.000 seconds)\n",
      "Iteration 208: loglike=-1.291020e+01 (0.010 seconds)\n",
      "Iteration 209: loglike=-1.291004e+01 (0.000 seconds)\n",
      "Iteration 210: loglike=-1.290988e+01 (0.010 seconds)\n",
      "Iteration 211: loglike=-1.290972e+01 (0.000 seconds)\n",
      "Iteration 212: loglike=-1.290957e+01 (0.010 seconds)\n",
      "Iteration 213: loglike=-1.290941e+01 (0.000 seconds)\n",
      "Iteration 214: loglike=-1.290926e+01 (0.010 seconds)\n",
      "Iteration 215: loglike=-1.290910e+01 (0.000 seconds)\n",
      "Iteration 216: loglike=-1.290895e+01 (0.010 seconds)\n",
      "Iteration 217: loglike=-1.290880e+01 (0.000 seconds)\n",
      "Iteration 218: loglike=-1.290866e+01 (0.000 seconds)\n",
      "Iteration 219: loglike=-1.290851e+01 (0.010 seconds)\n",
      "Iteration 220: loglike=-1.290836e+01 (0.000 seconds)\n",
      "Iteration 221: loglike=-1.290822e+01 (0.000 seconds)\n",
      "Iteration 222: loglike=-1.290808e+01 (0.010 seconds)\n",
      "Iteration 223: loglike=-1.290794e+01 (0.000 seconds)\n",
      "Iteration 224: loglike=-1.290780e+01 (0.010 seconds)\n",
      "Iteration 225: loglike=-1.290766e+01 (0.000 seconds)\n",
      "Iteration 226: loglike=-1.290752e+01 (0.010 seconds)\n",
      "Iteration 227: loglike=-1.290739e+01 (0.000 seconds)\n",
      "Iteration 228: loglike=-1.290725e+01 (0.000 seconds)\n",
      "Iteration 229: loglike=-1.290712e+01 (0.010 seconds)\n",
      "Iteration 230: loglike=-1.290699e+01 (0.000 seconds)\n",
      "Iteration 231: loglike=-1.290686e+01 (0.010 seconds)\n",
      "Iteration 232: loglike=-1.290673e+01 (0.000 seconds)\n",
      "Iteration 233: loglike=-1.290660e+01 (0.010 seconds)\n",
      "Converged at iteration 233.\n"
     ]
    }
   ],
   "source": [
    "bag_model.observe(draw_marbles)\n",
    "Q = VB(bag_model, p_theta, p_conc)\n",
    "Q.update(repeat=1000)"
   ]
  },
  {
   "cell_type": "code",
   "execution_count": 28,
   "metadata": {
    "collapsed": false
   },
   "outputs": [
    {
     "data": {
      "image/png": "[encoded data removed]",
      "text/plain": [
       "<matplotlib.figure.Figure at 0x7f1469ea8ba8>"
      ]
     },
     "metadata": {},
     "output_type": "display_data"
    }
   ],
   "source": [
    "%matplotlib inline\n",
    "import bayespy.plot as bpplt\n",
    "bpplt.hinton(p_theta)\n",
    "bpplt.pyplot.tight_layout()\n",
    "bpplt.pyplot.title(\"Learned Distribution of colors using Categorical Distribution\")\n",
    "bpplt.pyplot.show()"
   ]
  },
  {
   "cell_type": "code",
   "execution_count": 37,
   "metadata": {
    "collapsed": false
   },
   "outputs": [
    {
     "name": "stdout",
     "output_type": "stream",
     "text": [
      "[array([[  5.81114891e-02,   7.14805380e-04,   7.14805380e-04,\n",
      "          5.99890749e-02,   1.01324687e+01],\n",
      "       [  5.81114891e-02,   7.14805380e-04,   7.14805380e-04,\n",
      "          1.00599891e+01,   1.32468689e-01],\n",
      "       [  6.05811149e+00,   7.14805380e-04,   7.14805380e-04,\n",
      "          5.99890749e-02,   4.13246869e+00]])]\n",
      "[array([ 0.05810598,  0.00071151,  0.00071151,  0.05998321,  0.13245479]), -20.770895293517469]\n"
     ]
    }
   ],
   "source": [
    "print(p_theta.get_parameters())\n",
    "print(p_conc.get_moments())"
   ]
  },
  {
   "cell_type": "code",
   "execution_count": null,
   "metadata": {
    "collapsed": true
   },
   "outputs": [],
   "source": []
  }
 ],
 "metadata": {
  "kernelspec": {
   "display_name": "Python 3",
   "language": "python",
   "name": "python3"
  },
  "language_info": {
   "codemirror_mode": {
    "name": "ipython",
    "version": 3
   },
   "file_extension": ".py",
   "mimetype": "text/x-python",
   "name": "python",
   "nbconvert_exporter": "python",
   "pygments_lexer": "ipython3",
   "version": "3.5.1"
  }
 },
 "nbformat": 4,
 "nbformat_minor": 0
}
