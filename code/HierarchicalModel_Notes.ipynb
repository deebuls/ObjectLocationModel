{
 "cells": [
  {
   "cell_type": "markdown",
   "metadata": {},
   "source": [
    "# Hierarchical Modelling for Object location Modelling\n",
    "\n",
    "- Can be used in the object modeling if we have data on every time slot\n",
    "- If we collect data only in specific timezone (Morning, afternoon and evening) we can use\n",
    "- But there cannot have missing data . Need a way ti handle missing data\n",
    "- "
   ]
  },
  {
   "cell_type": "code",
   "execution_count": null,
   "metadata": {
    "collapsed": true
   },
   "outputs": [],
   "source": [
    "from bayespy import nodes\n",
    "import numpy as np\n",
    "\n",
    "n_readings = 10 #Number of readings to be generated\n",
    "n_locations = 5 \n",
    "\n",
    "#Generate some random distributions to fill in each timezone\n",
    "p_location = nodes.Dirichlet(1e-1 * np.ones(n_locations),\n",
    "                            plates = (n_timezone,)).random()\n",
    "\n",
    "#Randomly choose the timezone in which the reading is being undertaken\n",
    "reading_timezone_0 = nodes.Categorical(p_location,\n",
    "                                    plates=(n_readings,n_timezone)).random()\n"
   ]
  },
  {
   "cell_type": "code",
   "execution_count": 5,
   "metadata": {
    "collapsed": false
   },
   "outputs": [
    {
     "data": {
      "text/plain": [
       "array([[False, False, False, False, False,  True,  True,  True, False,\n",
       "         True],\n",
       "       [ True,  True, False,  True, False,  True, False,  True, False,\n",
       "         True],\n",
       "       [ True,  True, False,  True,  True, False, False, False, False,\n",
       "        False],\n",
       "       [ True,  True,  True, False, False, False, False, False, False,\n",
       "         True],\n",
       "       [False,  True, False, False, False,  True, False,  True, False,\n",
       "         True]], dtype=bool)"
      ]
     },
     "execution_count": 5,
     "metadata": {},
     "output_type": "execute_result"
    }
   ],
   "source": [
    "p0 = [0.1, 0.9, 0.1, 0.9, 0.1, 0.9, 0.1, 0.9, 0.1, 0.9]\n",
    "p1 = [0.1, 0.1, 0.1, 0.1, 0.1, 0.9, 0.9, 0.9, 0.9, 0.9]\n",
    "p2 = [0.9, 0.9, 0.9, 0.9, 0.9, 0.1, 0.1, 0.1, 0.1, 0.1]\n",
    "\n",
    "import numpy as np\n",
    "p = np.array([p0, p1, p2])\n",
    "\n",
    "from bayespy.utils import random\n",
    "z = random.categorical([1/3, 1/3, 1/3], size=100)\n",
    "\n",
    "x = random.bernoulli(p[z])\n",
    "\n",
    "x[0:5]"
   ]
  },
  {
   "cell_type": "code",
   "execution_count": 3,
   "metadata": {
    "collapsed": true
   },
   "outputs": [],
   "source": [
    "import numpy as np\n",
    "import matplotlib.pyplot as plt\n",
    "def run(N=200, maxiter=10, seed=42, std=2.0, plot=True):\n",
    "\n",
    "    # Use deterministic random numbers\n",
    "    if seed is not None:\n",
    "        np.random.seed(seed)\n",
    "\n",
    "    #\n",
    "    # Generate data\n",
    "    #\n",
    "    \n",
    "    mu = np.array([ [0,0], [3,4], [6,0] ])\n",
    "\n",
    "    K = 3\n",
    "    p0 = np.ones(K) / K\n",
    "    q = 0.9 # probability to stay in the same state\n",
    "    r = (1-q)/(K-1)\n",
    "    P = q*np.identity(K) + r*(np.ones((3,3))-np.identity(3))\n",
    "\n",
    "    y = np.zeros((N,2))\n",
    "    z = np.zeros(N)\n",
    "    state = np.random.choice(K, p=p0)\n",
    "    for n in range(N):\n",
    "        z[n] = state\n",
    "        y[n,:] = std*np.random.randn(2) + mu[state]\n",
    "        state = np.random.choice(K, p=P[state])\n",
    "\n",
    "    plt.figure()\n",
    "\n",
    "    # Plot data\n",
    "    plt.subplot(1,3,1)\n",
    "    plt.axis('equal')\n",
    "    plt.title('True classification')\n",
    "    colors = [ [[1,0,0], [0,1,0], [0,0,1]][int(state)] for state in z ]\n",
    "    plt.plot(y[:,0], y[:,1], 'k-', zorder=-10)\n",
    "    plt.scatter(y[:,0], y[:,1], c=colors, s=40)"
   ]
  },
  {
   "cell_type": "code",
   "execution_count": 5,
   "metadata": {
    "collapsed": false
   },
   "outputs": [
    {
     "data": {
      "image/png": "[encoded data removed]",
      "text/plain": [
       "<matplotlib.figure.Figure at 0x7f9851563c50>"
      ]
     },
     "metadata": {},
     "output_type": "display_data"
    }
   ],
   "source": [
    "%matplotlib inline \n",
    "run()"
   ]
  },
  {
   "cell_type": "code",
   "execution_count": null,
   "metadata": {
    "collapsed": true
   },
   "outputs": [],
   "source": []
  }
 ],
 "metadata": {
  "kernelspec": {
   "display_name": "Python 2",
   "language": "python",
   "name": "python2"
  },
  "language_info": {
   "codemirror_mode": {
    "name": "ipython",
    "version": 2
   },
   "file_extension": ".py",
   "mimetype": "text/x-python",
   "name": "python",
   "nbconvert_exporter": "python",
   "pygments_lexer": "ipython2",
   "version": "2.7.11"
  }
 },
 "nbformat": 4,
 "nbformat_minor": 0
}
